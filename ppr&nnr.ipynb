{
 "cells": [
  {
   "cell_type": "code",
   "execution_count": 1,
   "id": "4fc5d91b",
   "metadata": {},
   "outputs": [],
   "source": [
    "import torch\n",
    "import torch.nn as nn\n",
    "import torch.optim as optim\n",
    "import numpy as np\n",
    "from sklearn.model_selection import train_test_split\n",
    "import matplotlib.pyplot as plt\n",
    "plt.style.use('ggplot')\n",
    "import pandas as pd\n",
    "import numpy as np\n",
    "\n",
    "from sklearn import preprocessing\n",
    "from sklearn import metrics\n",
    "from sklearn.metrics import roc_curve, auc\n",
    "\n",
    "from torch.utils.data import Dataset\n",
    "from torch.utils.data import DataLoader\n",
    "\n",
    "import lightgbm as lgb\n",
    "from sklearn.kernel_ridge import KernelRidge\n",
    "from sklearn import neural_network\n",
    "from sklearn.metrics import mean_squared_error\n",
    "import skpp\n",
    "\n",
    "from multiprocessing import Lock, Manager\n",
    "from multiprocessing.pool import Pool\n",
    "from multiprocessing import cpu_count\n",
    "import time\n",
    "\n",
    "import seaborn\n",
    "\n"
   ]
  },
  {
   "cell_type": "markdown",
   "id": "ca38083a",
   "metadata": {},
   "source": [
    "### first step: generate data ###"
   ]
  },
  {
   "cell_type": "code",
   "execution_count": 2,
   "id": "3f606aa7",
   "metadata": {},
   "outputs": [],
   "source": [
    "d  = 20\n",
    "test_size = 4000\n",
    "nrep = 10\n",
    "beta = np.random.randn(d)"
   ]
  },
  {
   "cell_type": "code",
   "execution_count": 3,
   "id": "9a18da83",
   "metadata": {},
   "outputs": [],
   "source": [
    "def getRandomSamplesOnNSphere(N , numberOfSamples, R = 1):\n",
    "    X = np.random.default_rng().normal(size=(numberOfSamples , N))\n",
    "    return R / np.sqrt(np.sum(X**2, 1, keepdims=True)) * X"
   ]
  },
  {
   "cell_type": "code",
   "execution_count": 4,
   "id": "22ebd7ee",
   "metadata": {},
   "outputs": [],
   "source": [
    "def generate_y(x,beta):\n",
    "    # x is numpy array with (n,d) ,beta is (d) and fixed\n",
    "    N = x.shape[0]\n",
    "    d = x.shape[1]\n",
    "    e = np.random.normal(0, 0.5,size = N)\n",
    "    vector = np.einsum('i,ij -> j', beta,x.T)\n",
    "    fx = np.sqrt(4/10)*vector + np.sqrt(4/10)*(np.sqrt(1/2)*(vector**2-1))+ \\\n",
    "        np.sqrt(2/10)*(np.sqrt(1/10)*(vector**4 - 6*vector**2 + 3))\n",
    "    y = fx + e\n",
    "    return y"
   ]
  },
  {
   "cell_type": "markdown",
   "id": "f710a68e",
   "metadata": {},
   "source": [
    "### second step: model ###"
   ]
  },
  {
   "cell_type": "code",
   "execution_count": 5,
   "id": "fcb8533e",
   "metadata": {},
   "outputs": [],
   "source": [
    "class dataset(Dataset):\n",
    "    def __init__(self, data_tensor, data_target):\n",
    "        self.data_target = data_target\n",
    "        self.data_tensor = data_tensor \n",
    "    \n",
    "    def __len__(self):\n",
    "        return self.data_target.shape[0]\n",
    "\n",
    "    def __getitem__(self, index):\n",
    "        return self.data_tensor[index], self.data_target[index]\n",
    "\n"
   ]
  },
  {
   "cell_type": "code",
   "execution_count": 6,
   "id": "329f29fc",
   "metadata": {},
   "outputs": [],
   "source": [
    "class Model_1(nn.Module):\n",
    "    def __init__(self, input_dim, Nd = 100, drop_rate = 0.0, ):\n",
    "        super(Model_1,self).__init__()\n",
    "        self.model_name = '2 layer linear nn'\n",
    "        \n",
    "        self.hidden_dim = Nd//input_dim\n",
    "        \n",
    "        self.linear1 = nn.Linear(input_dim,self.hidden_dim)\n",
    "        self.act = nn.ReLU()\n",
    "        self.linear2 = nn.Linear(self.hidden_dim,1)\n",
    "\n",
    "        # torch.set_num_threads(1)\n",
    "\n",
    "#         for p in self.linear1.parameters():\n",
    "#             nn.init.normal_(p,mean=0.0,std = 0.001)\n",
    "#         for p in self.linear2.parameters():\n",
    "#             nn.init.normal_(p,mean=0.0,std = 0.001)\n",
    "\n",
    "\n",
    "    def forward(self,x):\n",
    "\n",
    "        x_signal = self.linear1(x)\n",
    "        x_signal = self.act(x_signal)\n",
    "        out = self.linear2(x_signal)\n",
    "\n",
    "        return out"
   ]
  },
  {
   "cell_type": "code",
   "execution_count": 21,
   "id": "21ea42f7",
   "metadata": {},
   "outputs": [],
   "source": [
    "class Model_2(nn.Module):\n",
    "    def __init__(self, input_dim, Nd = 100, drop_rate = 0.0, ):\n",
    "        super(Model_2,self).__init__()\n",
    "        self.model_name = '2 layer linear nn'\n",
    "        \n",
    "        self.hidden_dim = Nd//input_dim\n",
    "        \n",
    "        self.linear1 = nn.Linear(input_dim,self.hidden_dim,bias=False)\n",
    "        self.act = nn.ReLU()\n",
    "\n",
    "        # torch.set_num_threads(1)\n",
    "\n",
    "#         for p in self.linear1.parameters():\n",
    "#             nn.init.normal_(p,mean=0.0,std = 0.001)\n",
    "#         for p in self.linear2.parameters():\n",
    "#             nn.init.normal_(p,mean=0.0,std = 0.001)\n",
    "\n",
    "\n",
    "    def forward(self,x):\n",
    "\n",
    "        x_signal = self.linear1(x)\n",
    "        x_signal = self.act(x_signal)\n",
    "\n",
    "        out = x_signal @ torch.FloatTensor([[1 if x%2==0 else -1 for x in range(x_signal.shape[1])]]).T\n",
    "\n",
    "        return out"
   ]
  },
  {
   "cell_type": "code",
   "execution_count": null,
   "id": "4defd70c",
   "metadata": {},
   "outputs": [
    {
     "name": "stderr",
     "output_type": "stream",
     "text": [
      "/Users/manifect/opt/miniconda3/lib/python3.9/site-packages/sklearn/neural_network/_multilayer_perceptron.py:702: ConvergenceWarning: Stochastic Optimizer: Maximum iterations (500) reached and the optimization hasn't converged yet.\n",
      "  warnings.warn(\n",
      "/Users/manifect/opt/miniconda3/lib/python3.9/site-packages/sklearn/neural_network/_multilayer_perceptron.py:702: ConvergenceWarning: Stochastic Optimizer: Maximum iterations (500) reached and the optimization hasn't converged yet.\n",
      "  warnings.warn(\n"
     ]
    },
    {
     "name": "stdout",
     "output_type": "stream",
     "text": [
      "Nd: 20, N: 20,trainingerror: 0.363366, testerror: 1.293044\n",
      "Nd: 20, N: 24,trainingerror: 0.370348, testerror: 1.040850\n"
     ]
    },
    {
     "name": "stderr",
     "output_type": "stream",
     "text": [
      "/Users/manifect/opt/miniconda3/lib/python3.9/site-packages/sklearn/neural_network/_multilayer_perceptron.py:702: ConvergenceWarning: Stochastic Optimizer: Maximum iterations (500) reached and the optimization hasn't converged yet.\n",
      "  warnings.warn(\n",
      "/Users/manifect/opt/miniconda3/lib/python3.9/site-packages/sklearn/neural_network/_multilayer_perceptron.py:702: ConvergenceWarning: Stochastic Optimizer: Maximum iterations (500) reached and the optimization hasn't converged yet.\n",
      "  warnings.warn(\n"
     ]
    },
    {
     "name": "stdout",
     "output_type": "stream",
     "text": [
      "Nd: 20, N: 27,trainingerror: 0.263967, testerror: 1.511231\n",
      "Nd: 20, N: 32,trainingerror: 0.419383, testerror: 1.484614\n",
      "Nd: 20, N: 37,trainingerror: 0.334996, testerror: 0.933230\n"
     ]
    },
    {
     "name": "stderr",
     "output_type": "stream",
     "text": [
      "/Users/manifect/opt/miniconda3/lib/python3.9/site-packages/sklearn/neural_network/_multilayer_perceptron.py:702: ConvergenceWarning: Stochastic Optimizer: Maximum iterations (500) reached and the optimization hasn't converged yet.\n",
      "  warnings.warn(\n",
      "/Users/manifect/opt/miniconda3/lib/python3.9/site-packages/sklearn/neural_network/_multilayer_perceptron.py:702: ConvergenceWarning: Stochastic Optimizer: Maximum iterations (500) reached and the optimization hasn't converged yet.\n",
      "  warnings.warn(\n"
     ]
    },
    {
     "name": "stdout",
     "output_type": "stream",
     "text": [
      "Nd: 20, N: 43,trainingerror: 0.392479, testerror: 1.170895\n",
      "Nd: 20, N: 50,trainingerror: 0.378210, testerror: 0.941411\n"
     ]
    },
    {
     "name": "stderr",
     "output_type": "stream",
     "text": [
      "/Users/manifect/opt/miniconda3/lib/python3.9/site-packages/sklearn/neural_network/_multilayer_perceptron.py:702: ConvergenceWarning: Stochastic Optimizer: Maximum iterations (500) reached and the optimization hasn't converged yet.\n",
      "  warnings.warn(\n",
      "/Users/manifect/opt/miniconda3/lib/python3.9/site-packages/sklearn/neural_network/_multilayer_perceptron.py:702: ConvergenceWarning: Stochastic Optimizer: Maximum iterations (500) reached and the optimization hasn't converged yet.\n",
      "  warnings.warn(\n"
     ]
    },
    {
     "name": "stdout",
     "output_type": "stream",
     "text": [
      "Nd: 20, N: 58,trainingerror: 0.488688, testerror: 0.862188\n",
      "Nd: 20, N: 67,trainingerror: 0.461434, testerror: 0.947193\n",
      "Nd: 20, N: 78,trainingerror: 0.675755, testerror: 0.797995\n",
      "Nd: 20, N: 90,trainingerror: 0.432399, testerror: 0.794126\n"
     ]
    },
    {
     "name": "stderr",
     "output_type": "stream",
     "text": [
      "/Users/manifect/opt/miniconda3/lib/python3.9/site-packages/sklearn/neural_network/_multilayer_perceptron.py:702: ConvergenceWarning: Stochastic Optimizer: Maximum iterations (500) reached and the optimization hasn't converged yet.\n",
      "  warnings.warn(\n"
     ]
    },
    {
     "name": "stdout",
     "output_type": "stream",
     "text": [
      "Nd: 20, N: 104,trainingerror: 0.364891, testerror: 0.736844\n"
     ]
    },
    {
     "name": "stderr",
     "output_type": "stream",
     "text": [
      "/Users/manifect/opt/miniconda3/lib/python3.9/site-packages/sklearn/neural_network/_multilayer_perceptron.py:702: ConvergenceWarning: Stochastic Optimizer: Maximum iterations (500) reached and the optimization hasn't converged yet.\n",
      "  warnings.warn(\n"
     ]
    },
    {
     "name": "stdout",
     "output_type": "stream",
     "text": [
      "Nd: 20, N: 121,trainingerror: 0.468209, testerror: 0.702435\n"
     ]
    },
    {
     "name": "stderr",
     "output_type": "stream",
     "text": [
      "/Users/manifect/opt/miniconda3/lib/python3.9/site-packages/sklearn/neural_network/_multilayer_perceptron.py:702: ConvergenceWarning: Stochastic Optimizer: Maximum iterations (500) reached and the optimization hasn't converged yet.\n",
      "  warnings.warn(\n"
     ]
    },
    {
     "name": "stdout",
     "output_type": "stream",
     "text": [
      "Nd: 20, N: 141,trainingerror: 0.448155, testerror: 0.615726\n",
      "Nd: 20, N: 163,trainingerror: 0.430130, testerror: 0.681207\n"
     ]
    },
    {
     "name": "stderr",
     "output_type": "stream",
     "text": [
      "/Users/manifect/opt/miniconda3/lib/python3.9/site-packages/sklearn/neural_network/_multilayer_perceptron.py:702: ConvergenceWarning: Stochastic Optimizer: Maximum iterations (500) reached and the optimization hasn't converged yet.\n",
      "  warnings.warn(\n",
      "/Users/manifect/opt/miniconda3/lib/python3.9/site-packages/sklearn/neural_network/_multilayer_perceptron.py:702: ConvergenceWarning: Stochastic Optimizer: Maximum iterations (500) reached and the optimization hasn't converged yet.\n",
      "  warnings.warn(\n",
      "/Users/manifect/opt/miniconda3/lib/python3.9/site-packages/sklearn/neural_network/_multilayer_perceptron.py:702: ConvergenceWarning: Stochastic Optimizer: Maximum iterations (500) reached and the optimization hasn't converged yet.\n",
      "  warnings.warn(\n"
     ]
    },
    {
     "name": "stdout",
     "output_type": "stream",
     "text": [
      "Nd: 20, N: 190,trainingerror: 0.448976, testerror: 0.576608\n",
      "Nd: 20, N: 220,trainingerror: 0.506739, testerror: 0.661256\n"
     ]
    },
    {
     "name": "stderr",
     "output_type": "stream",
     "text": [
      "/Users/manifect/opt/miniconda3/lib/python3.9/site-packages/sklearn/neural_network/_multilayer_perceptron.py:702: ConvergenceWarning: Stochastic Optimizer: Maximum iterations (500) reached and the optimization hasn't converged yet.\n",
      "  warnings.warn(\n"
     ]
    },
    {
     "name": "stdout",
     "output_type": "stream",
     "text": [
      "Nd: 20, N: 256,trainingerror: 0.485109, testerror: 0.607797\n"
     ]
    },
    {
     "name": "stderr",
     "output_type": "stream",
     "text": [
      "/Users/manifect/opt/miniconda3/lib/python3.9/site-packages/sklearn/neural_network/_multilayer_perceptron.py:702: ConvergenceWarning: Stochastic Optimizer: Maximum iterations (500) reached and the optimization hasn't converged yet.\n",
      "  warnings.warn(\n"
     ]
    },
    {
     "name": "stdout",
     "output_type": "stream",
     "text": [
      "Nd: 20, N: 297,trainingerror: 0.438916, testerror: 0.537007\n"
     ]
    },
    {
     "name": "stderr",
     "output_type": "stream",
     "text": [
      "/Users/manifect/opt/miniconda3/lib/python3.9/site-packages/sklearn/neural_network/_multilayer_perceptron.py:702: ConvergenceWarning: Stochastic Optimizer: Maximum iterations (500) reached and the optimization hasn't converged yet.\n",
      "  warnings.warn(\n"
     ]
    },
    {
     "name": "stdout",
     "output_type": "stream",
     "text": [
      "Nd: 20, N: 345,trainingerror: 0.557728, testerror: 0.574723\n",
      "Nd: 20, N: 400,trainingerror: 0.519359, testerror: 0.576048\n"
     ]
    },
    {
     "name": "stderr",
     "output_type": "stream",
     "text": [
      "/Users/manifect/opt/miniconda3/lib/python3.9/site-packages/sklearn/neural_network/_multilayer_perceptron.py:702: ConvergenceWarning: Stochastic Optimizer: Maximum iterations (500) reached and the optimization hasn't converged yet.\n",
      "  warnings.warn(\n"
     ]
    },
    {
     "name": "stdout",
     "output_type": "stream",
     "text": [
      "Nd: 20, N: 465,trainingerror: 0.560415, testerror: 0.610640\n",
      "Nd: 20, N: 540,trainingerror: 0.634111, testerror: 0.615414\n",
      "Nd: 20, N: 627,trainingerror: 0.580545, testerror: 0.557627\n",
      "Nd: 20, N: 729,trainingerror: 0.555109, testerror: 0.564610\n",
      "Nd: 20, N: 846,trainingerror: 0.538157, testerror: 0.515379\n",
      "Nd: 20, N: 983,trainingerror: 0.495651, testerror: 0.514872\n",
      "Nd: 20, N: 1142,trainingerror: 0.461303, testerror: 0.510566\n",
      "Nd: 20, N: 1326,trainingerror: 0.544830, testerror: 0.552209\n",
      "Nd: 20, N: 1541,trainingerror: 0.512148, testerror: 0.524810\n",
      "Nd: 20, N: 1789,trainingerror: 0.555276, testerror: 0.574754\n",
      "Nd: 20, N: 2078,trainingerror: 0.521174, testerror: 0.525400\n",
      "Nd: 20, N: 2414,trainingerror: 0.543270, testerror: 0.557176\n",
      "Nd: 20, N: 2804,trainingerror: 0.578121, testerror: 0.538632\n",
      "Nd: 20, N: 3257,trainingerror: 0.668897, testerror: 0.671951\n",
      "Nd: 20, N: 3783,trainingerror: 0.524901, testerror: 0.501345\n",
      "Nd: 20, N: 4395,trainingerror: 0.521533, testerror: 0.532338\n",
      "Nd: 20, N: 5105,trainingerror: 0.546227, testerror: 0.581808\n",
      "Nd: 20, N: 5930,trainingerror: 0.603923, testerror: 0.611712\n",
      "Nd: 20, N: 6888,trainingerror: 0.511793, testerror: 0.502498\n",
      "Nd: 24, N: 20,trainingerror: 0.259520, testerror: 1.097723\n",
      "Nd: 24, N: 24,trainingerror: 0.165944, testerror: 1.125838\n",
      "Nd: 24, N: 27,trainingerror: 0.252008, testerror: 1.097223\n"
     ]
    },
    {
     "name": "stderr",
     "output_type": "stream",
     "text": [
      "/Users/manifect/opt/miniconda3/lib/python3.9/site-packages/sklearn/neural_network/_multilayer_perceptron.py:702: ConvergenceWarning: Stochastic Optimizer: Maximum iterations (500) reached and the optimization hasn't converged yet.\n",
      "  warnings.warn(\n",
      "/Users/manifect/opt/miniconda3/lib/python3.9/site-packages/sklearn/neural_network/_multilayer_perceptron.py:702: ConvergenceWarning: Stochastic Optimizer: Maximum iterations (500) reached and the optimization hasn't converged yet.\n",
      "  warnings.warn(\n"
     ]
    },
    {
     "name": "stdout",
     "output_type": "stream",
     "text": [
      "Nd: 24, N: 32,trainingerror: 0.199376, testerror: 1.110672\n",
      "Nd: 24, N: 37,trainingerror: 0.254471, testerror: 0.935586\n",
      "Nd: 24, N: 43,trainingerror: 0.189439, testerror: 0.930448\n",
      "Nd: 24, N: 50,trainingerror: 0.132229, testerror: 1.045947\n"
     ]
    },
    {
     "name": "stderr",
     "output_type": "stream",
     "text": [
      "/Users/manifect/opt/miniconda3/lib/python3.9/site-packages/sklearn/neural_network/_multilayer_perceptron.py:702: ConvergenceWarning: Stochastic Optimizer: Maximum iterations (500) reached and the optimization hasn't converged yet.\n",
      "  warnings.warn(\n"
     ]
    },
    {
     "name": "stdout",
     "output_type": "stream",
     "text": [
      "Nd: 24, N: 58,trainingerror: 0.181598, testerror: 0.926633\n",
      "Nd: 24, N: 67,trainingerror: 0.217464, testerror: 0.903612\n"
     ]
    },
    {
     "name": "stderr",
     "output_type": "stream",
     "text": [
      "/Users/manifect/opt/miniconda3/lib/python3.9/site-packages/sklearn/neural_network/_multilayer_perceptron.py:702: ConvergenceWarning: Stochastic Optimizer: Maximum iterations (500) reached and the optimization hasn't converged yet.\n",
      "  warnings.warn(\n",
      "/Users/manifect/opt/miniconda3/lib/python3.9/site-packages/sklearn/neural_network/_multilayer_perceptron.py:702: ConvergenceWarning: Stochastic Optimizer: Maximum iterations (500) reached and the optimization hasn't converged yet.\n",
      "  warnings.warn(\n"
     ]
    },
    {
     "name": "stdout",
     "output_type": "stream",
     "text": [
      "Nd: 24, N: 78,trainingerror: 0.286527, testerror: 0.961570\n"
     ]
    },
    {
     "name": "stderr",
     "output_type": "stream",
     "text": [
      "/Users/manifect/opt/miniconda3/lib/python3.9/site-packages/sklearn/neural_network/_multilayer_perceptron.py:702: ConvergenceWarning: Stochastic Optimizer: Maximum iterations (500) reached and the optimization hasn't converged yet.\n",
      "  warnings.warn(\n",
      "/Users/manifect/opt/miniconda3/lib/python3.9/site-packages/sklearn/neural_network/_multilayer_perceptron.py:702: ConvergenceWarning: Stochastic Optimizer: Maximum iterations (500) reached and the optimization hasn't converged yet.\n",
      "  warnings.warn(\n",
      "/Users/manifect/opt/miniconda3/lib/python3.9/site-packages/sklearn/neural_network/_multilayer_perceptron.py:702: ConvergenceWarning: Stochastic Optimizer: Maximum iterations (500) reached and the optimization hasn't converged yet.\n",
      "  warnings.warn(\n",
      "/Users/manifect/opt/miniconda3/lib/python3.9/site-packages/sklearn/neural_network/_multilayer_perceptron.py:702: ConvergenceWarning: Stochastic Optimizer: Maximum iterations (500) reached and the optimization hasn't converged yet.\n",
      "  warnings.warn(\n",
      "/Users/manifect/opt/miniconda3/lib/python3.9/site-packages/sklearn/neural_network/_multilayer_perceptron.py:702: ConvergenceWarning: Stochastic Optimizer: Maximum iterations (500) reached and the optimization hasn't converged yet.\n",
      "  warnings.warn(\n",
      "/Users/manifect/opt/miniconda3/lib/python3.9/site-packages/sklearn/neural_network/_multilayer_perceptron.py:702: ConvergenceWarning: Stochastic Optimizer: Maximum iterations (500) reached and the optimization hasn't converged yet.\n",
      "  warnings.warn(\n"
     ]
    },
    {
     "name": "stdout",
     "output_type": "stream",
     "text": [
      "Nd: 24, N: 90,trainingerror: 0.326362, testerror: 0.798033\n",
      "Nd: 24, N: 104,trainingerror: 0.369754, testerror: 0.882940\n"
     ]
    },
    {
     "name": "stderr",
     "output_type": "stream",
     "text": [
      "/Users/manifect/opt/miniconda3/lib/python3.9/site-packages/sklearn/neural_network/_multilayer_perceptron.py:702: ConvergenceWarning: Stochastic Optimizer: Maximum iterations (500) reached and the optimization hasn't converged yet.\n",
      "  warnings.warn(\n",
      "/Users/manifect/opt/miniconda3/lib/python3.9/site-packages/sklearn/neural_network/_multilayer_perceptron.py:702: ConvergenceWarning: Stochastic Optimizer: Maximum iterations (500) reached and the optimization hasn't converged yet.\n",
      "  warnings.warn(\n",
      "/Users/manifect/opt/miniconda3/lib/python3.9/site-packages/sklearn/neural_network/_multilayer_perceptron.py:702: ConvergenceWarning: Stochastic Optimizer: Maximum iterations (500) reached and the optimization hasn't converged yet.\n",
      "  warnings.warn(\n"
     ]
    },
    {
     "name": "stdout",
     "output_type": "stream",
     "text": [
      "Nd: 24, N: 121,trainingerror: 0.436769, testerror: 0.851378\n"
     ]
    },
    {
     "name": "stderr",
     "output_type": "stream",
     "text": [
      "/Users/manifect/opt/miniconda3/lib/python3.9/site-packages/sklearn/neural_network/_multilayer_perceptron.py:702: ConvergenceWarning: Stochastic Optimizer: Maximum iterations (500) reached and the optimization hasn't converged yet.\n",
      "  warnings.warn(\n"
     ]
    },
    {
     "name": "stdout",
     "output_type": "stream",
     "text": [
      "Nd: 24, N: 141,trainingerror: 0.271587, testerror: 0.795586\n",
      "Nd: 24, N: 163,trainingerror: 0.324028, testerror: 0.628651\n"
     ]
    },
    {
     "name": "stderr",
     "output_type": "stream",
     "text": [
      "/Users/manifect/opt/miniconda3/lib/python3.9/site-packages/sklearn/neural_network/_multilayer_perceptron.py:702: ConvergenceWarning: Stochastic Optimizer: Maximum iterations (500) reached and the optimization hasn't converged yet.\n",
      "  warnings.warn(\n"
     ]
    },
    {
     "name": "stdout",
     "output_type": "stream",
     "text": [
      "Nd: 24, N: 190,trainingerror: 0.343959, testerror: 0.633150\n",
      "Nd: 24, N: 220,trainingerror: 0.430432, testerror: 0.616133\n",
      "Nd: 24, N: 256,trainingerror: 0.401053, testerror: 0.634412\n"
     ]
    },
    {
     "name": "stderr",
     "output_type": "stream",
     "text": [
      "/Users/manifect/opt/miniconda3/lib/python3.9/site-packages/sklearn/neural_network/_multilayer_perceptron.py:702: ConvergenceWarning: Stochastic Optimizer: Maximum iterations (500) reached and the optimization hasn't converged yet.\n",
      "  warnings.warn(\n"
     ]
    },
    {
     "name": "stdout",
     "output_type": "stream",
     "text": [
      "Nd: 24, N: 297,trainingerror: 0.504854, testerror: 0.650608\n"
     ]
    },
    {
     "name": "stderr",
     "output_type": "stream",
     "text": [
      "/Users/manifect/opt/miniconda3/lib/python3.9/site-packages/sklearn/neural_network/_multilayer_perceptron.py:702: ConvergenceWarning: Stochastic Optimizer: Maximum iterations (500) reached and the optimization hasn't converged yet.\n",
      "  warnings.warn(\n"
     ]
    },
    {
     "name": "stdout",
     "output_type": "stream",
     "text": [
      "Nd: 24, N: 345,trainingerror: 0.488376, testerror: 0.608105\n"
     ]
    },
    {
     "name": "stderr",
     "output_type": "stream",
     "text": [
      "/Users/manifect/opt/miniconda3/lib/python3.9/site-packages/sklearn/neural_network/_multilayer_perceptron.py:702: ConvergenceWarning: Stochastic Optimizer: Maximum iterations (500) reached and the optimization hasn't converged yet.\n",
      "  warnings.warn(\n"
     ]
    },
    {
     "name": "stdout",
     "output_type": "stream",
     "text": [
      "Nd: 24, N: 400,trainingerror: 0.411224, testerror: 0.563496\n"
     ]
    },
    {
     "name": "stderr",
     "output_type": "stream",
     "text": [
      "/Users/manifect/opt/miniconda3/lib/python3.9/site-packages/sklearn/neural_network/_multilayer_perceptron.py:702: ConvergenceWarning: Stochastic Optimizer: Maximum iterations (500) reached and the optimization hasn't converged yet.\n",
      "  warnings.warn(\n"
     ]
    },
    {
     "name": "stdout",
     "output_type": "stream",
     "text": [
      "Nd: 24, N: 465,trainingerror: 0.423740, testerror: 0.540413\n",
      "Nd: 24, N: 540,trainingerror: 0.371177, testerror: 0.514721\n",
      "Nd: 24, N: 627,trainingerror: 0.402871, testerror: 0.534676\n",
      "Nd: 24, N: 729,trainingerror: 0.498069, testerror: 0.555296\n",
      "Nd: 24, N: 846,trainingerror: 0.494258, testerror: 0.512508\n",
      "Nd: 24, N: 983,trainingerror: 0.426437, testerror: 0.497835\n",
      "Nd: 24, N: 1142,trainingerror: 0.504131, testerror: 0.511573\n",
      "Nd: 24, N: 1326,trainingerror: 0.506555, testerror: 0.505855\n",
      "Nd: 24, N: 1541,trainingerror: 0.459433, testerror: 0.466836\n",
      "Nd: 24, N: 1789,trainingerror: 0.434612, testerror: 0.452162\n",
      "Nd: 24, N: 2078,trainingerror: 0.481799, testerror: 0.505992\n",
      "Nd: 24, N: 2414,trainingerror: 0.505180, testerror: 0.482358\n",
      "Nd: 24, N: 2804,trainingerror: 0.450703, testerror: 0.497196\n",
      "Nd: 24, N: 3257,trainingerror: 0.441398, testerror: 0.436992\n",
      "Nd: 24, N: 3783,trainingerror: 0.471156, testerror: 0.472527\n",
      "Nd: 24, N: 4395,trainingerror: 0.479157, testerror: 0.464788\n",
      "Nd: 24, N: 5105,trainingerror: 0.440345, testerror: 0.430509\n",
      "Nd: 24, N: 5930,trainingerror: 0.443794, testerror: 0.423501\n",
      "Nd: 24, N: 6888,trainingerror: 0.416865, testerror: 0.439895\n"
     ]
    },
    {
     "name": "stderr",
     "output_type": "stream",
     "text": [
      "/Users/manifect/opt/miniconda3/lib/python3.9/site-packages/sklearn/neural_network/_multilayer_perceptron.py:702: ConvergenceWarning: Stochastic Optimizer: Maximum iterations (500) reached and the optimization hasn't converged yet.\n",
      "  warnings.warn(\n"
     ]
    },
    {
     "name": "stdout",
     "output_type": "stream",
     "text": [
      "Nd: 27, N: 20,trainingerror: 0.293112, testerror: 3.672260\n",
      "Nd: 27, N: 24,trainingerror: 0.178159, testerror: 1.024329\n",
      "Nd: 27, N: 27,trainingerror: 0.166845, testerror: 1.077923\n"
     ]
    },
    {
     "name": "stderr",
     "output_type": "stream",
     "text": [
      "/Users/manifect/opt/miniconda3/lib/python3.9/site-packages/sklearn/neural_network/_multilayer_perceptron.py:702: ConvergenceWarning: Stochastic Optimizer: Maximum iterations (500) reached and the optimization hasn't converged yet.\n",
      "  warnings.warn(\n"
     ]
    },
    {
     "name": "stdout",
     "output_type": "stream",
     "text": [
      "Nd: 27, N: 32,trainingerror: 0.099778, testerror: 1.042403\n",
      "Nd: 27, N: 37,trainingerror: 0.135770, testerror: 1.140756\n",
      "Nd: 27, N: 43,trainingerror: 0.059657, testerror: 1.433050\n"
     ]
    },
    {
     "name": "stderr",
     "output_type": "stream",
     "text": [
      "/Users/manifect/opt/miniconda3/lib/python3.9/site-packages/sklearn/neural_network/_multilayer_perceptron.py:702: ConvergenceWarning: Stochastic Optimizer: Maximum iterations (500) reached and the optimization hasn't converged yet.\n",
      "  warnings.warn(\n"
     ]
    },
    {
     "name": "stdout",
     "output_type": "stream",
     "text": [
      "Nd: 27, N: 50,trainingerror: 0.196416, testerror: 1.561595\n",
      "Nd: 27, N: 58,trainingerror: 0.448094, testerror: 0.921878\n",
      "Nd: 27, N: 67,trainingerror: 0.277420, testerror: 1.373199\n"
     ]
    },
    {
     "name": "stderr",
     "output_type": "stream",
     "text": [
      "/Users/manifect/opt/miniconda3/lib/python3.9/site-packages/sklearn/neural_network/_multilayer_perceptron.py:702: ConvergenceWarning: Stochastic Optimizer: Maximum iterations (500) reached and the optimization hasn't converged yet.\n",
      "  warnings.warn(\n"
     ]
    },
    {
     "name": "stdout",
     "output_type": "stream",
     "text": [
      "Nd: 27, N: 78,trainingerror: 0.269765, testerror: 0.962233\n"
     ]
    },
    {
     "name": "stderr",
     "output_type": "stream",
     "text": [
      "/Users/manifect/opt/miniconda3/lib/python3.9/site-packages/sklearn/neural_network/_multilayer_perceptron.py:702: ConvergenceWarning: Stochastic Optimizer: Maximum iterations (500) reached and the optimization hasn't converged yet.\n",
      "  warnings.warn(\n",
      "/Users/manifect/opt/miniconda3/lib/python3.9/site-packages/sklearn/neural_network/_multilayer_perceptron.py:702: ConvergenceWarning: Stochastic Optimizer: Maximum iterations (500) reached and the optimization hasn't converged yet.\n",
      "  warnings.warn(\n"
     ]
    },
    {
     "name": "stdout",
     "output_type": "stream",
     "text": [
      "Nd: 27, N: 90,trainingerror: 0.206978, testerror: 0.783068\n"
     ]
    },
    {
     "name": "stderr",
     "output_type": "stream",
     "text": [
      "/Users/manifect/opt/miniconda3/lib/python3.9/site-packages/sklearn/neural_network/_multilayer_perceptron.py:702: ConvergenceWarning: Stochastic Optimizer: Maximum iterations (500) reached and the optimization hasn't converged yet.\n",
      "  warnings.warn(\n",
      "/Users/manifect/opt/miniconda3/lib/python3.9/site-packages/sklearn/neural_network/_multilayer_perceptron.py:702: ConvergenceWarning: Stochastic Optimizer: Maximum iterations (500) reached and the optimization hasn't converged yet.\n",
      "  warnings.warn(\n",
      "/Users/manifect/opt/miniconda3/lib/python3.9/site-packages/sklearn/neural_network/_multilayer_perceptron.py:702: ConvergenceWarning: Stochastic Optimizer: Maximum iterations (500) reached and the optimization hasn't converged yet.\n",
      "  warnings.warn(\n"
     ]
    },
    {
     "name": "stdout",
     "output_type": "stream",
     "text": [
      "Nd: 27, N: 104,trainingerror: 0.283715, testerror: 0.804833\n",
      "Nd: 27, N: 121,trainingerror: 0.287651, testerror: 0.779012\n",
      "Nd: 27, N: 141,trainingerror: 0.351811, testerror: 0.707445\n",
      "Nd: 27, N: 163,trainingerror: 0.302551, testerror: 0.699549\n",
      "Nd: 27, N: 190,trainingerror: 0.368953, testerror: 0.614977\n",
      "Nd: 27, N: 220,trainingerror: 0.467863, testerror: 0.635205\n"
     ]
    },
    {
     "name": "stderr",
     "output_type": "stream",
     "text": [
      "/Users/manifect/opt/miniconda3/lib/python3.9/site-packages/sklearn/neural_network/_multilayer_perceptron.py:702: ConvergenceWarning: Stochastic Optimizer: Maximum iterations (500) reached and the optimization hasn't converged yet.\n",
      "  warnings.warn(\n"
     ]
    },
    {
     "name": "stdout",
     "output_type": "stream",
     "text": [
      "Nd: 27, N: 256,trainingerror: 0.391913, testerror: 0.634218\n"
     ]
    },
    {
     "name": "stderr",
     "output_type": "stream",
     "text": [
      "/Users/manifect/opt/miniconda3/lib/python3.9/site-packages/sklearn/neural_network/_multilayer_perceptron.py:702: ConvergenceWarning: Stochastic Optimizer: Maximum iterations (500) reached and the optimization hasn't converged yet.\n",
      "  warnings.warn(\n"
     ]
    },
    {
     "name": "stdout",
     "output_type": "stream",
     "text": [
      "Nd: 27, N: 297,trainingerror: 0.434602, testerror: 0.607039\n",
      "Nd: 27, N: 345,trainingerror: 0.418140, testerror: 0.618078\n"
     ]
    },
    {
     "name": "stderr",
     "output_type": "stream",
     "text": [
      "/Users/manifect/opt/miniconda3/lib/python3.9/site-packages/sklearn/neural_network/_multilayer_perceptron.py:702: ConvergenceWarning: Stochastic Optimizer: Maximum iterations (500) reached and the optimization hasn't converged yet.\n",
      "  warnings.warn(\n",
      "/Users/manifect/opt/miniconda3/lib/python3.9/site-packages/sklearn/neural_network/_multilayer_perceptron.py:702: ConvergenceWarning: Stochastic Optimizer: Maximum iterations (500) reached and the optimization hasn't converged yet.\n",
      "  warnings.warn(\n"
     ]
    },
    {
     "name": "stdout",
     "output_type": "stream",
     "text": [
      "Nd: 27, N: 400,trainingerror: 0.390050, testerror: 0.548551\n",
      "Nd: 27, N: 465,trainingerror: 0.433024, testerror: 0.517149\n",
      "Nd: 27, N: 540,trainingerror: 0.450195, testerror: 0.561855\n",
      "Nd: 27, N: 627,trainingerror: 0.454513, testerror: 0.551922\n",
      "Nd: 27, N: 729,trainingerror: 0.414155, testerror: 0.509141\n",
      "Nd: 27, N: 846,trainingerror: 0.484691, testerror: 0.499227\n",
      "Nd: 27, N: 983,trainingerror: 0.453545, testerror: 0.545753\n",
      "Nd: 27, N: 1142,trainingerror: 0.443272, testerror: 0.485808\n",
      "Nd: 27, N: 1326,trainingerror: 0.490622, testerror: 0.504823\n",
      "Nd: 27, N: 1541,trainingerror: 0.465535, testerror: 0.486149\n",
      "Nd: 27, N: 1789,trainingerror: 0.570073, testerror: 0.549015\n",
      "Nd: 27, N: 2078,trainingerror: 0.433560, testerror: 0.464089\n",
      "Nd: 27, N: 2414,trainingerror: 0.442256, testerror: 0.484398\n",
      "Nd: 27, N: 2804,trainingerror: 0.490609, testerror: 0.492407\n",
      "Nd: 27, N: 3257,trainingerror: 0.504451, testerror: 0.524966\n",
      "Nd: 27, N: 3783,trainingerror: 0.421965, testerror: 0.426433\n",
      "Nd: 27, N: 4395,trainingerror: 0.451504, testerror: 0.442286\n",
      "Nd: 27, N: 5105,trainingerror: 0.428251, testerror: 0.413864\n",
      "Nd: 27, N: 5930,trainingerror: 0.473917, testerror: 0.434527\n",
      "Nd: 27, N: 6888,trainingerror: 0.460172, testerror: 0.496499\n"
     ]
    },
    {
     "name": "stderr",
     "output_type": "stream",
     "text": [
      "/Users/manifect/opt/miniconda3/lib/python3.9/site-packages/sklearn/neural_network/_multilayer_perceptron.py:702: ConvergenceWarning: Stochastic Optimizer: Maximum iterations (500) reached and the optimization hasn't converged yet.\n",
      "  warnings.warn(\n"
     ]
    },
    {
     "name": "stdout",
     "output_type": "stream",
     "text": [
      "Nd: 32, N: 20,trainingerror: 0.240121, testerror: 1.726661\n",
      "Nd: 32, N: 24,trainingerror: 0.165730, testerror: 1.304625\n"
     ]
    },
    {
     "name": "stderr",
     "output_type": "stream",
     "text": [
      "/Users/manifect/opt/miniconda3/lib/python3.9/site-packages/sklearn/neural_network/_multilayer_perceptron.py:702: ConvergenceWarning: Stochastic Optimizer: Maximum iterations (500) reached and the optimization hasn't converged yet.\n",
      "  warnings.warn(\n",
      "/Users/manifect/opt/miniconda3/lib/python3.9/site-packages/sklearn/neural_network/_multilayer_perceptron.py:702: ConvergenceWarning: Stochastic Optimizer: Maximum iterations (500) reached and the optimization hasn't converged yet.\n",
      "  warnings.warn(\n"
     ]
    },
    {
     "name": "stdout",
     "output_type": "stream",
     "text": [
      "Nd: 32, N: 27,trainingerror: 0.110638, testerror: 1.329657\n",
      "Nd: 32, N: 32,trainingerror: 0.258881, testerror: 0.975274\n"
     ]
    },
    {
     "name": "stderr",
     "output_type": "stream",
     "text": [
      "/Users/manifect/opt/miniconda3/lib/python3.9/site-packages/sklearn/neural_network/_multilayer_perceptron.py:702: ConvergenceWarning: Stochastic Optimizer: Maximum iterations (500) reached and the optimization hasn't converged yet.\n",
      "  warnings.warn(\n",
      "/Users/manifect/opt/miniconda3/lib/python3.9/site-packages/sklearn/neural_network/_multilayer_perceptron.py:702: ConvergenceWarning: Stochastic Optimizer: Maximum iterations (500) reached and the optimization hasn't converged yet.\n",
      "  warnings.warn(\n"
     ]
    },
    {
     "name": "stdout",
     "output_type": "stream",
     "text": [
      "Nd: 32, N: 37,trainingerror: 0.106879, testerror: 1.222387\n",
      "Nd: 32, N: 43,trainingerror: 0.158490, testerror: 1.208204\n"
     ]
    },
    {
     "name": "stderr",
     "output_type": "stream",
     "text": [
      "/Users/manifect/opt/miniconda3/lib/python3.9/site-packages/sklearn/neural_network/_multilayer_perceptron.py:702: ConvergenceWarning: Stochastic Optimizer: Maximum iterations (500) reached and the optimization hasn't converged yet.\n",
      "  warnings.warn(\n",
      "/Users/manifect/opt/miniconda3/lib/python3.9/site-packages/sklearn/neural_network/_multilayer_perceptron.py:702: ConvergenceWarning: Stochastic Optimizer: Maximum iterations (500) reached and the optimization hasn't converged yet.\n",
      "  warnings.warn(\n"
     ]
    },
    {
     "name": "stdout",
     "output_type": "stream",
     "text": [
      "Nd: 32, N: 50,trainingerror: 0.152934, testerror: 1.070782\n"
     ]
    },
    {
     "name": "stderr",
     "output_type": "stream",
     "text": [
      "/Users/manifect/opt/miniconda3/lib/python3.9/site-packages/sklearn/neural_network/_multilayer_perceptron.py:702: ConvergenceWarning: Stochastic Optimizer: Maximum iterations (500) reached and the optimization hasn't converged yet.\n",
      "  warnings.warn(\n"
     ]
    },
    {
     "name": "stdout",
     "output_type": "stream",
     "text": [
      "Nd: 32, N: 58,trainingerror: 0.242440, testerror: 1.118959\n"
     ]
    },
    {
     "name": "stderr",
     "output_type": "stream",
     "text": [
      "/Users/manifect/opt/miniconda3/lib/python3.9/site-packages/sklearn/neural_network/_multilayer_perceptron.py:702: ConvergenceWarning: Stochastic Optimizer: Maximum iterations (500) reached and the optimization hasn't converged yet.\n",
      "  warnings.warn(\n",
      "/Users/manifect/opt/miniconda3/lib/python3.9/site-packages/sklearn/neural_network/_multilayer_perceptron.py:702: ConvergenceWarning: Stochastic Optimizer: Maximum iterations (500) reached and the optimization hasn't converged yet.\n",
      "  warnings.warn(\n"
     ]
    },
    {
     "name": "stdout",
     "output_type": "stream",
     "text": [
      "Nd: 32, N: 67,trainingerror: 0.271340, testerror: 1.083471\n",
      "Nd: 32, N: 78,trainingerror: 0.242693, testerror: 1.053957\n",
      "Nd: 32, N: 90,trainingerror: 0.266264, testerror: 0.951817\n"
     ]
    },
    {
     "name": "stderr",
     "output_type": "stream",
     "text": [
      "/Users/manifect/opt/miniconda3/lib/python3.9/site-packages/sklearn/neural_network/_multilayer_perceptron.py:702: ConvergenceWarning: Stochastic Optimizer: Maximum iterations (500) reached and the optimization hasn't converged yet.\n",
      "  warnings.warn(\n",
      "/Users/manifect/opt/miniconda3/lib/python3.9/site-packages/sklearn/neural_network/_multilayer_perceptron.py:702: ConvergenceWarning: Stochastic Optimizer: Maximum iterations (500) reached and the optimization hasn't converged yet.\n",
      "  warnings.warn(\n"
     ]
    },
    {
     "name": "stdout",
     "output_type": "stream",
     "text": [
      "Nd: 32, N: 104,trainingerror: 0.438411, testerror: 0.723953\n"
     ]
    },
    {
     "name": "stderr",
     "output_type": "stream",
     "text": [
      "/Users/manifect/opt/miniconda3/lib/python3.9/site-packages/sklearn/neural_network/_multilayer_perceptron.py:702: ConvergenceWarning: Stochastic Optimizer: Maximum iterations (500) reached and the optimization hasn't converged yet.\n",
      "  warnings.warn(\n"
     ]
    },
    {
     "name": "stdout",
     "output_type": "stream",
     "text": [
      "Nd: 32, N: 121,trainingerror: 0.256913, testerror: 0.685327\n",
      "Nd: 32, N: 141,trainingerror: 0.311650, testerror: 0.626548\n"
     ]
    },
    {
     "name": "stderr",
     "output_type": "stream",
     "text": [
      "/Users/manifect/opt/miniconda3/lib/python3.9/site-packages/sklearn/neural_network/_multilayer_perceptron.py:702: ConvergenceWarning: Stochastic Optimizer: Maximum iterations (500) reached and the optimization hasn't converged yet.\n",
      "  warnings.warn(\n"
     ]
    },
    {
     "name": "stdout",
     "output_type": "stream",
     "text": [
      "Nd: 32, N: 163,trainingerror: 0.445659, testerror: 0.702602\n",
      "Nd: 32, N: 190,trainingerror: 0.340700, testerror: 0.609485\n",
      "Nd: 32, N: 220,trainingerror: 0.448511, testerror: 0.627496\n",
      "Nd: 32, N: 256,trainingerror: 0.406990, testerror: 0.615626\n"
     ]
    },
    {
     "name": "stderr",
     "output_type": "stream",
     "text": [
      "/Users/manifect/opt/miniconda3/lib/python3.9/site-packages/sklearn/neural_network/_multilayer_perceptron.py:702: ConvergenceWarning: Stochastic Optimizer: Maximum iterations (500) reached and the optimization hasn't converged yet.\n",
      "  warnings.warn(\n"
     ]
    },
    {
     "name": "stdout",
     "output_type": "stream",
     "text": [
      "Nd: 32, N: 297,trainingerror: 0.375197, testerror: 0.558722\n",
      "Nd: 32, N: 345,trainingerror: 0.432113, testerror: 0.540828\n",
      "Nd: 32, N: 400,trainingerror: 0.413629, testerror: 0.580928\n"
     ]
    },
    {
     "name": "stderr",
     "output_type": "stream",
     "text": [
      "/Users/manifect/opt/miniconda3/lib/python3.9/site-packages/sklearn/neural_network/_multilayer_perceptron.py:702: ConvergenceWarning: Stochastic Optimizer: Maximum iterations (500) reached and the optimization hasn't converged yet.\n",
      "  warnings.warn(\n"
     ]
    },
    {
     "name": "stdout",
     "output_type": "stream",
     "text": [
      "Nd: 32, N: 465,trainingerror: 0.479802, testerror: 0.551749\n",
      "Nd: 32, N: 540,trainingerror: 0.449733, testerror: 0.497639\n",
      "Nd: 32, N: 627,trainingerror: 0.439643, testerror: 0.524515\n",
      "Nd: 32, N: 729,trainingerror: 0.481609, testerror: 0.519016\n"
     ]
    },
    {
     "name": "stderr",
     "output_type": "stream",
     "text": [
      "/Users/manifect/opt/miniconda3/lib/python3.9/site-packages/sklearn/neural_network/_multilayer_perceptron.py:702: ConvergenceWarning: Stochastic Optimizer: Maximum iterations (500) reached and the optimization hasn't converged yet.\n",
      "  warnings.warn(\n"
     ]
    },
    {
     "name": "stdout",
     "output_type": "stream",
     "text": [
      "Nd: 32, N: 846,trainingerror: 0.451943, testerror: 0.497824\n",
      "Nd: 32, N: 983,trainingerror: 0.438298, testerror: 0.506187\n",
      "Nd: 32, N: 1142,trainingerror: 0.491066, testerror: 0.525727\n",
      "Nd: 32, N: 1326,trainingerror: 0.436563, testerror: 0.474119\n",
      "Nd: 32, N: 1541,trainingerror: 0.488461, testerror: 0.525873\n",
      "Nd: 32, N: 1789,trainingerror: 0.412558, testerror: 0.471821\n",
      "Nd: 32, N: 2078,trainingerror: 0.491177, testerror: 0.503284\n",
      "Nd: 32, N: 2414,trainingerror: 0.444617, testerror: 0.514268\n",
      "Nd: 32, N: 2804,trainingerror: 0.426082, testerror: 0.456124\n",
      "Nd: 32, N: 3257,trainingerror: 0.464087, testerror: 0.456842\n",
      "Nd: 32, N: 3783,trainingerror: 0.393061, testerror: 0.424115\n",
      "Nd: 32, N: 4395,trainingerror: 0.451398, testerror: 0.475921\n",
      "Nd: 32, N: 5105,trainingerror: 0.465370, testerror: 0.473424\n",
      "Nd: 32, N: 5930,trainingerror: 0.492662, testerror: 0.520798\n",
      "Nd: 32, N: 6888,trainingerror: 0.476949, testerror: 0.470861\n",
      "Nd: 37, N: 20,trainingerror: 0.073707, testerror: 1.223173\n",
      "Nd: 37, N: 24,trainingerror: 0.212343, testerror: 1.184437\n",
      "Nd: 37, N: 27,trainingerror: 0.119464, testerror: 1.784477\n",
      "Nd: 37, N: 32,trainingerror: 0.060411, testerror: 1.086022\n"
     ]
    },
    {
     "name": "stderr",
     "output_type": "stream",
     "text": [
      "/Users/manifect/opt/miniconda3/lib/python3.9/site-packages/sklearn/neural_network/_multilayer_perceptron.py:702: ConvergenceWarning: Stochastic Optimizer: Maximum iterations (500) reached and the optimization hasn't converged yet.\n",
      "  warnings.warn(\n"
     ]
    },
    {
     "name": "stdout",
     "output_type": "stream",
     "text": [
      "Nd: 37, N: 37,trainingerror: 0.074097, testerror: 1.027359\n",
      "Nd: 37, N: 43,trainingerror: 0.456927, testerror: 0.985038\n"
     ]
    },
    {
     "name": "stderr",
     "output_type": "stream",
     "text": [
      "/Users/manifect/opt/miniconda3/lib/python3.9/site-packages/sklearn/neural_network/_multilayer_perceptron.py:702: ConvergenceWarning: Stochastic Optimizer: Maximum iterations (500) reached and the optimization hasn't converged yet.\n",
      "  warnings.warn(\n",
      "/Users/manifect/opt/miniconda3/lib/python3.9/site-packages/sklearn/neural_network/_multilayer_perceptron.py:702: ConvergenceWarning: Stochastic Optimizer: Maximum iterations (500) reached and the optimization hasn't converged yet.\n",
      "  warnings.warn(\n",
      "/Users/manifect/opt/miniconda3/lib/python3.9/site-packages/sklearn/neural_network/_multilayer_perceptron.py:702: ConvergenceWarning: Stochastic Optimizer: Maximum iterations (500) reached and the optimization hasn't converged yet.\n",
      "  warnings.warn(\n"
     ]
    },
    {
     "name": "stdout",
     "output_type": "stream",
     "text": [
      "Nd: 37, N: 50,trainingerror: 0.299479, testerror: 1.748896\n"
     ]
    },
    {
     "name": "stderr",
     "output_type": "stream",
     "text": [
      "/Users/manifect/opt/miniconda3/lib/python3.9/site-packages/sklearn/neural_network/_multilayer_perceptron.py:702: ConvergenceWarning: Stochastic Optimizer: Maximum iterations (500) reached and the optimization hasn't converged yet.\n",
      "  warnings.warn(\n",
      "/Users/manifect/opt/miniconda3/lib/python3.9/site-packages/sklearn/neural_network/_multilayer_perceptron.py:702: ConvergenceWarning: Stochastic Optimizer: Maximum iterations (500) reached and the optimization hasn't converged yet.\n",
      "  warnings.warn(\n"
     ]
    },
    {
     "name": "stdout",
     "output_type": "stream",
     "text": [
      "Nd: 37, N: 58,trainingerror: 0.237875, testerror: 1.132536\n"
     ]
    },
    {
     "name": "stderr",
     "output_type": "stream",
     "text": [
      "/Users/manifect/opt/miniconda3/lib/python3.9/site-packages/sklearn/neural_network/_multilayer_perceptron.py:702: ConvergenceWarning: Stochastic Optimizer: Maximum iterations (500) reached and the optimization hasn't converged yet.\n",
      "  warnings.warn(\n"
     ]
    },
    {
     "name": "stdout",
     "output_type": "stream",
     "text": [
      "Nd: 37, N: 67,trainingerror: 0.284635, testerror: 0.975402\n",
      "Nd: 37, N: 78,trainingerror: 0.286404, testerror: 0.868493\n",
      "Nd: 37, N: 90,trainingerror: 0.272348, testerror: 0.896283\n",
      "Nd: 37, N: 104,trainingerror: 0.295069, testerror: 0.704736\n"
     ]
    },
    {
     "name": "stderr",
     "output_type": "stream",
     "text": [
      "/Users/manifect/opt/miniconda3/lib/python3.9/site-packages/sklearn/neural_network/_multilayer_perceptron.py:702: ConvergenceWarning: Stochastic Optimizer: Maximum iterations (500) reached and the optimization hasn't converged yet.\n",
      "  warnings.warn(\n"
     ]
    },
    {
     "name": "stdout",
     "output_type": "stream",
     "text": [
      "Nd: 37, N: 121,trainingerror: 0.224508, testerror: 0.892483\n",
      "Nd: 37, N: 141,trainingerror: 0.512323, testerror: 0.780701\n"
     ]
    },
    {
     "name": "stderr",
     "output_type": "stream",
     "text": [
      "/Users/manifect/opt/miniconda3/lib/python3.9/site-packages/sklearn/neural_network/_multilayer_perceptron.py:702: ConvergenceWarning: Stochastic Optimizer: Maximum iterations (500) reached and the optimization hasn't converged yet.\n",
      "  warnings.warn(\n",
      "/Users/manifect/opt/miniconda3/lib/python3.9/site-packages/sklearn/neural_network/_multilayer_perceptron.py:702: ConvergenceWarning: Stochastic Optimizer: Maximum iterations (500) reached and the optimization hasn't converged yet.\n",
      "  warnings.warn(\n"
     ]
    },
    {
     "name": "stdout",
     "output_type": "stream",
     "text": [
      "Nd: 37, N: 163,trainingerror: 0.267756, testerror: 0.701790\n",
      "Nd: 37, N: 190,trainingerror: 0.601907, testerror: 0.667620\n",
      "Nd: 37, N: 220,trainingerror: 0.346174, testerror: 0.612137\n",
      "Nd: 37, N: 256,trainingerror: 0.491659, testerror: 0.561886\n"
     ]
    },
    {
     "name": "stderr",
     "output_type": "stream",
     "text": [
      "/Users/manifect/opt/miniconda3/lib/python3.9/site-packages/sklearn/neural_network/_multilayer_perceptron.py:702: ConvergenceWarning: Stochastic Optimizer: Maximum iterations (500) reached and the optimization hasn't converged yet.\n",
      "  warnings.warn(\n"
     ]
    },
    {
     "name": "stdout",
     "output_type": "stream",
     "text": [
      "Nd: 37, N: 297,trainingerror: 0.410030, testerror: 0.586695\n"
     ]
    },
    {
     "name": "stderr",
     "output_type": "stream",
     "text": [
      "/Users/manifect/opt/miniconda3/lib/python3.9/site-packages/sklearn/neural_network/_multilayer_perceptron.py:702: ConvergenceWarning: Stochastic Optimizer: Maximum iterations (500) reached and the optimization hasn't converged yet.\n",
      "  warnings.warn(\n",
      "/Users/manifect/opt/miniconda3/lib/python3.9/site-packages/sklearn/neural_network/_multilayer_perceptron.py:702: ConvergenceWarning: Stochastic Optimizer: Maximum iterations (500) reached and the optimization hasn't converged yet.\n",
      "  warnings.warn(\n",
      "/Users/manifect/opt/miniconda3/lib/python3.9/site-packages/sklearn/neural_network/_multilayer_perceptron.py:702: ConvergenceWarning: Stochastic Optimizer: Maximum iterations (500) reached and the optimization hasn't converged yet.\n",
      "  warnings.warn(\n"
     ]
    },
    {
     "name": "stdout",
     "output_type": "stream",
     "text": [
      "Nd: 37, N: 345,trainingerror: 0.518103, testerror: 0.579585\n",
      "Nd: 37, N: 400,trainingerror: 0.461446, testerror: 0.606026\n",
      "Nd: 37, N: 465,trainingerror: 0.506242, testerror: 0.563476\n"
     ]
    },
    {
     "name": "stderr",
     "output_type": "stream",
     "text": [
      "/Users/manifect/opt/miniconda3/lib/python3.9/site-packages/sklearn/neural_network/_multilayer_perceptron.py:702: ConvergenceWarning: Stochastic Optimizer: Maximum iterations (500) reached and the optimization hasn't converged yet.\n",
      "  warnings.warn(\n"
     ]
    },
    {
     "name": "stdout",
     "output_type": "stream",
     "text": [
      "Nd: 37, N: 540,trainingerror: 0.358318, testerror: 0.508475\n",
      "Nd: 37, N: 627,trainingerror: 0.424662, testerror: 0.515122\n",
      "Nd: 37, N: 729,trainingerror: 0.425782, testerror: 0.510380\n"
     ]
    },
    {
     "name": "stderr",
     "output_type": "stream",
     "text": [
      "/Users/manifect/opt/miniconda3/lib/python3.9/site-packages/sklearn/neural_network/_multilayer_perceptron.py:702: ConvergenceWarning: Stochastic Optimizer: Maximum iterations (500) reached and the optimization hasn't converged yet.\n",
      "  warnings.warn(\n"
     ]
    },
    {
     "name": "stdout",
     "output_type": "stream",
     "text": [
      "Nd: 37, N: 846,trainingerror: 0.550110, testerror: 0.509401\n",
      "Nd: 37, N: 983,trainingerror: 0.422069, testerror: 0.482372\n",
      "Nd: 37, N: 1142,trainingerror: 0.426870, testerror: 0.548207\n",
      "Nd: 37, N: 1326,trainingerror: 0.558614, testerror: 0.504980\n",
      "Nd: 37, N: 1541,trainingerror: 0.454124, testerror: 0.499740\n",
      "Nd: 37, N: 1789,trainingerror: 0.536349, testerror: 0.519801\n",
      "Nd: 37, N: 2078,trainingerror: 0.452119, testerror: 0.514097\n",
      "Nd: 37, N: 2414,trainingerror: 0.465446, testerror: 0.508699\n",
      "Nd: 37, N: 2804,trainingerror: 0.427455, testerror: 0.491204\n",
      "Nd: 37, N: 3257,trainingerror: 0.443263, testerror: 0.478524\n",
      "Nd: 37, N: 3783,trainingerror: 0.546100, testerror: 0.493108\n",
      "Nd: 37, N: 4395,trainingerror: 0.431877, testerror: 0.460541\n",
      "Nd: 37, N: 5105,trainingerror: 0.448413, testerror: 0.454113\n",
      "Nd: 37, N: 5930,trainingerror: 0.429580, testerror: 0.447009\n",
      "Nd: 37, N: 6888,trainingerror: 0.443321, testerror: 0.460196\n"
     ]
    },
    {
     "name": "stderr",
     "output_type": "stream",
     "text": [
      "/Users/manifect/opt/miniconda3/lib/python3.9/site-packages/sklearn/neural_network/_multilayer_perceptron.py:702: ConvergenceWarning: Stochastic Optimizer: Maximum iterations (500) reached and the optimization hasn't converged yet.\n",
      "  warnings.warn(\n",
      "/Users/manifect/opt/miniconda3/lib/python3.9/site-packages/sklearn/neural_network/_multilayer_perceptron.py:702: ConvergenceWarning: Stochastic Optimizer: Maximum iterations (500) reached and the optimization hasn't converged yet.\n",
      "  warnings.warn(\n"
     ]
    },
    {
     "name": "stdout",
     "output_type": "stream",
     "text": [
      "Nd: 43, N: 20,trainingerror: 0.055131, testerror: 1.343760\n",
      "Nd: 43, N: 24,trainingerror: 0.017493, testerror: 1.107925\n"
     ]
    },
    {
     "name": "stderr",
     "output_type": "stream",
     "text": [
      "/Users/manifect/opt/miniconda3/lib/python3.9/site-packages/sklearn/neural_network/_multilayer_perceptron.py:702: ConvergenceWarning: Stochastic Optimizer: Maximum iterations (500) reached and the optimization hasn't converged yet.\n",
      "  warnings.warn(\n"
     ]
    },
    {
     "name": "stdout",
     "output_type": "stream",
     "text": [
      "Nd: 43, N: 27,trainingerror: 0.036337, testerror: 1.198390\n",
      "Nd: 43, N: 32,trainingerror: 0.047292, testerror: 1.025048\n"
     ]
    },
    {
     "name": "stderr",
     "output_type": "stream",
     "text": [
      "/Users/manifect/opt/miniconda3/lib/python3.9/site-packages/sklearn/neural_network/_multilayer_perceptron.py:702: ConvergenceWarning: Stochastic Optimizer: Maximum iterations (500) reached and the optimization hasn't converged yet.\n",
      "  warnings.warn(\n"
     ]
    },
    {
     "name": "stdout",
     "output_type": "stream",
     "text": [
      "Nd: 43, N: 37,trainingerror: 0.102949, testerror: 1.222108\n",
      "Nd: 43, N: 43,trainingerror: 0.044685, testerror: 1.269676\n"
     ]
    },
    {
     "name": "stderr",
     "output_type": "stream",
     "text": [
      "/Users/manifect/opt/miniconda3/lib/python3.9/site-packages/sklearn/neural_network/_multilayer_perceptron.py:702: ConvergenceWarning: Stochastic Optimizer: Maximum iterations (500) reached and the optimization hasn't converged yet.\n",
      "  warnings.warn(\n"
     ]
    },
    {
     "name": "stdout",
     "output_type": "stream",
     "text": [
      "Nd: 43, N: 50,trainingerror: 0.052075, testerror: 1.298574\n"
     ]
    },
    {
     "name": "stderr",
     "output_type": "stream",
     "text": [
      "/Users/manifect/opt/miniconda3/lib/python3.9/site-packages/sklearn/neural_network/_multilayer_perceptron.py:702: ConvergenceWarning: Stochastic Optimizer: Maximum iterations (500) reached and the optimization hasn't converged yet.\n",
      "  warnings.warn(\n"
     ]
    },
    {
     "name": "stdout",
     "output_type": "stream",
     "text": [
      "Nd: 43, N: 58,trainingerror: 0.243466, testerror: 1.023483\n"
     ]
    },
    {
     "name": "stderr",
     "output_type": "stream",
     "text": [
      "/Users/manifect/opt/miniconda3/lib/python3.9/site-packages/sklearn/neural_network/_multilayer_perceptron.py:702: ConvergenceWarning: Stochastic Optimizer: Maximum iterations (500) reached and the optimization hasn't converged yet.\n",
      "  warnings.warn(\n",
      "/Users/manifect/opt/miniconda3/lib/python3.9/site-packages/sklearn/neural_network/_multilayer_perceptron.py:702: ConvergenceWarning: Stochastic Optimizer: Maximum iterations (500) reached and the optimization hasn't converged yet.\n",
      "  warnings.warn(\n"
     ]
    },
    {
     "name": "stdout",
     "output_type": "stream",
     "text": [
      "Nd: 43, N: 67,trainingerror: 0.151775, testerror: 1.388229\n",
      "Nd: 43, N: 78,trainingerror: 0.098003, testerror: 0.907944\n",
      "Nd: 43, N: 90,trainingerror: 0.118576, testerror: 0.991623\n"
     ]
    },
    {
     "name": "stderr",
     "output_type": "stream",
     "text": [
      "/Users/manifect/opt/miniconda3/lib/python3.9/site-packages/sklearn/neural_network/_multilayer_perceptron.py:702: ConvergenceWarning: Stochastic Optimizer: Maximum iterations (500) reached and the optimization hasn't converged yet.\n",
      "  warnings.warn(\n"
     ]
    },
    {
     "name": "stdout",
     "output_type": "stream",
     "text": [
      "Nd: 43, N: 104,trainingerror: 0.214115, testerror: 0.882077\n"
     ]
    },
    {
     "name": "stderr",
     "output_type": "stream",
     "text": [
      "/Users/manifect/opt/miniconda3/lib/python3.9/site-packages/sklearn/neural_network/_multilayer_perceptron.py:702: ConvergenceWarning: Stochastic Optimizer: Maximum iterations (500) reached and the optimization hasn't converged yet.\n",
      "  warnings.warn(\n",
      "/Users/manifect/opt/miniconda3/lib/python3.9/site-packages/sklearn/neural_network/_multilayer_perceptron.py:702: ConvergenceWarning: Stochastic Optimizer: Maximum iterations (500) reached and the optimization hasn't converged yet.\n",
      "  warnings.warn(\n"
     ]
    },
    {
     "name": "stdout",
     "output_type": "stream",
     "text": [
      "Nd: 43, N: 121,trainingerror: 0.214015, testerror: 0.789742\n"
     ]
    },
    {
     "name": "stderr",
     "output_type": "stream",
     "text": [
      "/Users/manifect/opt/miniconda3/lib/python3.9/site-packages/sklearn/neural_network/_multilayer_perceptron.py:702: ConvergenceWarning: Stochastic Optimizer: Maximum iterations (500) reached and the optimization hasn't converged yet.\n",
      "  warnings.warn(\n"
     ]
    },
    {
     "name": "stdout",
     "output_type": "stream",
     "text": [
      "Nd: 43, N: 141,trainingerror: 0.231489, testerror: 0.827670\n",
      "Nd: 43, N: 163,trainingerror: 0.242223, testerror: 0.665595\n"
     ]
    },
    {
     "name": "stderr",
     "output_type": "stream",
     "text": [
      "/Users/manifect/opt/miniconda3/lib/python3.9/site-packages/sklearn/neural_network/_multilayer_perceptron.py:702: ConvergenceWarning: Stochastic Optimizer: Maximum iterations (500) reached and the optimization hasn't converged yet.\n",
      "  warnings.warn(\n"
     ]
    },
    {
     "name": "stdout",
     "output_type": "stream",
     "text": [
      "Nd: 43, N: 190,trainingerror: 0.254102, testerror: 0.681713\n",
      "Nd: 43, N: 220,trainingerror: 0.437986, testerror: 0.655128\n",
      "Nd: 43, N: 256,trainingerror: 0.428125, testerror: 0.653334\n",
      "Nd: 43, N: 297,trainingerror: 0.448416, testerror: 0.590572\n",
      "Nd: 43, N: 345,trainingerror: 0.316395, testerror: 0.630509\n"
     ]
    },
    {
     "name": "stderr",
     "output_type": "stream",
     "text": [
      "/Users/manifect/opt/miniconda3/lib/python3.9/site-packages/sklearn/neural_network/_multilayer_perceptron.py:702: ConvergenceWarning: Stochastic Optimizer: Maximum iterations (500) reached and the optimization hasn't converged yet.\n",
      "  warnings.warn(\n"
     ]
    },
    {
     "name": "stdout",
     "output_type": "stream",
     "text": [
      "Nd: 43, N: 400,trainingerror: 0.353818, testerror: 0.606470\n",
      "Nd: 43, N: 465,trainingerror: 0.348151, testerror: 0.560708\n",
      "Nd: 43, N: 540,trainingerror: 0.378156, testerror: 0.608092\n",
      "Nd: 43, N: 627,trainingerror: 0.430832, testerror: 0.512689\n",
      "Nd: 43, N: 729,trainingerror: 0.394980, testerror: 0.520399\n",
      "Nd: 43, N: 846,trainingerror: 0.357978, testerror: 0.513552\n",
      "Nd: 43, N: 983,trainingerror: 0.345051, testerror: 0.464671\n",
      "Nd: 43, N: 1142,trainingerror: 0.449700, testerror: 0.514071\n",
      "Nd: 43, N: 1326,trainingerror: 0.392478, testerror: 0.430983\n",
      "Nd: 43, N: 1541,trainingerror: 0.397812, testerror: 0.431026\n",
      "Nd: 43, N: 1789,trainingerror: 0.453286, testerror: 0.480936\n",
      "Nd: 43, N: 2078,trainingerror: 0.384700, testerror: 0.433901\n",
      "Nd: 43, N: 2414,trainingerror: 0.459079, testerror: 0.463631\n",
      "Nd: 43, N: 2804,trainingerror: 0.414906, testerror: 0.456165\n",
      "Nd: 43, N: 3257,trainingerror: 0.401903, testerror: 0.402888\n",
      "Nd: 43, N: 3783,trainingerror: 0.339097, testerror: 0.364238\n",
      "Nd: 43, N: 4395,trainingerror: 0.357731, testerror: 0.357324\n",
      "Nd: 43, N: 5105,trainingerror: 0.379611, testerror: 0.385328\n",
      "Nd: 43, N: 5930,trainingerror: 0.395931, testerror: 0.439519\n",
      "Nd: 43, N: 6888,trainingerror: 0.384160, testerror: 0.396490\n",
      "Nd: 50, N: 20,trainingerror: 0.037406, testerror: 1.172268\n",
      "Nd: 50, N: 24,trainingerror: 0.022289, testerror: 1.189341\n",
      "Nd: 50, N: 27,trainingerror: 0.043716, testerror: 1.304985\n",
      "Nd: 50, N: 32,trainingerror: 0.041938, testerror: 1.283811\n",
      "Nd: 50, N: 37,trainingerror: 0.022887, testerror: 1.106108\n"
     ]
    },
    {
     "name": "stderr",
     "output_type": "stream",
     "text": [
      "/Users/manifect/opt/miniconda3/lib/python3.9/site-packages/sklearn/neural_network/_multilayer_perceptron.py:702: ConvergenceWarning: Stochastic Optimizer: Maximum iterations (500) reached and the optimization hasn't converged yet.\n",
      "  warnings.warn(\n"
     ]
    },
    {
     "name": "stdout",
     "output_type": "stream",
     "text": [
      "Nd: 50, N: 43,trainingerror: 0.102054, testerror: 1.302311\n",
      "Nd: 50, N: 50,trainingerror: 0.060904, testerror: 1.173579\n"
     ]
    },
    {
     "name": "stderr",
     "output_type": "stream",
     "text": [
      "/Users/manifect/opt/miniconda3/lib/python3.9/site-packages/sklearn/neural_network/_multilayer_perceptron.py:702: ConvergenceWarning: Stochastic Optimizer: Maximum iterations (500) reached and the optimization hasn't converged yet.\n",
      "  warnings.warn(\n"
     ]
    },
    {
     "name": "stdout",
     "output_type": "stream",
     "text": [
      "Nd: 50, N: 58,trainingerror: 0.142958, testerror: 1.202191\n"
     ]
    },
    {
     "name": "stderr",
     "output_type": "stream",
     "text": [
      "/Users/manifect/opt/miniconda3/lib/python3.9/site-packages/sklearn/neural_network/_multilayer_perceptron.py:702: ConvergenceWarning: Stochastic Optimizer: Maximum iterations (500) reached and the optimization hasn't converged yet.\n",
      "  warnings.warn(\n",
      "/Users/manifect/opt/miniconda3/lib/python3.9/site-packages/sklearn/neural_network/_multilayer_perceptron.py:702: ConvergenceWarning: Stochastic Optimizer: Maximum iterations (500) reached and the optimization hasn't converged yet.\n",
      "  warnings.warn(\n",
      "/Users/manifect/opt/miniconda3/lib/python3.9/site-packages/sklearn/neural_network/_multilayer_perceptron.py:702: ConvergenceWarning: Stochastic Optimizer: Maximum iterations (500) reached and the optimization hasn't converged yet.\n",
      "  warnings.warn(\n"
     ]
    },
    {
     "name": "stdout",
     "output_type": "stream",
     "text": [
      "Nd: 50, N: 67,trainingerror: 0.094366, testerror: 1.094646\n"
     ]
    },
    {
     "name": "stderr",
     "output_type": "stream",
     "text": [
      "/Users/manifect/opt/miniconda3/lib/python3.9/site-packages/sklearn/neural_network/_multilayer_perceptron.py:702: ConvergenceWarning: Stochastic Optimizer: Maximum iterations (500) reached and the optimization hasn't converged yet.\n",
      "  warnings.warn(\n"
     ]
    },
    {
     "name": "stdout",
     "output_type": "stream",
     "text": [
      "Nd: 50, N: 78,trainingerror: 0.118629, testerror: 1.023990\n",
      "Nd: 50, N: 90,trainingerror: 0.168811, testerror: 1.007785\n",
      "Nd: 50, N: 104,trainingerror: 0.179509, testerror: 1.048311\n",
      "Nd: 50, N: 121,trainingerror: 0.216342, testerror: 0.983737\n"
     ]
    },
    {
     "name": "stderr",
     "output_type": "stream",
     "text": [
      "/Users/manifect/opt/miniconda3/lib/python3.9/site-packages/sklearn/neural_network/_multilayer_perceptron.py:702: ConvergenceWarning: Stochastic Optimizer: Maximum iterations (500) reached and the optimization hasn't converged yet.\n",
      "  warnings.warn(\n",
      "/Users/manifect/opt/miniconda3/lib/python3.9/site-packages/sklearn/neural_network/_multilayer_perceptron.py:702: ConvergenceWarning: Stochastic Optimizer: Maximum iterations (500) reached and the optimization hasn't converged yet.\n",
      "  warnings.warn(\n"
     ]
    },
    {
     "name": "stdout",
     "output_type": "stream",
     "text": [
      "Nd: 50, N: 141,trainingerror: 0.295817, testerror: 1.037649\n",
      "Nd: 50, N: 163,trainingerror: 0.304335, testerror: 0.930442\n"
     ]
    },
    {
     "name": "stderr",
     "output_type": "stream",
     "text": [
      "/Users/manifect/opt/miniconda3/lib/python3.9/site-packages/sklearn/neural_network/_multilayer_perceptron.py:702: ConvergenceWarning: Stochastic Optimizer: Maximum iterations (500) reached and the optimization hasn't converged yet.\n",
      "  warnings.warn(\n"
     ]
    },
    {
     "name": "stdout",
     "output_type": "stream",
     "text": [
      "Nd: 50, N: 190,trainingerror: 0.374472, testerror: 0.740513\n"
     ]
    },
    {
     "name": "stderr",
     "output_type": "stream",
     "text": [
      "/Users/manifect/opt/miniconda3/lib/python3.9/site-packages/sklearn/neural_network/_multilayer_perceptron.py:702: ConvergenceWarning: Stochastic Optimizer: Maximum iterations (500) reached and the optimization hasn't converged yet.\n",
      "  warnings.warn(\n"
     ]
    },
    {
     "name": "stdout",
     "output_type": "stream",
     "text": [
      "Nd: 50, N: 220,trainingerror: 0.354431, testerror: 0.677241\n",
      "Nd: 50, N: 256,trainingerror: 0.379653, testerror: 0.666295\n",
      "Nd: 50, N: 297,trainingerror: 0.339777, testerror: 0.631504\n",
      "Nd: 50, N: 345,trainingerror: 0.340543, testerror: 0.561890\n",
      "Nd: 50, N: 400,trainingerror: 0.384436, testerror: 0.596574\n",
      "Nd: 50, N: 465,trainingerror: 0.335647, testerror: 0.548135\n",
      "Nd: 50, N: 540,trainingerror: 0.352943, testerror: 0.546195\n",
      "Nd: 50, N: 627,trainingerror: 0.388655, testerror: 0.501147\n"
     ]
    },
    {
     "name": "stderr",
     "output_type": "stream",
     "text": [
      "/Users/manifect/opt/miniconda3/lib/python3.9/site-packages/sklearn/neural_network/_multilayer_perceptron.py:702: ConvergenceWarning: Stochastic Optimizer: Maximum iterations (500) reached and the optimization hasn't converged yet.\n",
      "  warnings.warn(\n"
     ]
    },
    {
     "name": "stdout",
     "output_type": "stream",
     "text": [
      "Nd: 50, N: 729,trainingerror: 0.432148, testerror: 0.519414\n",
      "Nd: 50, N: 846,trainingerror: 0.402304, testerror: 0.494418\n",
      "Nd: 50, N: 983,trainingerror: 0.360766, testerror: 0.468139\n",
      "Nd: 50, N: 1142,trainingerror: 0.445115, testerror: 0.532519\n",
      "Nd: 50, N: 1326,trainingerror: 0.433001, testerror: 0.492653\n",
      "Nd: 50, N: 1541,trainingerror: 0.369612, testerror: 0.456491\n",
      "Nd: 50, N: 1789,trainingerror: 0.420157, testerror: 0.477660\n",
      "Nd: 50, N: 2078,trainingerror: 0.430867, testerror: 0.463682\n",
      "Nd: 50, N: 2414,trainingerror: 0.464837, testerror: 0.462001\n",
      "Nd: 50, N: 2804,trainingerror: 0.406255, testerror: 0.413477\n",
      "Nd: 50, N: 3257,trainingerror: 0.434326, testerror: 0.442983\n",
      "Nd: 50, N: 3783,trainingerror: 0.369131, testerror: 0.381630\n",
      "Nd: 50, N: 4395,trainingerror: 0.374091, testerror: 0.379832\n",
      "Nd: 50, N: 5105,trainingerror: 0.433080, testerror: 0.442686\n",
      "Nd: 50, N: 5930,trainingerror: 0.429079, testerror: 0.442177\n",
      "Nd: 50, N: 6888,trainingerror: 0.423407, testerror: 0.423130\n",
      "Nd: 58, N: 20,trainingerror: 0.246718, testerror: 1.144290\n"
     ]
    },
    {
     "name": "stderr",
     "output_type": "stream",
     "text": [
      "/Users/manifect/opt/miniconda3/lib/python3.9/site-packages/sklearn/neural_network/_multilayer_perceptron.py:702: ConvergenceWarning: Stochastic Optimizer: Maximum iterations (500) reached and the optimization hasn't converged yet.\n",
      "  warnings.warn(\n"
     ]
    },
    {
     "name": "stdout",
     "output_type": "stream",
     "text": [
      "Nd: 58, N: 24,trainingerror: 0.115570, testerror: 1.187911\n",
      "Nd: 58, N: 27,trainingerror: 0.051919, testerror: 1.269889\n",
      "Nd: 58, N: 32,trainingerror: 0.036741, testerror: 1.166720\n"
     ]
    },
    {
     "name": "stderr",
     "output_type": "stream",
     "text": [
      "/Users/manifect/opt/miniconda3/lib/python3.9/site-packages/sklearn/neural_network/_multilayer_perceptron.py:702: ConvergenceWarning: Stochastic Optimizer: Maximum iterations (500) reached and the optimization hasn't converged yet.\n",
      "  warnings.warn(\n"
     ]
    },
    {
     "name": "stdout",
     "output_type": "stream",
     "text": [
      "Nd: 58, N: 37,trainingerror: 0.036218, testerror: 1.192720\n"
     ]
    },
    {
     "name": "stderr",
     "output_type": "stream",
     "text": [
      "/Users/manifect/opt/miniconda3/lib/python3.9/site-packages/sklearn/neural_network/_multilayer_perceptron.py:702: ConvergenceWarning: Stochastic Optimizer: Maximum iterations (500) reached and the optimization hasn't converged yet.\n",
      "  warnings.warn(\n",
      "/Users/manifect/opt/miniconda3/lib/python3.9/site-packages/sklearn/neural_network/_multilayer_perceptron.py:702: ConvergenceWarning: Stochastic Optimizer: Maximum iterations (500) reached and the optimization hasn't converged yet.\n",
      "  warnings.warn(\n"
     ]
    },
    {
     "name": "stdout",
     "output_type": "stream",
     "text": [
      "Nd: 58, N: 43,trainingerror: 0.067028, testerror: 1.077522\n",
      "Nd: 58, N: 50,trainingerror: 0.079234, testerror: 1.319663\n"
     ]
    },
    {
     "name": "stderr",
     "output_type": "stream",
     "text": [
      "/Users/manifect/opt/miniconda3/lib/python3.9/site-packages/sklearn/neural_network/_multilayer_perceptron.py:702: ConvergenceWarning: Stochastic Optimizer: Maximum iterations (500) reached and the optimization hasn't converged yet.\n",
      "  warnings.warn(\n",
      "/Users/manifect/opt/miniconda3/lib/python3.9/site-packages/sklearn/neural_network/_multilayer_perceptron.py:702: ConvergenceWarning: Stochastic Optimizer: Maximum iterations (500) reached and the optimization hasn't converged yet.\n",
      "  warnings.warn(\n"
     ]
    },
    {
     "name": "stdout",
     "output_type": "stream",
     "text": [
      "Nd: 58, N: 58,trainingerror: 0.124351, testerror: 1.434356\n"
     ]
    },
    {
     "name": "stderr",
     "output_type": "stream",
     "text": [
      "/Users/manifect/opt/miniconda3/lib/python3.9/site-packages/sklearn/neural_network/_multilayer_perceptron.py:702: ConvergenceWarning: Stochastic Optimizer: Maximum iterations (500) reached and the optimization hasn't converged yet.\n",
      "  warnings.warn(\n"
     ]
    },
    {
     "name": "stdout",
     "output_type": "stream",
     "text": [
      "Nd: 58, N: 67,trainingerror: 0.075751, testerror: 1.159849\n",
      "Nd: 58, N: 78,trainingerror: 0.107584, testerror: 0.910187\n"
     ]
    },
    {
     "name": "stderr",
     "output_type": "stream",
     "text": [
      "/Users/manifect/opt/miniconda3/lib/python3.9/site-packages/sklearn/neural_network/_multilayer_perceptron.py:702: ConvergenceWarning: Stochastic Optimizer: Maximum iterations (500) reached and the optimization hasn't converged yet.\n",
      "  warnings.warn(\n",
      "/Users/manifect/opt/miniconda3/lib/python3.9/site-packages/sklearn/neural_network/_multilayer_perceptron.py:702: ConvergenceWarning: Stochastic Optimizer: Maximum iterations (500) reached and the optimization hasn't converged yet.\n",
      "  warnings.warn(\n"
     ]
    },
    {
     "name": "stdout",
     "output_type": "stream",
     "text": [
      "Nd: 58, N: 90,trainingerror: 0.188257, testerror: 1.390731\n"
     ]
    },
    {
     "name": "stderr",
     "output_type": "stream",
     "text": [
      "/Users/manifect/opt/miniconda3/lib/python3.9/site-packages/sklearn/neural_network/_multilayer_perceptron.py:702: ConvergenceWarning: Stochastic Optimizer: Maximum iterations (500) reached and the optimization hasn't converged yet.\n",
      "  warnings.warn(\n"
     ]
    },
    {
     "name": "stdout",
     "output_type": "stream",
     "text": [
      "Nd: 58, N: 104,trainingerror: 0.174006, testerror: 1.077690\n",
      "Nd: 58, N: 121,trainingerror: 0.233061, testerror: 0.826142\n",
      "Nd: 58, N: 141,trainingerror: 0.249980, testerror: 0.759998\n",
      "Nd: 58, N: 163,trainingerror: 0.251802, testerror: 0.757166\n"
     ]
    },
    {
     "name": "stderr",
     "output_type": "stream",
     "text": [
      "/Users/manifect/opt/miniconda3/lib/python3.9/site-packages/sklearn/neural_network/_multilayer_perceptron.py:702: ConvergenceWarning: Stochastic Optimizer: Maximum iterations (500) reached and the optimization hasn't converged yet.\n",
      "  warnings.warn(\n"
     ]
    },
    {
     "name": "stdout",
     "output_type": "stream",
     "text": [
      "Nd: 58, N: 190,trainingerror: 0.405446, testerror: 0.829418\n",
      "Nd: 58, N: 220,trainingerror: 0.375112, testerror: 0.637052\n"
     ]
    },
    {
     "name": "stderr",
     "output_type": "stream",
     "text": [
      "/Users/manifect/opt/miniconda3/lib/python3.9/site-packages/sklearn/neural_network/_multilayer_perceptron.py:702: ConvergenceWarning: Stochastic Optimizer: Maximum iterations (500) reached and the optimization hasn't converged yet.\n",
      "  warnings.warn(\n",
      "/Users/manifect/opt/miniconda3/lib/python3.9/site-packages/sklearn/neural_network/_multilayer_perceptron.py:702: ConvergenceWarning: Stochastic Optimizer: Maximum iterations (500) reached and the optimization hasn't converged yet.\n",
      "  warnings.warn(\n"
     ]
    },
    {
     "name": "stdout",
     "output_type": "stream",
     "text": [
      "Nd: 58, N: 256,trainingerror: 0.309906, testerror: 0.646746\n"
     ]
    },
    {
     "name": "stderr",
     "output_type": "stream",
     "text": [
      "/Users/manifect/opt/miniconda3/lib/python3.9/site-packages/sklearn/neural_network/_multilayer_perceptron.py:702: ConvergenceWarning: Stochastic Optimizer: Maximum iterations (500) reached and the optimization hasn't converged yet.\n",
      "  warnings.warn(\n",
      "/Users/manifect/opt/miniconda3/lib/python3.9/site-packages/sklearn/neural_network/_multilayer_perceptron.py:702: ConvergenceWarning: Stochastic Optimizer: Maximum iterations (500) reached and the optimization hasn't converged yet.\n",
      "  warnings.warn(\n"
     ]
    },
    {
     "name": "stdout",
     "output_type": "stream",
     "text": [
      "Nd: 58, N: 297,trainingerror: 0.503783, testerror: 0.665035\n"
     ]
    },
    {
     "name": "stderr",
     "output_type": "stream",
     "text": [
      "/Users/manifect/opt/miniconda3/lib/python3.9/site-packages/sklearn/neural_network/_multilayer_perceptron.py:702: ConvergenceWarning: Stochastic Optimizer: Maximum iterations (500) reached and the optimization hasn't converged yet.\n",
      "  warnings.warn(\n",
      "/Users/manifect/opt/miniconda3/lib/python3.9/site-packages/sklearn/neural_network/_multilayer_perceptron.py:702: ConvergenceWarning: Stochastic Optimizer: Maximum iterations (500) reached and the optimization hasn't converged yet.\n",
      "  warnings.warn(\n"
     ]
    },
    {
     "name": "stdout",
     "output_type": "stream",
     "text": [
      "Nd: 58, N: 345,trainingerror: 0.332646, testerror: 0.593507\n"
     ]
    },
    {
     "name": "stderr",
     "output_type": "stream",
     "text": [
      "/Users/manifect/opt/miniconda3/lib/python3.9/site-packages/sklearn/neural_network/_multilayer_perceptron.py:702: ConvergenceWarning: Stochastic Optimizer: Maximum iterations (500) reached and the optimization hasn't converged yet.\n",
      "  warnings.warn(\n",
      "/Users/manifect/opt/miniconda3/lib/python3.9/site-packages/sklearn/neural_network/_multilayer_perceptron.py:702: ConvergenceWarning: Stochastic Optimizer: Maximum iterations (500) reached and the optimization hasn't converged yet.\n",
      "  warnings.warn(\n",
      "/Users/manifect/opt/miniconda3/lib/python3.9/site-packages/sklearn/neural_network/_multilayer_perceptron.py:702: ConvergenceWarning: Stochastic Optimizer: Maximum iterations (500) reached and the optimization hasn't converged yet.\n",
      "  warnings.warn(\n"
     ]
    },
    {
     "name": "stdout",
     "output_type": "stream",
     "text": [
      "Nd: 58, N: 400,trainingerror: 0.405827, testerror: 0.580658\n"
     ]
    },
    {
     "name": "stderr",
     "output_type": "stream",
     "text": [
      "/Users/manifect/opt/miniconda3/lib/python3.9/site-packages/sklearn/neural_network/_multilayer_perceptron.py:702: ConvergenceWarning: Stochastic Optimizer: Maximum iterations (500) reached and the optimization hasn't converged yet.\n",
      "  warnings.warn(\n"
     ]
    },
    {
     "name": "stdout",
     "output_type": "stream",
     "text": [
      "Nd: 58, N: 465,trainingerror: 0.310428, testerror: 0.548392\n"
     ]
    },
    {
     "name": "stderr",
     "output_type": "stream",
     "text": [
      "/Users/manifect/opt/miniconda3/lib/python3.9/site-packages/sklearn/neural_network/_multilayer_perceptron.py:702: ConvergenceWarning: Stochastic Optimizer: Maximum iterations (500) reached and the optimization hasn't converged yet.\n",
      "  warnings.warn(\n"
     ]
    },
    {
     "name": "stdout",
     "output_type": "stream",
     "text": [
      "Nd: 58, N: 540,trainingerror: 0.399962, testerror: 0.575819\n",
      "Nd: 58, N: 627,trainingerror: 0.352372, testerror: 0.496721\n"
     ]
    },
    {
     "name": "stderr",
     "output_type": "stream",
     "text": [
      "/Users/manifect/opt/miniconda3/lib/python3.9/site-packages/sklearn/neural_network/_multilayer_perceptron.py:702: ConvergenceWarning: Stochastic Optimizer: Maximum iterations (500) reached and the optimization hasn't converged yet.\n",
      "  warnings.warn(\n",
      "/Users/manifect/opt/miniconda3/lib/python3.9/site-packages/sklearn/neural_network/_multilayer_perceptron.py:702: ConvergenceWarning: Stochastic Optimizer: Maximum iterations (500) reached and the optimization hasn't converged yet.\n",
      "  warnings.warn(\n"
     ]
    },
    {
     "name": "stdout",
     "output_type": "stream",
     "text": [
      "Nd: 58, N: 729,trainingerror: 0.368426, testerror: 0.499981\n"
     ]
    },
    {
     "name": "stderr",
     "output_type": "stream",
     "text": [
      "/Users/manifect/opt/miniconda3/lib/python3.9/site-packages/sklearn/neural_network/_multilayer_perceptron.py:702: ConvergenceWarning: Stochastic Optimizer: Maximum iterations (500) reached and the optimization hasn't converged yet.\n",
      "  warnings.warn(\n",
      "/Users/manifect/opt/miniconda3/lib/python3.9/site-packages/sklearn/neural_network/_multilayer_perceptron.py:702: ConvergenceWarning: Stochastic Optimizer: Maximum iterations (500) reached and the optimization hasn't converged yet.\n",
      "  warnings.warn(\n"
     ]
    },
    {
     "name": "stdout",
     "output_type": "stream",
     "text": [
      "Nd: 58, N: 846,trainingerror: 0.397754, testerror: 0.471688\n",
      "Nd: 58, N: 983,trainingerror: 0.444271, testerror: 0.533317\n",
      "Nd: 58, N: 1142,trainingerror: 0.399714, testerror: 0.475042\n",
      "Nd: 58, N: 1326,trainingerror: 0.421610, testerror: 0.464251\n",
      "Nd: 58, N: 1541,trainingerror: 0.411154, testerror: 0.424494\n",
      "Nd: 58, N: 1789,trainingerror: 0.340217, testerror: 0.396615\n",
      "Nd: 58, N: 2078,trainingerror: 0.369967, testerror: 0.424401\n",
      "Nd: 58, N: 2414,trainingerror: 0.435111, testerror: 0.477541\n",
      "Nd: 58, N: 2804,trainingerror: 0.423440, testerror: 0.479089\n",
      "Nd: 58, N: 3257,trainingerror: 0.421634, testerror: 0.429921\n",
      "Nd: 58, N: 3783,trainingerror: 0.403193, testerror: 0.403978\n",
      "Nd: 58, N: 4395,trainingerror: 0.384333, testerror: 0.409793\n",
      "Nd: 58, N: 5105,trainingerror: 0.373592, testerror: 0.393575\n",
      "Nd: 58, N: 5930,trainingerror: 0.445306, testerror: 0.440625\n",
      "Nd: 58, N: 6888,trainingerror: 0.420620, testerror: 0.427175\n",
      "Nd: 67, N: 20,trainingerror: 0.059946, testerror: 1.512363\n",
      "Nd: 67, N: 24,trainingerror: 0.024985, testerror: 1.844946\n",
      "Nd: 67, N: 27,trainingerror: 0.054981, testerror: 0.997765\n"
     ]
    },
    {
     "name": "stderr",
     "output_type": "stream",
     "text": [
      "/Users/manifect/opt/miniconda3/lib/python3.9/site-packages/sklearn/neural_network/_multilayer_perceptron.py:702: ConvergenceWarning: Stochastic Optimizer: Maximum iterations (500) reached and the optimization hasn't converged yet.\n",
      "  warnings.warn(\n"
     ]
    },
    {
     "name": "stdout",
     "output_type": "stream",
     "text": [
      "Nd: 67, N: 32,trainingerror: 0.021694, testerror: 0.978326\n"
     ]
    },
    {
     "name": "stderr",
     "output_type": "stream",
     "text": [
      "/Users/manifect/opt/miniconda3/lib/python3.9/site-packages/sklearn/neural_network/_multilayer_perceptron.py:702: ConvergenceWarning: Stochastic Optimizer: Maximum iterations (500) reached and the optimization hasn't converged yet.\n",
      "  warnings.warn(\n"
     ]
    },
    {
     "name": "stdout",
     "output_type": "stream",
     "text": [
      "Nd: 67, N: 37,trainingerror: 0.268821, testerror: 1.423935\n",
      "Nd: 67, N: 43,trainingerror: 0.023660, testerror: 1.033895\n",
      "Nd: 67, N: 50,trainingerror: 0.051107, testerror: 0.960479\n"
     ]
    },
    {
     "name": "stderr",
     "output_type": "stream",
     "text": [
      "/Users/manifect/opt/miniconda3/lib/python3.9/site-packages/sklearn/neural_network/_multilayer_perceptron.py:702: ConvergenceWarning: Stochastic Optimizer: Maximum iterations (500) reached and the optimization hasn't converged yet.\n",
      "  warnings.warn(\n"
     ]
    },
    {
     "name": "stdout",
     "output_type": "stream",
     "text": [
      "Nd: 67, N: 58,trainingerror: 0.027188, testerror: 1.208534\n",
      "Nd: 67, N: 67,trainingerror: 0.032342, testerror: 1.132901\n",
      "Nd: 67, N: 78,trainingerror: 0.083495, testerror: 1.109482\n"
     ]
    },
    {
     "name": "stderr",
     "output_type": "stream",
     "text": [
      "/Users/manifect/opt/miniconda3/lib/python3.9/site-packages/sklearn/neural_network/_multilayer_perceptron.py:702: ConvergenceWarning: Stochastic Optimizer: Maximum iterations (500) reached and the optimization hasn't converged yet.\n",
      "  warnings.warn(\n",
      "/Users/manifect/opt/miniconda3/lib/python3.9/site-packages/sklearn/neural_network/_multilayer_perceptron.py:702: ConvergenceWarning: Stochastic Optimizer: Maximum iterations (500) reached and the optimization hasn't converged yet.\n",
      "  warnings.warn(\n"
     ]
    },
    {
     "name": "stdout",
     "output_type": "stream",
     "text": [
      "Nd: 67, N: 90,trainingerror: 0.086027, testerror: 0.985779\n",
      "Nd: 67, N: 104,trainingerror: 0.086957, testerror: 0.938448\n"
     ]
    },
    {
     "name": "stderr",
     "output_type": "stream",
     "text": [
      "/Users/manifect/opt/miniconda3/lib/python3.9/site-packages/sklearn/neural_network/_multilayer_perceptron.py:702: ConvergenceWarning: Stochastic Optimizer: Maximum iterations (500) reached and the optimization hasn't converged yet.\n",
      "  warnings.warn(\n"
     ]
    },
    {
     "name": "stdout",
     "output_type": "stream",
     "text": [
      "Nd: 67, N: 121,trainingerror: 0.168644, testerror: 0.937639\n",
      "Nd: 67, N: 141,trainingerror: 0.193523, testerror: 0.944538\n"
     ]
    },
    {
     "name": "stderr",
     "output_type": "stream",
     "text": [
      "/Users/manifect/opt/miniconda3/lib/python3.9/site-packages/sklearn/neural_network/_multilayer_perceptron.py:702: ConvergenceWarning: Stochastic Optimizer: Maximum iterations (500) reached and the optimization hasn't converged yet.\n",
      "  warnings.warn(\n"
     ]
    },
    {
     "name": "stdout",
     "output_type": "stream",
     "text": [
      "Nd: 67, N: 163,trainingerror: 0.191198, testerror: 0.922060\n"
     ]
    },
    {
     "name": "stderr",
     "output_type": "stream",
     "text": [
      "/Users/manifect/opt/miniconda3/lib/python3.9/site-packages/sklearn/neural_network/_multilayer_perceptron.py:702: ConvergenceWarning: Stochastic Optimizer: Maximum iterations (500) reached and the optimization hasn't converged yet.\n",
      "  warnings.warn(\n"
     ]
    },
    {
     "name": "stdout",
     "output_type": "stream",
     "text": [
      "Nd: 67, N: 190,trainingerror: 0.224705, testerror: 0.789925\n"
     ]
    },
    {
     "name": "stderr",
     "output_type": "stream",
     "text": [
      "/Users/manifect/opt/miniconda3/lib/python3.9/site-packages/sklearn/neural_network/_multilayer_perceptron.py:702: ConvergenceWarning: Stochastic Optimizer: Maximum iterations (500) reached and the optimization hasn't converged yet.\n",
      "  warnings.warn(\n"
     ]
    },
    {
     "name": "stdout",
     "output_type": "stream",
     "text": [
      "Nd: 67, N: 220,trainingerror: 0.274709, testerror: 0.659464\n"
     ]
    },
    {
     "name": "stderr",
     "output_type": "stream",
     "text": [
      "/Users/manifect/opt/miniconda3/lib/python3.9/site-packages/sklearn/neural_network/_multilayer_perceptron.py:702: ConvergenceWarning: Stochastic Optimizer: Maximum iterations (500) reached and the optimization hasn't converged yet.\n",
      "  warnings.warn(\n",
      "/Users/manifect/opt/miniconda3/lib/python3.9/site-packages/sklearn/neural_network/_multilayer_perceptron.py:702: ConvergenceWarning: Stochastic Optimizer: Maximum iterations (500) reached and the optimization hasn't converged yet.\n",
      "  warnings.warn(\n"
     ]
    },
    {
     "name": "stdout",
     "output_type": "stream",
     "text": [
      "Nd: 67, N: 256,trainingerror: 0.254321, testerror: 0.744642\n"
     ]
    },
    {
     "name": "stderr",
     "output_type": "stream",
     "text": [
      "/Users/manifect/opt/miniconda3/lib/python3.9/site-packages/sklearn/neural_network/_multilayer_perceptron.py:702: ConvergenceWarning: Stochastic Optimizer: Maximum iterations (500) reached and the optimization hasn't converged yet.\n",
      "  warnings.warn(\n"
     ]
    },
    {
     "name": "stdout",
     "output_type": "stream",
     "text": [
      "Nd: 67, N: 297,trainingerror: 0.281739, testerror: 0.648920\n",
      "Nd: 67, N: 345,trainingerror: 0.278097, testerror: 0.625111\n",
      "Nd: 67, N: 400,trainingerror: 0.341339, testerror: 0.586364\n",
      "Nd: 67, N: 465,trainingerror: 0.335490, testerror: 0.577844\n",
      "Nd: 67, N: 540,trainingerror: 0.390953, testerror: 0.624085\n",
      "Nd: 67, N: 627,trainingerror: 0.351571, testerror: 0.546459\n",
      "Nd: 67, N: 729,trainingerror: 0.312343, testerror: 0.516186\n"
     ]
    },
    {
     "name": "stderr",
     "output_type": "stream",
     "text": [
      "/Users/manifect/opt/miniconda3/lib/python3.9/site-packages/sklearn/neural_network/_multilayer_perceptron.py:702: ConvergenceWarning: Stochastic Optimizer: Maximum iterations (500) reached and the optimization hasn't converged yet.\n",
      "  warnings.warn(\n"
     ]
    },
    {
     "name": "stdout",
     "output_type": "stream",
     "text": [
      "Nd: 67, N: 846,trainingerror: 0.367433, testerror: 0.472766\n"
     ]
    },
    {
     "name": "stderr",
     "output_type": "stream",
     "text": [
      "/Users/manifect/opt/miniconda3/lib/python3.9/site-packages/sklearn/neural_network/_multilayer_perceptron.py:702: ConvergenceWarning: Stochastic Optimizer: Maximum iterations (500) reached and the optimization hasn't converged yet.\n",
      "  warnings.warn(\n",
      "/Users/manifect/opt/miniconda3/lib/python3.9/site-packages/sklearn/neural_network/_multilayer_perceptron.py:702: ConvergenceWarning: Stochastic Optimizer: Maximum iterations (500) reached and the optimization hasn't converged yet.\n",
      "  warnings.warn(\n",
      "/Users/manifect/opt/miniconda3/lib/python3.9/site-packages/sklearn/neural_network/_multilayer_perceptron.py:702: ConvergenceWarning: Stochastic Optimizer: Maximum iterations (500) reached and the optimization hasn't converged yet.\n",
      "  warnings.warn(\n"
     ]
    },
    {
     "name": "stdout",
     "output_type": "stream",
     "text": [
      "Nd: 67, N: 983,trainingerror: 0.348147, testerror: 0.440701\n"
     ]
    },
    {
     "name": "stderr",
     "output_type": "stream",
     "text": [
      "/Users/manifect/opt/miniconda3/lib/python3.9/site-packages/sklearn/neural_network/_multilayer_perceptron.py:702: ConvergenceWarning: Stochastic Optimizer: Maximum iterations (500) reached and the optimization hasn't converged yet.\n",
      "  warnings.warn(\n"
     ]
    },
    {
     "name": "stdout",
     "output_type": "stream",
     "text": [
      "Nd: 67, N: 1142,trainingerror: 0.337987, testerror: 0.451988\n"
     ]
    },
    {
     "name": "stderr",
     "output_type": "stream",
     "text": [
      "/Users/manifect/opt/miniconda3/lib/python3.9/site-packages/sklearn/neural_network/_multilayer_perceptron.py:702: ConvergenceWarning: Stochastic Optimizer: Maximum iterations (500) reached and the optimization hasn't converged yet.\n",
      "  warnings.warn(\n"
     ]
    },
    {
     "name": "stdout",
     "output_type": "stream",
     "text": [
      "Nd: 67, N: 1326,trainingerror: 0.339591, testerror: 0.446172\n",
      "Nd: 67, N: 1541,trainingerror: 0.338968, testerror: 0.380751\n",
      "Nd: 67, N: 1789,trainingerror: 0.362581, testerror: 0.413090\n",
      "Nd: 67, N: 2078,trainingerror: 0.309707, testerror: 0.365529\n",
      "Nd: 67, N: 2414,trainingerror: 0.378580, testerror: 0.385433\n",
      "Nd: 67, N: 2804,trainingerror: 0.423322, testerror: 0.452262\n",
      "Nd: 67, N: 3257,trainingerror: 0.382328, testerror: 0.404435\n",
      "Nd: 67, N: 3783,trainingerror: 0.329837, testerror: 0.348887\n",
      "Nd: 67, N: 4395,trainingerror: 0.377203, testerror: 0.381204\n",
      "Nd: 67, N: 5105,trainingerror: 0.317123, testerror: 0.344146\n",
      "Nd: 67, N: 5930,trainingerror: 0.346325, testerror: 0.349948\n",
      "Nd: 67, N: 6888,trainingerror: 0.370598, testerror: 0.408039\n",
      "Nd: 78, N: 20,trainingerror: 0.041760, testerror: 1.099146\n",
      "Nd: 78, N: 24,trainingerror: 0.037988, testerror: 1.072974\n",
      "Nd: 78, N: 27,trainingerror: 0.061081, testerror: 1.263720\n",
      "Nd: 78, N: 32,trainingerror: 0.019655, testerror: 1.129600\n",
      "Nd: 78, N: 37,trainingerror: 0.025939, testerror: 1.209532\n",
      "Nd: 78, N: 43,trainingerror: 0.035991, testerror: 1.268755\n"
     ]
    },
    {
     "name": "stderr",
     "output_type": "stream",
     "text": [
      "/Users/manifect/opt/miniconda3/lib/python3.9/site-packages/sklearn/neural_network/_multilayer_perceptron.py:702: ConvergenceWarning: Stochastic Optimizer: Maximum iterations (500) reached and the optimization hasn't converged yet.\n",
      "  warnings.warn(\n"
     ]
    },
    {
     "name": "stdout",
     "output_type": "stream",
     "text": [
      "Nd: 78, N: 50,trainingerror: 0.033022, testerror: 1.015969\n"
     ]
    },
    {
     "name": "stderr",
     "output_type": "stream",
     "text": [
      "/Users/manifect/opt/miniconda3/lib/python3.9/site-packages/sklearn/neural_network/_multilayer_perceptron.py:702: ConvergenceWarning: Stochastic Optimizer: Maximum iterations (500) reached and the optimization hasn't converged yet.\n",
      "  warnings.warn(\n"
     ]
    },
    {
     "name": "stdout",
     "output_type": "stream",
     "text": [
      "Nd: 78, N: 58,trainingerror: 0.046298, testerror: 1.239690\n",
      "Nd: 78, N: 67,trainingerror: 0.057324, testerror: 1.239721\n"
     ]
    },
    {
     "name": "stderr",
     "output_type": "stream",
     "text": [
      "/Users/manifect/opt/miniconda3/lib/python3.9/site-packages/sklearn/neural_network/_multilayer_perceptron.py:702: ConvergenceWarning: Stochastic Optimizer: Maximum iterations (500) reached and the optimization hasn't converged yet.\n",
      "  warnings.warn(\n"
     ]
    },
    {
     "name": "stdout",
     "output_type": "stream",
     "text": [
      "Nd: 78, N: 78,trainingerror: 0.065753, testerror: 1.117333\n"
     ]
    },
    {
     "name": "stderr",
     "output_type": "stream",
     "text": [
      "/Users/manifect/opt/miniconda3/lib/python3.9/site-packages/sklearn/neural_network/_multilayer_perceptron.py:702: ConvergenceWarning: Stochastic Optimizer: Maximum iterations (500) reached and the optimization hasn't converged yet.\n",
      "  warnings.warn(\n",
      "/Users/manifect/opt/miniconda3/lib/python3.9/site-packages/sklearn/neural_network/_multilayer_perceptron.py:702: ConvergenceWarning: Stochastic Optimizer: Maximum iterations (500) reached and the optimization hasn't converged yet.\n",
      "  warnings.warn(\n"
     ]
    },
    {
     "name": "stdout",
     "output_type": "stream",
     "text": [
      "Nd: 78, N: 90,trainingerror: 0.109520, testerror: 1.138419\n"
     ]
    },
    {
     "name": "stderr",
     "output_type": "stream",
     "text": [
      "/Users/manifect/opt/miniconda3/lib/python3.9/site-packages/sklearn/neural_network/_multilayer_perceptron.py:702: ConvergenceWarning: Stochastic Optimizer: Maximum iterations (500) reached and the optimization hasn't converged yet.\n",
      "  warnings.warn(\n"
     ]
    },
    {
     "name": "stdout",
     "output_type": "stream",
     "text": [
      "Nd: 78, N: 104,trainingerror: 0.095541, testerror: 1.053237\n"
     ]
    },
    {
     "name": "stderr",
     "output_type": "stream",
     "text": [
      "/Users/manifect/opt/miniconda3/lib/python3.9/site-packages/sklearn/neural_network/_multilayer_perceptron.py:702: ConvergenceWarning: Stochastic Optimizer: Maximum iterations (500) reached and the optimization hasn't converged yet.\n",
      "  warnings.warn(\n"
     ]
    },
    {
     "name": "stdout",
     "output_type": "stream",
     "text": [
      "Nd: 78, N: 121,trainingerror: 0.205476, testerror: 0.824109\n"
     ]
    },
    {
     "name": "stderr",
     "output_type": "stream",
     "text": [
      "/Users/manifect/opt/miniconda3/lib/python3.9/site-packages/sklearn/neural_network/_multilayer_perceptron.py:702: ConvergenceWarning: Stochastic Optimizer: Maximum iterations (500) reached and the optimization hasn't converged yet.\n",
      "  warnings.warn(\n"
     ]
    },
    {
     "name": "stdout",
     "output_type": "stream",
     "text": [
      "Nd: 78, N: 141,trainingerror: 0.196419, testerror: 1.003184\n"
     ]
    },
    {
     "name": "stderr",
     "output_type": "stream",
     "text": [
      "/Users/manifect/opt/miniconda3/lib/python3.9/site-packages/sklearn/neural_network/_multilayer_perceptron.py:702: ConvergenceWarning: Stochastic Optimizer: Maximum iterations (500) reached and the optimization hasn't converged yet.\n",
      "  warnings.warn(\n"
     ]
    },
    {
     "name": "stdout",
     "output_type": "stream",
     "text": [
      "Nd: 78, N: 163,trainingerror: 0.165318, testerror: 0.764955\n",
      "Nd: 78, N: 190,trainingerror: 0.207599, testerror: 0.821661\n",
      "Nd: 78, N: 220,trainingerror: 0.275520, testerror: 0.679094\n",
      "Nd: 78, N: 256,trainingerror: 0.385515, testerror: 0.687970\n"
     ]
    },
    {
     "name": "stderr",
     "output_type": "stream",
     "text": [
      "/Users/manifect/opt/miniconda3/lib/python3.9/site-packages/sklearn/neural_network/_multilayer_perceptron.py:702: ConvergenceWarning: Stochastic Optimizer: Maximum iterations (500) reached and the optimization hasn't converged yet.\n",
      "  warnings.warn(\n"
     ]
    },
    {
     "name": "stdout",
     "output_type": "stream",
     "text": [
      "Nd: 78, N: 297,trainingerror: 0.351976, testerror: 0.706482\n"
     ]
    },
    {
     "name": "stderr",
     "output_type": "stream",
     "text": [
      "/Users/manifect/opt/miniconda3/lib/python3.9/site-packages/sklearn/neural_network/_multilayer_perceptron.py:702: ConvergenceWarning: Stochastic Optimizer: Maximum iterations (500) reached and the optimization hasn't converged yet.\n",
      "  warnings.warn(\n",
      "/Users/manifect/opt/miniconda3/lib/python3.9/site-packages/sklearn/neural_network/_multilayer_perceptron.py:702: ConvergenceWarning: Stochastic Optimizer: Maximum iterations (500) reached and the optimization hasn't converged yet.\n",
      "  warnings.warn(\n"
     ]
    },
    {
     "name": "stdout",
     "output_type": "stream",
     "text": [
      "Nd: 78, N: 345,trainingerror: 0.324070, testerror: 0.642666\n",
      "Nd: 78, N: 400,trainingerror: 0.320228, testerror: 0.600121\n",
      "Nd: 78, N: 465,trainingerror: 0.324564, testerror: 0.590068\n"
     ]
    },
    {
     "name": "stderr",
     "output_type": "stream",
     "text": [
      "/Users/manifect/opt/miniconda3/lib/python3.9/site-packages/sklearn/neural_network/_multilayer_perceptron.py:702: ConvergenceWarning: Stochastic Optimizer: Maximum iterations (500) reached and the optimization hasn't converged yet.\n",
      "  warnings.warn(\n"
     ]
    },
    {
     "name": "stdout",
     "output_type": "stream",
     "text": [
      "Nd: 78, N: 540,trainingerror: 0.377002, testerror: 0.568384\n",
      "Nd: 78, N: 627,trainingerror: 0.387238, testerror: 0.551819\n"
     ]
    },
    {
     "name": "stderr",
     "output_type": "stream",
     "text": [
      "/Users/manifect/opt/miniconda3/lib/python3.9/site-packages/sklearn/neural_network/_multilayer_perceptron.py:702: ConvergenceWarning: Stochastic Optimizer: Maximum iterations (500) reached and the optimization hasn't converged yet.\n",
      "  warnings.warn(\n"
     ]
    },
    {
     "name": "stdout",
     "output_type": "stream",
     "text": [
      "Nd: 78, N: 729,trainingerror: 0.351639, testerror: 0.472395\n"
     ]
    },
    {
     "name": "stderr",
     "output_type": "stream",
     "text": [
      "/Users/manifect/opt/miniconda3/lib/python3.9/site-packages/sklearn/neural_network/_multilayer_perceptron.py:702: ConvergenceWarning: Stochastic Optimizer: Maximum iterations (500) reached and the optimization hasn't converged yet.\n",
      "  warnings.warn(\n"
     ]
    },
    {
     "name": "stdout",
     "output_type": "stream",
     "text": [
      "Nd: 78, N: 846,trainingerror: 0.379209, testerror: 0.488795\n",
      "Nd: 78, N: 983,trainingerror: 0.355529, testerror: 0.500543\n"
     ]
    },
    {
     "name": "stderr",
     "output_type": "stream",
     "text": [
      "/Users/manifect/opt/miniconda3/lib/python3.9/site-packages/sklearn/neural_network/_multilayer_perceptron.py:702: ConvergenceWarning: Stochastic Optimizer: Maximum iterations (500) reached and the optimization hasn't converged yet.\n",
      "  warnings.warn(\n"
     ]
    },
    {
     "name": "stdout",
     "output_type": "stream",
     "text": [
      "Nd: 78, N: 1142,trainingerror: 0.347967, testerror: 0.436236\n",
      "Nd: 78, N: 1326,trainingerror: 0.413227, testerror: 0.466640\n",
      "Nd: 78, N: 1541,trainingerror: 0.374249, testerror: 0.449594\n",
      "Nd: 78, N: 1789,trainingerror: 0.360505, testerror: 0.436974\n",
      "Nd: 78, N: 2078,trainingerror: 0.368223, testerror: 0.440272\n",
      "Nd: 78, N: 2414,trainingerror: 0.362307, testerror: 0.420823\n",
      "Nd: 78, N: 2804,trainingerror: 0.378249, testerror: 0.414272\n",
      "Nd: 78, N: 3257,trainingerror: 0.408159, testerror: 0.427610\n",
      "Nd: 78, N: 3783,trainingerror: 0.353368, testerror: 0.384573\n",
      "Nd: 78, N: 4395,trainingerror: 0.344648, testerror: 0.386655\n",
      "Nd: 78, N: 5105,trainingerror: 0.373835, testerror: 0.400906\n",
      "Nd: 78, N: 5930,trainingerror: 0.400369, testerror: 0.413349\n",
      "Nd: 78, N: 6888,trainingerror: 0.362791, testerror: 0.401390\n",
      "Nd: 90, N: 20,trainingerror: 0.008287, testerror: 1.360562\n"
     ]
    },
    {
     "name": "stderr",
     "output_type": "stream",
     "text": [
      "/Users/manifect/opt/miniconda3/lib/python3.9/site-packages/sklearn/neural_network/_multilayer_perceptron.py:702: ConvergenceWarning: Stochastic Optimizer: Maximum iterations (500) reached and the optimization hasn't converged yet.\n",
      "  warnings.warn(\n"
     ]
    },
    {
     "name": "stdout",
     "output_type": "stream",
     "text": [
      "Nd: 90, N: 24,trainingerror: 0.025846, testerror: 1.416147\n",
      "Nd: 90, N: 27,trainingerror: 0.015812, testerror: 1.209445\n",
      "Nd: 90, N: 32,trainingerror: 0.022257, testerror: 1.223554\n",
      "Nd: 90, N: 37,trainingerror: 0.026651, testerror: 1.263061\n",
      "Nd: 90, N: 43,trainingerror: 0.031448, testerror: 1.548053\n"
     ]
    },
    {
     "name": "stderr",
     "output_type": "stream",
     "text": [
      "/Users/manifect/opt/miniconda3/lib/python3.9/site-packages/sklearn/neural_network/_multilayer_perceptron.py:702: ConvergenceWarning: Stochastic Optimizer: Maximum iterations (500) reached and the optimization hasn't converged yet.\n",
      "  warnings.warn(\n"
     ]
    },
    {
     "name": "stdout",
     "output_type": "stream",
     "text": [
      "Nd: 90, N: 50,trainingerror: 0.026381, testerror: 1.994404\n",
      "Nd: 90, N: 58,trainingerror: 0.035974, testerror: 1.167320\n",
      "Nd: 90, N: 67,trainingerror: 0.033831, testerror: 1.068429\n"
     ]
    },
    {
     "name": "stderr",
     "output_type": "stream",
     "text": [
      "/Users/manifect/opt/miniconda3/lib/python3.9/site-packages/sklearn/neural_network/_multilayer_perceptron.py:702: ConvergenceWarning: Stochastic Optimizer: Maximum iterations (500) reached and the optimization hasn't converged yet.\n",
      "  warnings.warn(\n"
     ]
    },
    {
     "name": "stdout",
     "output_type": "stream",
     "text": [
      "Nd: 90, N: 78,trainingerror: 0.051300, testerror: 1.414967\n",
      "Nd: 90, N: 90,trainingerror: 0.040635, testerror: 1.256730\n",
      "Nd: 90, N: 104,trainingerror: 0.061092, testerror: 1.109902\n",
      "Nd: 90, N: 121,trainingerror: 0.099503, testerror: 1.225107\n"
     ]
    },
    {
     "name": "stderr",
     "output_type": "stream",
     "text": [
      "/Users/manifect/opt/miniconda3/lib/python3.9/site-packages/sklearn/neural_network/_multilayer_perceptron.py:702: ConvergenceWarning: Stochastic Optimizer: Maximum iterations (500) reached and the optimization hasn't converged yet.\n",
      "  warnings.warn(\n"
     ]
    },
    {
     "name": "stdout",
     "output_type": "stream",
     "text": [
      "Nd: 90, N: 141,trainingerror: 0.159580, testerror: 1.042426\n",
      "Nd: 90, N: 163,trainingerror: 0.122185, testerror: 0.859834\n",
      "Nd: 90, N: 190,trainingerror: 0.153913, testerror: 0.846553\n",
      "Nd: 90, N: 220,trainingerror: 0.285765, testerror: 0.720042\n"
     ]
    },
    {
     "name": "stderr",
     "output_type": "stream",
     "text": [
      "/Users/manifect/opt/miniconda3/lib/python3.9/site-packages/sklearn/neural_network/_multilayer_perceptron.py:702: ConvergenceWarning: Stochastic Optimizer: Maximum iterations (500) reached and the optimization hasn't converged yet.\n",
      "  warnings.warn(\n"
     ]
    },
    {
     "name": "stdout",
     "output_type": "stream",
     "text": [
      "Nd: 90, N: 256,trainingerror: 0.234656, testerror: 0.691735\n"
     ]
    },
    {
     "name": "stderr",
     "output_type": "stream",
     "text": [
      "/Users/manifect/opt/miniconda3/lib/python3.9/site-packages/sklearn/neural_network/_multilayer_perceptron.py:702: ConvergenceWarning: Stochastic Optimizer: Maximum iterations (500) reached and the optimization hasn't converged yet.\n",
      "  warnings.warn(\n",
      "/Users/manifect/opt/miniconda3/lib/python3.9/site-packages/sklearn/neural_network/_multilayer_perceptron.py:702: ConvergenceWarning: Stochastic Optimizer: Maximum iterations (500) reached and the optimization hasn't converged yet.\n",
      "  warnings.warn(\n",
      "/Users/manifect/opt/miniconda3/lib/python3.9/site-packages/sklearn/neural_network/_multilayer_perceptron.py:702: ConvergenceWarning: Stochastic Optimizer: Maximum iterations (500) reached and the optimization hasn't converged yet.\n",
      "  warnings.warn(\n"
     ]
    },
    {
     "name": "stdout",
     "output_type": "stream",
     "text": [
      "Nd: 90, N: 297,trainingerror: 0.273198, testerror: 0.727074\n",
      "Nd: 90, N: 345,trainingerror: 0.253988, testerror: 0.655859\n"
     ]
    },
    {
     "name": "stderr",
     "output_type": "stream",
     "text": [
      "/Users/manifect/opt/miniconda3/lib/python3.9/site-packages/sklearn/neural_network/_multilayer_perceptron.py:702: ConvergenceWarning: Stochastic Optimizer: Maximum iterations (500) reached and the optimization hasn't converged yet.\n",
      "  warnings.warn(\n",
      "/Users/manifect/opt/miniconda3/lib/python3.9/site-packages/sklearn/neural_network/_multilayer_perceptron.py:702: ConvergenceWarning: Stochastic Optimizer: Maximum iterations (500) reached and the optimization hasn't converged yet.\n",
      "  warnings.warn(\n",
      "/Users/manifect/opt/miniconda3/lib/python3.9/site-packages/sklearn/neural_network/_multilayer_perceptron.py:702: ConvergenceWarning: Stochastic Optimizer: Maximum iterations (500) reached and the optimization hasn't converged yet.\n",
      "  warnings.warn(\n"
     ]
    },
    {
     "name": "stdout",
     "output_type": "stream",
     "text": [
      "Nd: 90, N: 400,trainingerror: 0.285585, testerror: 0.628298\n"
     ]
    },
    {
     "name": "stderr",
     "output_type": "stream",
     "text": [
      "/Users/manifect/opt/miniconda3/lib/python3.9/site-packages/sklearn/neural_network/_multilayer_perceptron.py:702: ConvergenceWarning: Stochastic Optimizer: Maximum iterations (500) reached and the optimization hasn't converged yet.\n",
      "  warnings.warn(\n",
      "/Users/manifect/opt/miniconda3/lib/python3.9/site-packages/sklearn/neural_network/_multilayer_perceptron.py:702: ConvergenceWarning: Stochastic Optimizer: Maximum iterations (500) reached and the optimization hasn't converged yet.\n",
      "  warnings.warn(\n"
     ]
    },
    {
     "name": "stdout",
     "output_type": "stream",
     "text": [
      "Nd: 90, N: 465,trainingerror: 0.295209, testerror: 0.640079\n"
     ]
    },
    {
     "name": "stderr",
     "output_type": "stream",
     "text": [
      "/Users/manifect/opt/miniconda3/lib/python3.9/site-packages/sklearn/neural_network/_multilayer_perceptron.py:702: ConvergenceWarning: Stochastic Optimizer: Maximum iterations (500) reached and the optimization hasn't converged yet.\n",
      "  warnings.warn(\n"
     ]
    },
    {
     "name": "stdout",
     "output_type": "stream",
     "text": [
      "Nd: 90, N: 540,trainingerror: 0.289590, testerror: 0.580927\n",
      "Nd: 90, N: 627,trainingerror: 0.379957, testerror: 0.541559\n"
     ]
    },
    {
     "name": "stderr",
     "output_type": "stream",
     "text": [
      "/Users/manifect/opt/miniconda3/lib/python3.9/site-packages/sklearn/neural_network/_multilayer_perceptron.py:702: ConvergenceWarning: Stochastic Optimizer: Maximum iterations (500) reached and the optimization hasn't converged yet.\n",
      "  warnings.warn(\n",
      "/Users/manifect/opt/miniconda3/lib/python3.9/site-packages/sklearn/neural_network/_multilayer_perceptron.py:702: ConvergenceWarning: Stochastic Optimizer: Maximum iterations (500) reached and the optimization hasn't converged yet.\n",
      "  warnings.warn(\n"
     ]
    },
    {
     "name": "stdout",
     "output_type": "stream",
     "text": [
      "Nd: 90, N: 729,trainingerror: 0.323100, testerror: 0.512201\n"
     ]
    },
    {
     "name": "stderr",
     "output_type": "stream",
     "text": [
      "/Users/manifect/opt/miniconda3/lib/python3.9/site-packages/sklearn/neural_network/_multilayer_perceptron.py:702: ConvergenceWarning: Stochastic Optimizer: Maximum iterations (500) reached and the optimization hasn't converged yet.\n",
      "  warnings.warn(\n"
     ]
    },
    {
     "name": "stdout",
     "output_type": "stream",
     "text": [
      "Nd: 90, N: 846,trainingerror: 0.309874, testerror: 0.475473\n",
      "Nd: 90, N: 983,trainingerror: 0.330962, testerror: 0.462706\n",
      "Nd: 90, N: 1142,trainingerror: 0.337597, testerror: 0.453152\n",
      "Nd: 90, N: 1326,trainingerror: 0.334803, testerror: 0.446354\n",
      "Nd: 90, N: 1541,trainingerror: 0.331110, testerror: 0.436515\n",
      "Nd: 90, N: 1789,trainingerror: 0.324391, testerror: 0.395118\n",
      "Nd: 90, N: 2078,trainingerror: 0.353915, testerror: 0.390757\n",
      "Nd: 90, N: 2414,trainingerror: 0.357108, testerror: 0.423478\n",
      "Nd: 90, N: 2804,trainingerror: 0.317464, testerror: 0.378518\n",
      "Nd: 90, N: 3257,trainingerror: 0.336351, testerror: 0.364821\n",
      "Nd: 90, N: 3783,trainingerror: 0.334777, testerror: 0.358946\n",
      "Nd: 90, N: 4395,trainingerror: 0.315225, testerror: 0.340781\n",
      "Nd: 90, N: 5105,trainingerror: 0.305813, testerror: 0.329148\n",
      "Nd: 90, N: 5930,trainingerror: 0.341348, testerror: 0.346069\n",
      "Nd: 90, N: 6888,trainingerror: 0.307675, testerror: 0.322035\n",
      "Nd: 104, N: 20,trainingerror: 0.003179, testerror: 0.995262\n",
      "Nd: 104, N: 24,trainingerror: 0.015136, testerror: 2.295053\n",
      "Nd: 104, N: 27,trainingerror: 0.007091, testerror: 1.060451\n",
      "Nd: 104, N: 32,trainingerror: 0.019461, testerror: 1.301941\n",
      "Nd: 104, N: 37,trainingerror: 0.028107, testerror: 1.022666\n",
      "Nd: 104, N: 43,trainingerror: 0.005921, testerror: 1.175281\n",
      "Nd: 104, N: 50,trainingerror: 0.009651, testerror: 1.076111\n",
      "Nd: 104, N: 58,trainingerror: 0.017919, testerror: 1.053009\n",
      "Nd: 104, N: 67,trainingerror: 0.015129, testerror: 0.977552\n",
      "Nd: 104, N: 78,trainingerror: 0.018179, testerror: 1.706084\n",
      "Nd: 104, N: 90,trainingerror: 0.021466, testerror: 0.994668\n"
     ]
    },
    {
     "name": "stderr",
     "output_type": "stream",
     "text": [
      "/Users/manifect/opt/miniconda3/lib/python3.9/site-packages/sklearn/neural_network/_multilayer_perceptron.py:702: ConvergenceWarning: Stochastic Optimizer: Maximum iterations (500) reached and the optimization hasn't converged yet.\n",
      "  warnings.warn(\n",
      "/Users/manifect/opt/miniconda3/lib/python3.9/site-packages/sklearn/neural_network/_multilayer_perceptron.py:702: ConvergenceWarning: Stochastic Optimizer: Maximum iterations (500) reached and the optimization hasn't converged yet.\n",
      "  warnings.warn(\n"
     ]
    },
    {
     "name": "stdout",
     "output_type": "stream",
     "text": [
      "Nd: 104, N: 104,trainingerror: 0.046530, testerror: 1.269082\n"
     ]
    },
    {
     "name": "stderr",
     "output_type": "stream",
     "text": [
      "/Users/manifect/opt/miniconda3/lib/python3.9/site-packages/sklearn/neural_network/_multilayer_perceptron.py:702: ConvergenceWarning: Stochastic Optimizer: Maximum iterations (500) reached and the optimization hasn't converged yet.\n",
      "  warnings.warn(\n"
     ]
    },
    {
     "name": "stdout",
     "output_type": "stream",
     "text": [
      "Nd: 104, N: 121,trainingerror: 0.064066, testerror: 1.088482\n",
      "Nd: 104, N: 141,trainingerror: 0.079605, testerror: 1.175812\n"
     ]
    },
    {
     "name": "stderr",
     "output_type": "stream",
     "text": [
      "/Users/manifect/opt/miniconda3/lib/python3.9/site-packages/sklearn/neural_network/_multilayer_perceptron.py:702: ConvergenceWarning: Stochastic Optimizer: Maximum iterations (500) reached and the optimization hasn't converged yet.\n",
      "  warnings.warn(\n"
     ]
    },
    {
     "name": "stdout",
     "output_type": "stream",
     "text": [
      "Nd: 104, N: 163,trainingerror: 0.090727, testerror: 0.830117\n"
     ]
    },
    {
     "name": "stderr",
     "output_type": "stream",
     "text": [
      "/Users/manifect/opt/miniconda3/lib/python3.9/site-packages/sklearn/neural_network/_multilayer_perceptron.py:702: ConvergenceWarning: Stochastic Optimizer: Maximum iterations (500) reached and the optimization hasn't converged yet.\n",
      "  warnings.warn(\n"
     ]
    },
    {
     "name": "stdout",
     "output_type": "stream",
     "text": [
      "Nd: 104, N: 190,trainingerror: 0.117712, testerror: 0.910735\n",
      "Nd: 104, N: 220,trainingerror: 0.169355, testerror: 0.717354\n"
     ]
    },
    {
     "name": "stderr",
     "output_type": "stream",
     "text": [
      "/Users/manifect/opt/miniconda3/lib/python3.9/site-packages/sklearn/neural_network/_multilayer_perceptron.py:702: ConvergenceWarning: Stochastic Optimizer: Maximum iterations (500) reached and the optimization hasn't converged yet.\n",
      "  warnings.warn(\n"
     ]
    },
    {
     "name": "stdout",
     "output_type": "stream",
     "text": [
      "Nd: 104, N: 256,trainingerror: 0.202402, testerror: 0.827252\n"
     ]
    },
    {
     "name": "stderr",
     "output_type": "stream",
     "text": [
      "/Users/manifect/opt/miniconda3/lib/python3.9/site-packages/sklearn/neural_network/_multilayer_perceptron.py:702: ConvergenceWarning: Stochastic Optimizer: Maximum iterations (500) reached and the optimization hasn't converged yet.\n",
      "  warnings.warn(\n",
      "/Users/manifect/opt/miniconda3/lib/python3.9/site-packages/sklearn/neural_network/_multilayer_perceptron.py:702: ConvergenceWarning: Stochastic Optimizer: Maximum iterations (500) reached and the optimization hasn't converged yet.\n",
      "  warnings.warn(\n",
      "/Users/manifect/opt/miniconda3/lib/python3.9/site-packages/sklearn/neural_network/_multilayer_perceptron.py:702: ConvergenceWarning: Stochastic Optimizer: Maximum iterations (500) reached and the optimization hasn't converged yet.\n",
      "  warnings.warn(\n",
      "/Users/manifect/opt/miniconda3/lib/python3.9/site-packages/sklearn/neural_network/_multilayer_perceptron.py:702: ConvergenceWarning: Stochastic Optimizer: Maximum iterations (500) reached and the optimization hasn't converged yet.\n",
      "  warnings.warn(\n"
     ]
    },
    {
     "name": "stdout",
     "output_type": "stream",
     "text": [
      "Nd: 104, N: 297,trainingerror: 0.190621, testerror: 0.772397\n"
     ]
    },
    {
     "name": "stderr",
     "output_type": "stream",
     "text": [
      "/Users/manifect/opt/miniconda3/lib/python3.9/site-packages/sklearn/neural_network/_multilayer_perceptron.py:702: ConvergenceWarning: Stochastic Optimizer: Maximum iterations (500) reached and the optimization hasn't converged yet.\n",
      "  warnings.warn(\n"
     ]
    },
    {
     "name": "stdout",
     "output_type": "stream",
     "text": [
      "Nd: 104, N: 345,trainingerror: 0.236382, testerror: 0.739211\n"
     ]
    },
    {
     "name": "stderr",
     "output_type": "stream",
     "text": [
      "/Users/manifect/opt/miniconda3/lib/python3.9/site-packages/sklearn/neural_network/_multilayer_perceptron.py:702: ConvergenceWarning: Stochastic Optimizer: Maximum iterations (500) reached and the optimization hasn't converged yet.\n",
      "  warnings.warn(\n",
      "/Users/manifect/opt/miniconda3/lib/python3.9/site-packages/sklearn/neural_network/_multilayer_perceptron.py:702: ConvergenceWarning: Stochastic Optimizer: Maximum iterations (500) reached and the optimization hasn't converged yet.\n",
      "  warnings.warn(\n",
      "/Users/manifect/opt/miniconda3/lib/python3.9/site-packages/sklearn/neural_network/_multilayer_perceptron.py:702: ConvergenceWarning: Stochastic Optimizer: Maximum iterations (500) reached and the optimization hasn't converged yet.\n",
      "  warnings.warn(\n",
      "/Users/manifect/opt/miniconda3/lib/python3.9/site-packages/sklearn/neural_network/_multilayer_perceptron.py:702: ConvergenceWarning: Stochastic Optimizer: Maximum iterations (500) reached and the optimization hasn't converged yet.\n",
      "  warnings.warn(\n"
     ]
    },
    {
     "name": "stdout",
     "output_type": "stream",
     "text": [
      "Nd: 104, N: 400,trainingerror: 0.227606, testerror: 0.696416\n",
      "Nd: 104, N: 465,trainingerror: 0.250339, testerror: 0.609012\n",
      "Nd: 104, N: 540,trainingerror: 0.340782, testerror: 0.644178\n",
      "Nd: 104, N: 627,trainingerror: 0.291336, testerror: 0.529206\n"
     ]
    },
    {
     "name": "stderr",
     "output_type": "stream",
     "text": [
      "/Users/manifect/opt/miniconda3/lib/python3.9/site-packages/sklearn/neural_network/_multilayer_perceptron.py:702: ConvergenceWarning: Stochastic Optimizer: Maximum iterations (500) reached and the optimization hasn't converged yet.\n",
      "  warnings.warn(\n"
     ]
    },
    {
     "name": "stdout",
     "output_type": "stream",
     "text": [
      "Nd: 104, N: 729,trainingerror: 0.289408, testerror: 0.531764\n",
      "Nd: 104, N: 846,trainingerror: 0.287064, testerror: 0.504158\n",
      "Nd: 104, N: 983,trainingerror: 0.314955, testerror: 0.506730\n",
      "Nd: 104, N: 1142,trainingerror: 0.334839, testerror: 0.490339\n",
      "Nd: 104, N: 1326,trainingerror: 0.296424, testerror: 0.445254\n",
      "Nd: 104, N: 1541,trainingerror: 0.296736, testerror: 0.403074\n",
      "Nd: 104, N: 1789,trainingerror: 0.324100, testerror: 0.405439\n",
      "Nd: 104, N: 2078,trainingerror: 0.310575, testerror: 0.388320\n",
      "Nd: 104, N: 2414,trainingerror: 0.325240, testerror: 0.362574\n",
      "Nd: 104, N: 2804,trainingerror: 0.361870, testerror: 0.412810\n",
      "Nd: 104, N: 3257,trainingerror: 0.310427, testerror: 0.350473\n",
      "Nd: 104, N: 3783,trainingerror: 0.310064, testerror: 0.340883\n",
      "Nd: 104, N: 4395,trainingerror: 0.322526, testerror: 0.342691\n",
      "Nd: 104, N: 5105,trainingerror: 0.318607, testerror: 0.339745\n",
      "Nd: 104, N: 5930,trainingerror: 0.306047, testerror: 0.324676\n",
      "Nd: 104, N: 6888,trainingerror: 0.310266, testerror: 0.312843\n",
      "Nd: 121, N: 20,trainingerror: 0.003731, testerror: 0.959805\n",
      "Nd: 121, N: 24,trainingerror: 0.009752, testerror: 0.926055\n",
      "Nd: 121, N: 27,trainingerror: 0.011677, testerror: 1.272360\n",
      "Nd: 121, N: 32,trainingerror: 0.004003, testerror: 1.065876\n",
      "Nd: 121, N: 37,trainingerror: 0.011186, testerror: 1.075999\n"
     ]
    },
    {
     "name": "stderr",
     "output_type": "stream",
     "text": [
      "/Users/manifect/opt/miniconda3/lib/python3.9/site-packages/sklearn/neural_network/_multilayer_perceptron.py:702: ConvergenceWarning: Stochastic Optimizer: Maximum iterations (500) reached and the optimization hasn't converged yet.\n",
      "  warnings.warn(\n"
     ]
    },
    {
     "name": "stdout",
     "output_type": "stream",
     "text": [
      "Nd: 121, N: 43,trainingerror: 0.023284, testerror: 1.072299\n",
      "Nd: 121, N: 50,trainingerror: 0.012118, testerror: 1.007037\n"
     ]
    },
    {
     "name": "stderr",
     "output_type": "stream",
     "text": [
      "/Users/manifect/opt/miniconda3/lib/python3.9/site-packages/sklearn/neural_network/_multilayer_perceptron.py:702: ConvergenceWarning: Stochastic Optimizer: Maximum iterations (500) reached and the optimization hasn't converged yet.\n",
      "  warnings.warn(\n"
     ]
    },
    {
     "name": "stdout",
     "output_type": "stream",
     "text": [
      "Nd: 121, N: 58,trainingerror: 0.012911, testerror: 1.247809\n",
      "Nd: 121, N: 67,trainingerror: 0.011419, testerror: 1.021288\n"
     ]
    },
    {
     "name": "stderr",
     "output_type": "stream",
     "text": [
      "/Users/manifect/opt/miniconda3/lib/python3.9/site-packages/sklearn/neural_network/_multilayer_perceptron.py:702: ConvergenceWarning: Stochastic Optimizer: Maximum iterations (500) reached and the optimization hasn't converged yet.\n",
      "  warnings.warn(\n"
     ]
    },
    {
     "name": "stdout",
     "output_type": "stream",
     "text": [
      "Nd: 121, N: 78,trainingerror: 0.019473, testerror: 1.183403\n"
     ]
    },
    {
     "name": "stderr",
     "output_type": "stream",
     "text": [
      "/Users/manifect/opt/miniconda3/lib/python3.9/site-packages/sklearn/neural_network/_multilayer_perceptron.py:702: ConvergenceWarning: Stochastic Optimizer: Maximum iterations (500) reached and the optimization hasn't converged yet.\n",
      "  warnings.warn(\n"
     ]
    },
    {
     "name": "stdout",
     "output_type": "stream",
     "text": [
      "Nd: 121, N: 90,trainingerror: 0.019344, testerror: 1.165112\n",
      "Nd: 121, N: 104,trainingerror: 0.017136, testerror: 1.190554\n",
      "Nd: 121, N: 121,trainingerror: 0.045914, testerror: 1.115079\n"
     ]
    },
    {
     "name": "stderr",
     "output_type": "stream",
     "text": [
      "/Users/manifect/opt/miniconda3/lib/python3.9/site-packages/sklearn/neural_network/_multilayer_perceptron.py:702: ConvergenceWarning: Stochastic Optimizer: Maximum iterations (500) reached and the optimization hasn't converged yet.\n",
      "  warnings.warn(\n"
     ]
    },
    {
     "name": "stdout",
     "output_type": "stream",
     "text": [
      "Nd: 121, N: 141,trainingerror: 0.059685, testerror: 1.165290\n",
      "Nd: 121, N: 163,trainingerror: 0.062849, testerror: 1.029195\n"
     ]
    },
    {
     "name": "stderr",
     "output_type": "stream",
     "text": [
      "/Users/manifect/opt/miniconda3/lib/python3.9/site-packages/sklearn/neural_network/_multilayer_perceptron.py:702: ConvergenceWarning: Stochastic Optimizer: Maximum iterations (500) reached and the optimization hasn't converged yet.\n",
      "  warnings.warn(\n"
     ]
    },
    {
     "name": "stdout",
     "output_type": "stream",
     "text": [
      "Nd: 121, N: 190,trainingerror: 0.091817, testerror: 0.999359\n",
      "Nd: 121, N: 220,trainingerror: 0.157973, testerror: 0.757319\n"
     ]
    },
    {
     "name": "stderr",
     "output_type": "stream",
     "text": [
      "/Users/manifect/opt/miniconda3/lib/python3.9/site-packages/sklearn/neural_network/_multilayer_perceptron.py:702: ConvergenceWarning: Stochastic Optimizer: Maximum iterations (500) reached and the optimization hasn't converged yet.\n",
      "  warnings.warn(\n",
      "/Users/manifect/opt/miniconda3/lib/python3.9/site-packages/sklearn/neural_network/_multilayer_perceptron.py:702: ConvergenceWarning: Stochastic Optimizer: Maximum iterations (500) reached and the optimization hasn't converged yet.\n",
      "  warnings.warn(\n"
     ]
    },
    {
     "name": "stdout",
     "output_type": "stream",
     "text": [
      "Nd: 121, N: 256,trainingerror: 0.146626, testerror: 0.857322\n"
     ]
    },
    {
     "name": "stderr",
     "output_type": "stream",
     "text": [
      "/Users/manifect/opt/miniconda3/lib/python3.9/site-packages/sklearn/neural_network/_multilayer_perceptron.py:702: ConvergenceWarning: Stochastic Optimizer: Maximum iterations (500) reached and the optimization hasn't converged yet.\n",
      "  warnings.warn(\n"
     ]
    },
    {
     "name": "stdout",
     "output_type": "stream",
     "text": [
      "Nd: 121, N: 297,trainingerror: 0.182735, testerror: 0.834665\n"
     ]
    },
    {
     "name": "stderr",
     "output_type": "stream",
     "text": [
      "/Users/manifect/opt/miniconda3/lib/python3.9/site-packages/sklearn/neural_network/_multilayer_perceptron.py:702: ConvergenceWarning: Stochastic Optimizer: Maximum iterations (500) reached and the optimization hasn't converged yet.\n",
      "  warnings.warn(\n",
      "/Users/manifect/opt/miniconda3/lib/python3.9/site-packages/sklearn/neural_network/_multilayer_perceptron.py:702: ConvergenceWarning: Stochastic Optimizer: Maximum iterations (500) reached and the optimization hasn't converged yet.\n",
      "  warnings.warn(\n",
      "/Users/manifect/opt/miniconda3/lib/python3.9/site-packages/sklearn/neural_network/_multilayer_perceptron.py:702: ConvergenceWarning: Stochastic Optimizer: Maximum iterations (500) reached and the optimization hasn't converged yet.\n",
      "  warnings.warn(\n"
     ]
    },
    {
     "name": "stdout",
     "output_type": "stream",
     "text": [
      "Nd: 121, N: 345,trainingerror: 0.194019, testerror: 0.716727\n"
     ]
    },
    {
     "name": "stderr",
     "output_type": "stream",
     "text": [
      "/Users/manifect/opt/miniconda3/lib/python3.9/site-packages/sklearn/neural_network/_multilayer_perceptron.py:702: ConvergenceWarning: Stochastic Optimizer: Maximum iterations (500) reached and the optimization hasn't converged yet.\n",
      "  warnings.warn(\n"
     ]
    },
    {
     "name": "stdout",
     "output_type": "stream",
     "text": [
      "Nd: 121, N: 400,trainingerror: 0.208608, testerror: 0.660923\n",
      "Nd: 121, N: 465,trainingerror: 0.245779, testerror: 0.597933\n"
     ]
    },
    {
     "name": "stderr",
     "output_type": "stream",
     "text": [
      "/Users/manifect/opt/miniconda3/lib/python3.9/site-packages/sklearn/neural_network/_multilayer_perceptron.py:702: ConvergenceWarning: Stochastic Optimizer: Maximum iterations (500) reached and the optimization hasn't converged yet.\n",
      "  warnings.warn(\n",
      "/Users/manifect/opt/miniconda3/lib/python3.9/site-packages/sklearn/neural_network/_multilayer_perceptron.py:702: ConvergenceWarning: Stochastic Optimizer: Maximum iterations (500) reached and the optimization hasn't converged yet.\n",
      "  warnings.warn(\n"
     ]
    },
    {
     "name": "stdout",
     "output_type": "stream",
     "text": [
      "Nd: 121, N: 540,trainingerror: 0.259106, testerror: 0.622644\n",
      "Nd: 121, N: 627,trainingerror: 0.272973, testerror: 0.556149\n"
     ]
    },
    {
     "name": "stderr",
     "output_type": "stream",
     "text": [
      "/Users/manifect/opt/miniconda3/lib/python3.9/site-packages/sklearn/neural_network/_multilayer_perceptron.py:702: ConvergenceWarning: Stochastic Optimizer: Maximum iterations (500) reached and the optimization hasn't converged yet.\n",
      "  warnings.warn(\n"
     ]
    },
    {
     "name": "stdout",
     "output_type": "stream",
     "text": [
      "Nd: 121, N: 729,trainingerror: 0.281077, testerror: 0.537948\n",
      "Nd: 121, N: 846,trainingerror: 0.290971, testerror: 0.465523\n"
     ]
    },
    {
     "name": "stderr",
     "output_type": "stream",
     "text": [
      "/Users/manifect/opt/miniconda3/lib/python3.9/site-packages/sklearn/neural_network/_multilayer_perceptron.py:702: ConvergenceWarning: Stochastic Optimizer: Maximum iterations (500) reached and the optimization hasn't converged yet.\n",
      "  warnings.warn(\n"
     ]
    },
    {
     "name": "stdout",
     "output_type": "stream",
     "text": [
      "Nd: 121, N: 983,trainingerror: 0.294951, testerror: 0.482377\n"
     ]
    },
    {
     "name": "stderr",
     "output_type": "stream",
     "text": [
      "/Users/manifect/opt/miniconda3/lib/python3.9/site-packages/sklearn/neural_network/_multilayer_perceptron.py:702: ConvergenceWarning: Stochastic Optimizer: Maximum iterations (500) reached and the optimization hasn't converged yet.\n",
      "  warnings.warn(\n"
     ]
    },
    {
     "name": "stdout",
     "output_type": "stream",
     "text": [
      "Nd: 121, N: 1142,trainingerror: 0.261787, testerror: 0.426157\n",
      "Nd: 121, N: 1326,trainingerror: 0.302653, testerror: 0.443016\n",
      "Nd: 121, N: 1541,trainingerror: 0.301419, testerror: 0.393262\n",
      "Nd: 121, N: 1789,trainingerror: 0.285713, testerror: 0.381916\n",
      "Nd: 121, N: 2078,trainingerror: 0.299939, testerror: 0.360107\n",
      "Nd: 121, N: 2414,trainingerror: 0.307271, testerror: 0.343444\n",
      "Nd: 121, N: 2804,trainingerror: 0.326960, testerror: 0.366939\n",
      "Nd: 121, N: 3257,trainingerror: 0.293058, testerror: 0.332657\n",
      "Nd: 121, N: 3783,trainingerror: 0.281629, testerror: 0.335719\n",
      "Nd: 121, N: 4395,trainingerror: 0.286910, testerror: 0.317267\n",
      "Nd: 121, N: 5105,trainingerror: 0.321451, testerror: 0.364883\n",
      "Nd: 121, N: 5930,trainingerror: 0.303740, testerror: 0.319476\n",
      "Nd: 121, N: 6888,trainingerror: 0.287412, testerror: 0.301475\n",
      "Nd: 141, N: 20,trainingerror: 0.008729, testerror: 1.105118\n",
      "Nd: 141, N: 24,trainingerror: 0.002225, testerror: 1.051959\n",
      "Nd: 141, N: 27,trainingerror: 0.005590, testerror: 1.005358\n",
      "Nd: 141, N: 32,trainingerror: 0.001975, testerror: 0.843037\n",
      "Nd: 141, N: 37,trainingerror: 0.005329, testerror: 0.970106\n",
      "Nd: 141, N: 43,trainingerror: 0.003028, testerror: 0.952241\n",
      "Nd: 141, N: 50,trainingerror: 0.003371, testerror: 1.122698\n",
      "Nd: 141, N: 58,trainingerror: 0.007036, testerror: 0.972672\n",
      "Nd: 141, N: 67,trainingerror: 0.005938, testerror: 1.095269\n",
      "Nd: 141, N: 78,trainingerror: 0.008423, testerror: 1.022899\n",
      "Nd: 141, N: 90,trainingerror: 0.010829, testerror: 1.080221\n",
      "Nd: 141, N: 104,trainingerror: 0.015875, testerror: 1.049225\n",
      "Nd: 141, N: 121,trainingerror: 0.020439, testerror: 1.095324\n",
      "Nd: 141, N: 141,trainingerror: 0.040023, testerror: 1.362630\n"
     ]
    },
    {
     "name": "stderr",
     "output_type": "stream",
     "text": [
      "/Users/manifect/opt/miniconda3/lib/python3.9/site-packages/sklearn/neural_network/_multilayer_perceptron.py:702: ConvergenceWarning: Stochastic Optimizer: Maximum iterations (500) reached and the optimization hasn't converged yet.\n",
      "  warnings.warn(\n"
     ]
    },
    {
     "name": "stdout",
     "output_type": "stream",
     "text": [
      "Nd: 141, N: 163,trainingerror: 0.056101, testerror: 1.364127\n"
     ]
    },
    {
     "name": "stderr",
     "output_type": "stream",
     "text": [
      "/Users/manifect/opt/miniconda3/lib/python3.9/site-packages/sklearn/neural_network/_multilayer_perceptron.py:702: ConvergenceWarning: Stochastic Optimizer: Maximum iterations (500) reached and the optimization hasn't converged yet.\n",
      "  warnings.warn(\n",
      "/Users/manifect/opt/miniconda3/lib/python3.9/site-packages/sklearn/neural_network/_multilayer_perceptron.py:702: ConvergenceWarning: Stochastic Optimizer: Maximum iterations (500) reached and the optimization hasn't converged yet.\n",
      "  warnings.warn(\n"
     ]
    },
    {
     "name": "stdout",
     "output_type": "stream",
     "text": [
      "Nd: 141, N: 190,trainingerror: 0.067926, testerror: 1.336845\n",
      "Nd: 141, N: 220,trainingerror: 0.159569, testerror: 0.795097\n",
      "Nd: 141, N: 256,trainingerror: 0.123549, testerror: 0.886935\n"
     ]
    },
    {
     "name": "stderr",
     "output_type": "stream",
     "text": [
      "/Users/manifect/opt/miniconda3/lib/python3.9/site-packages/sklearn/neural_network/_multilayer_perceptron.py:702: ConvergenceWarning: Stochastic Optimizer: Maximum iterations (500) reached and the optimization hasn't converged yet.\n",
      "  warnings.warn(\n",
      "/Users/manifect/opt/miniconda3/lib/python3.9/site-packages/sklearn/neural_network/_multilayer_perceptron.py:702: ConvergenceWarning: Stochastic Optimizer: Maximum iterations (500) reached and the optimization hasn't converged yet.\n",
      "  warnings.warn(\n",
      "/Users/manifect/opt/miniconda3/lib/python3.9/site-packages/sklearn/neural_network/_multilayer_perceptron.py:702: ConvergenceWarning: Stochastic Optimizer: Maximum iterations (500) reached and the optimization hasn't converged yet.\n",
      "  warnings.warn(\n"
     ]
    },
    {
     "name": "stdout",
     "output_type": "stream",
     "text": [
      "Nd: 141, N: 297,trainingerror: 0.162183, testerror: 0.961983\n"
     ]
    },
    {
     "name": "stderr",
     "output_type": "stream",
     "text": [
      "/Users/manifect/opt/miniconda3/lib/python3.9/site-packages/sklearn/neural_network/_multilayer_perceptron.py:702: ConvergenceWarning: Stochastic Optimizer: Maximum iterations (500) reached and the optimization hasn't converged yet.\n",
      "  warnings.warn(\n",
      "/Users/manifect/opt/miniconda3/lib/python3.9/site-packages/sklearn/neural_network/_multilayer_perceptron.py:702: ConvergenceWarning: Stochastic Optimizer: Maximum iterations (500) reached and the optimization hasn't converged yet.\n",
      "  warnings.warn(\n",
      "/Users/manifect/opt/miniconda3/lib/python3.9/site-packages/sklearn/neural_network/_multilayer_perceptron.py:702: ConvergenceWarning: Stochastic Optimizer: Maximum iterations (500) reached and the optimization hasn't converged yet.\n",
      "  warnings.warn(\n",
      "/Users/manifect/opt/miniconda3/lib/python3.9/site-packages/sklearn/neural_network/_multilayer_perceptron.py:702: ConvergenceWarning: Stochastic Optimizer: Maximum iterations (500) reached and the optimization hasn't converged yet.\n",
      "  warnings.warn(\n"
     ]
    },
    {
     "name": "stdout",
     "output_type": "stream",
     "text": [
      "Nd: 141, N: 345,trainingerror: 0.165293, testerror: 0.819561\n"
     ]
    },
    {
     "name": "stderr",
     "output_type": "stream",
     "text": [
      "/Users/manifect/opt/miniconda3/lib/python3.9/site-packages/sklearn/neural_network/_multilayer_perceptron.py:702: ConvergenceWarning: Stochastic Optimizer: Maximum iterations (500) reached and the optimization hasn't converged yet.\n",
      "  warnings.warn(\n",
      "/Users/manifect/opt/miniconda3/lib/python3.9/site-packages/sklearn/neural_network/_multilayer_perceptron.py:702: ConvergenceWarning: Stochastic Optimizer: Maximum iterations (500) reached and the optimization hasn't converged yet.\n",
      "  warnings.warn(\n"
     ]
    },
    {
     "name": "stdout",
     "output_type": "stream",
     "text": [
      "Nd: 141, N: 400,trainingerror: 0.187261, testerror: 0.752807\n",
      "Nd: 141, N: 465,trainingerror: 0.230337, testerror: 0.703149\n"
     ]
    },
    {
     "name": "stderr",
     "output_type": "stream",
     "text": [
      "/Users/manifect/opt/miniconda3/lib/python3.9/site-packages/sklearn/neural_network/_multilayer_perceptron.py:702: ConvergenceWarning: Stochastic Optimizer: Maximum iterations (500) reached and the optimization hasn't converged yet.\n",
      "  warnings.warn(\n",
      "/Users/manifect/opt/miniconda3/lib/python3.9/site-packages/sklearn/neural_network/_multilayer_perceptron.py:702: ConvergenceWarning: Stochastic Optimizer: Maximum iterations (500) reached and the optimization hasn't converged yet.\n",
      "  warnings.warn(\n"
     ]
    },
    {
     "name": "stdout",
     "output_type": "stream",
     "text": [
      "Nd: 141, N: 540,trainingerror: 0.240032, testerror: 0.689152\n",
      "Nd: 141, N: 627,trainingerror: 0.275275, testerror: 0.608881\n"
     ]
    },
    {
     "name": "stderr",
     "output_type": "stream",
     "text": [
      "/Users/manifect/opt/miniconda3/lib/python3.9/site-packages/sklearn/neural_network/_multilayer_perceptron.py:702: ConvergenceWarning: Stochastic Optimizer: Maximum iterations (500) reached and the optimization hasn't converged yet.\n",
      "  warnings.warn(\n",
      "/Users/manifect/opt/miniconda3/lib/python3.9/site-packages/sklearn/neural_network/_multilayer_perceptron.py:702: ConvergenceWarning: Stochastic Optimizer: Maximum iterations (500) reached and the optimization hasn't converged yet.\n",
      "  warnings.warn(\n"
     ]
    },
    {
     "name": "stdout",
     "output_type": "stream",
     "text": [
      "Nd: 141, N: 729,trainingerror: 0.270258, testerror: 0.515119\n",
      "Nd: 141, N: 846,trainingerror: 0.296385, testerror: 0.530226\n"
     ]
    },
    {
     "name": "stderr",
     "output_type": "stream",
     "text": [
      "/Users/manifect/opt/miniconda3/lib/python3.9/site-packages/sklearn/neural_network/_multilayer_perceptron.py:702: ConvergenceWarning: Stochastic Optimizer: Maximum iterations (500) reached and the optimization hasn't converged yet.\n",
      "  warnings.warn(\n"
     ]
    },
    {
     "name": "stdout",
     "output_type": "stream",
     "text": [
      "Nd: 141, N: 983,trainingerror: 0.291309, testerror: 0.486872\n"
     ]
    },
    {
     "name": "stderr",
     "output_type": "stream",
     "text": [
      "/Users/manifect/opt/miniconda3/lib/python3.9/site-packages/sklearn/neural_network/_multilayer_perceptron.py:702: ConvergenceWarning: Stochastic Optimizer: Maximum iterations (500) reached and the optimization hasn't converged yet.\n",
      "  warnings.warn(\n"
     ]
    },
    {
     "name": "stdout",
     "output_type": "stream",
     "text": [
      "Nd: 141, N: 1142,trainingerror: 0.280289, testerror: 0.439863\n",
      "Nd: 141, N: 1326,trainingerror: 0.278473, testerror: 0.436688\n",
      "Nd: 141, N: 1541,trainingerror: 0.303488, testerror: 0.467276\n",
      "Nd: 141, N: 1789,trainingerror: 0.298642, testerror: 0.404959\n",
      "Nd: 141, N: 2078,trainingerror: 0.278781, testerror: 0.372064\n",
      "Nd: 141, N: 2414,trainingerror: 0.342287, testerror: 0.377988\n",
      "Nd: 141, N: 2804,trainingerror: 0.328773, testerror: 0.375076\n",
      "Nd: 141, N: 3257,trainingerror: 0.293430, testerror: 0.346897\n",
      "Nd: 141, N: 3783,trainingerror: 0.320755, testerror: 0.351191\n",
      "Nd: 141, N: 4395,trainingerror: 0.300861, testerror: 0.338329\n",
      "Nd: 141, N: 5105,trainingerror: 0.277089, testerror: 0.316314\n",
      "Nd: 141, N: 5930,trainingerror: 0.299372, testerror: 0.325843\n",
      "Nd: 141, N: 6888,trainingerror: 0.317840, testerror: 0.338191\n",
      "Nd: 163, N: 20,trainingerror: 0.004662, testerror: 1.083595\n",
      "Nd: 163, N: 24,trainingerror: 0.001050, testerror: 1.064559\n",
      "Nd: 163, N: 27,trainingerror: 0.003492, testerror: 0.985112\n",
      "Nd: 163, N: 32,trainingerror: 0.004567, testerror: 1.046276\n",
      "Nd: 163, N: 37,trainingerror: 0.010670, testerror: 0.923819\n"
     ]
    },
    {
     "name": "stderr",
     "output_type": "stream",
     "text": [
      "/Users/manifect/opt/miniconda3/lib/python3.9/site-packages/sklearn/neural_network/_multilayer_perceptron.py:702: ConvergenceWarning: Stochastic Optimizer: Maximum iterations (500) reached and the optimization hasn't converged yet.\n",
      "  warnings.warn(\n"
     ]
    },
    {
     "name": "stdout",
     "output_type": "stream",
     "text": [
      "Nd: 163, N: 43,trainingerror: 0.009819, testerror: 1.204449\n",
      "Nd: 163, N: 50,trainingerror: 0.003012, testerror: 0.858896\n",
      "Nd: 163, N: 58,trainingerror: 0.005454, testerror: 0.973321\n",
      "Nd: 163, N: 67,trainingerror: 0.005820, testerror: 1.052136\n"
     ]
    },
    {
     "name": "stderr",
     "output_type": "stream",
     "text": [
      "/Users/manifect/opt/miniconda3/lib/python3.9/site-packages/sklearn/neural_network/_multilayer_perceptron.py:702: ConvergenceWarning: Stochastic Optimizer: Maximum iterations (500) reached and the optimization hasn't converged yet.\n",
      "  warnings.warn(\n"
     ]
    },
    {
     "name": "stdout",
     "output_type": "stream",
     "text": [
      "Nd: 163, N: 78,trainingerror: 0.010003, testerror: 1.055194\n",
      "Nd: 163, N: 90,trainingerror: 0.022296, testerror: 1.494129\n",
      "Nd: 163, N: 104,trainingerror: 0.016434, testerror: 1.044969\n",
      "Nd: 163, N: 121,trainingerror: 0.023058, testerror: 1.354080\n",
      "Nd: 163, N: 141,trainingerror: 0.018645, testerror: 1.199949\n",
      "Nd: 163, N: 163,trainingerror: 0.028479, testerror: 1.056473\n"
     ]
    },
    {
     "name": "stderr",
     "output_type": "stream",
     "text": [
      "/Users/manifect/opt/miniconda3/lib/python3.9/site-packages/sklearn/neural_network/_multilayer_perceptron.py:702: ConvergenceWarning: Stochastic Optimizer: Maximum iterations (500) reached and the optimization hasn't converged yet.\n",
      "  warnings.warn(\n"
     ]
    },
    {
     "name": "stdout",
     "output_type": "stream",
     "text": [
      "Nd: 163, N: 190,trainingerror: 0.052495, testerror: 1.112628\n"
     ]
    },
    {
     "name": "stderr",
     "output_type": "stream",
     "text": [
      "/Users/manifect/opt/miniconda3/lib/python3.9/site-packages/sklearn/neural_network/_multilayer_perceptron.py:702: ConvergenceWarning: Stochastic Optimizer: Maximum iterations (500) reached and the optimization hasn't converged yet.\n",
      "  warnings.warn(\n"
     ]
    },
    {
     "name": "stdout",
     "output_type": "stream",
     "text": [
      "Nd: 163, N: 220,trainingerror: 0.099258, testerror: 0.926546\n"
     ]
    },
    {
     "name": "stderr",
     "output_type": "stream",
     "text": [
      "/Users/manifect/opt/miniconda3/lib/python3.9/site-packages/sklearn/neural_network/_multilayer_perceptron.py:702: ConvergenceWarning: Stochastic Optimizer: Maximum iterations (500) reached and the optimization hasn't converged yet.\n",
      "  warnings.warn(\n"
     ]
    },
    {
     "name": "stdout",
     "output_type": "stream",
     "text": [
      "Nd: 163, N: 256,trainingerror: 0.106375, testerror: 0.912359\n"
     ]
    },
    {
     "name": "stderr",
     "output_type": "stream",
     "text": [
      "/Users/manifect/opt/miniconda3/lib/python3.9/site-packages/sklearn/neural_network/_multilayer_perceptron.py:702: ConvergenceWarning: Stochastic Optimizer: Maximum iterations (500) reached and the optimization hasn't converged yet.\n",
      "  warnings.warn(\n",
      "/Users/manifect/opt/miniconda3/lib/python3.9/site-packages/sklearn/neural_network/_multilayer_perceptron.py:702: ConvergenceWarning: Stochastic Optimizer: Maximum iterations (500) reached and the optimization hasn't converged yet.\n",
      "  warnings.warn(\n",
      "/Users/manifect/opt/miniconda3/lib/python3.9/site-packages/sklearn/neural_network/_multilayer_perceptron.py:702: ConvergenceWarning: Stochastic Optimizer: Maximum iterations (500) reached and the optimization hasn't converged yet.\n",
      "  warnings.warn(\n",
      "/Users/manifect/opt/miniconda3/lib/python3.9/site-packages/sklearn/neural_network/_multilayer_perceptron.py:702: ConvergenceWarning: Stochastic Optimizer: Maximum iterations (500) reached and the optimization hasn't converged yet.\n",
      "  warnings.warn(\n",
      "/Users/manifect/opt/miniconda3/lib/python3.9/site-packages/sklearn/neural_network/_multilayer_perceptron.py:702: ConvergenceWarning: Stochastic Optimizer: Maximum iterations (500) reached and the optimization hasn't converged yet.\n",
      "  warnings.warn(\n"
     ]
    },
    {
     "name": "stdout",
     "output_type": "stream",
     "text": [
      "Nd: 163, N: 297,trainingerror: 0.127126, testerror: 0.963215\n"
     ]
    },
    {
     "name": "stderr",
     "output_type": "stream",
     "text": [
      "/Users/manifect/opt/miniconda3/lib/python3.9/site-packages/sklearn/neural_network/_multilayer_perceptron.py:702: ConvergenceWarning: Stochastic Optimizer: Maximum iterations (500) reached and the optimization hasn't converged yet.\n",
      "  warnings.warn(\n",
      "/Users/manifect/opt/miniconda3/lib/python3.9/site-packages/sklearn/neural_network/_multilayer_perceptron.py:702: ConvergenceWarning: Stochastic Optimizer: Maximum iterations (500) reached and the optimization hasn't converged yet.\n",
      "  warnings.warn(\n",
      "/Users/manifect/opt/miniconda3/lib/python3.9/site-packages/sklearn/neural_network/_multilayer_perceptron.py:702: ConvergenceWarning: Stochastic Optimizer: Maximum iterations (500) reached and the optimization hasn't converged yet.\n",
      "  warnings.warn(\n",
      "/Users/manifect/opt/miniconda3/lib/python3.9/site-packages/sklearn/neural_network/_multilayer_perceptron.py:702: ConvergenceWarning: Stochastic Optimizer: Maximum iterations (500) reached and the optimization hasn't converged yet.\n",
      "  warnings.warn(\n",
      "/Users/manifect/opt/miniconda3/lib/python3.9/site-packages/sklearn/neural_network/_multilayer_perceptron.py:702: ConvergenceWarning: Stochastic Optimizer: Maximum iterations (500) reached and the optimization hasn't converged yet.\n",
      "  warnings.warn(\n",
      "/Users/manifect/opt/miniconda3/lib/python3.9/site-packages/sklearn/neural_network/_multilayer_perceptron.py:702: ConvergenceWarning: Stochastic Optimizer: Maximum iterations (500) reached and the optimization hasn't converged yet.\n",
      "  warnings.warn(\n",
      "/Users/manifect/opt/miniconda3/lib/python3.9/site-packages/sklearn/neural_network/_multilayer_perceptron.py:702: ConvergenceWarning: Stochastic Optimizer: Maximum iterations (500) reached and the optimization hasn't converged yet.\n",
      "  warnings.warn(\n"
     ]
    },
    {
     "name": "stdout",
     "output_type": "stream",
     "text": [
      "Nd: 163, N: 345,trainingerror: 0.166492, testerror: 0.919859\n"
     ]
    },
    {
     "name": "stderr",
     "output_type": "stream",
     "text": [
      "/Users/manifect/opt/miniconda3/lib/python3.9/site-packages/sklearn/neural_network/_multilayer_perceptron.py:702: ConvergenceWarning: Stochastic Optimizer: Maximum iterations (500) reached and the optimization hasn't converged yet.\n",
      "  warnings.warn(\n",
      "/Users/manifect/opt/miniconda3/lib/python3.9/site-packages/sklearn/neural_network/_multilayer_perceptron.py:702: ConvergenceWarning: Stochastic Optimizer: Maximum iterations (500) reached and the optimization hasn't converged yet.\n",
      "  warnings.warn(\n",
      "/Users/manifect/opt/miniconda3/lib/python3.9/site-packages/sklearn/neural_network/_multilayer_perceptron.py:702: ConvergenceWarning: Stochastic Optimizer: Maximum iterations (500) reached and the optimization hasn't converged yet.\n",
      "  warnings.warn(\n"
     ]
    },
    {
     "name": "stdout",
     "output_type": "stream",
     "text": [
      "Nd: 163, N: 400,trainingerror: 0.160631, testerror: 0.849921\n",
      "Nd: 163, N: 465,trainingerror: 0.187048, testerror: 0.700917\n"
     ]
    },
    {
     "name": "stderr",
     "output_type": "stream",
     "text": [
      "/Users/manifect/opt/miniconda3/lib/python3.9/site-packages/sklearn/neural_network/_multilayer_perceptron.py:702: ConvergenceWarning: Stochastic Optimizer: Maximum iterations (500) reached and the optimization hasn't converged yet.\n",
      "  warnings.warn(\n"
     ]
    },
    {
     "name": "stdout",
     "output_type": "stream",
     "text": [
      "Nd: 163, N: 540,trainingerror: 0.222693, testerror: 0.686073\n",
      "Nd: 163, N: 627,trainingerror: 0.257159, testerror: 0.603925\n"
     ]
    },
    {
     "name": "stderr",
     "output_type": "stream",
     "text": [
      "/Users/manifect/opt/miniconda3/lib/python3.9/site-packages/sklearn/neural_network/_multilayer_perceptron.py:702: ConvergenceWarning: Stochastic Optimizer: Maximum iterations (500) reached and the optimization hasn't converged yet.\n",
      "  warnings.warn(\n"
     ]
    },
    {
     "name": "stdout",
     "output_type": "stream",
     "text": [
      "Nd: 163, N: 729,trainingerror: 0.284632, testerror: 0.602232\n",
      "Nd: 163, N: 846,trainingerror: 0.252653, testerror: 0.553722\n",
      "Nd: 163, N: 983,trainingerror: 0.252402, testerror: 0.484848\n",
      "Nd: 163, N: 1142,trainingerror: 0.305203, testerror: 0.517885\n",
      "Nd: 163, N: 1326,trainingerror: 0.260360, testerror: 0.423348\n",
      "Nd: 163, N: 1541,trainingerror: 0.274759, testerror: 0.414075\n",
      "Nd: 163, N: 1789,trainingerror: 0.275586, testerror: 0.375090\n",
      "Nd: 163, N: 2078,trainingerror: 0.285630, testerror: 0.403328\n",
      "Nd: 163, N: 2414,trainingerror: 0.288251, testerror: 0.362478\n",
      "Nd: 163, N: 2804,trainingerror: 0.338474, testerror: 0.372436\n",
      "Nd: 163, N: 3257,trainingerror: 0.297816, testerror: 0.344541\n",
      "Nd: 163, N: 3783,trainingerror: 0.289024, testerror: 0.337672\n",
      "Nd: 163, N: 4395,trainingerror: 0.299701, testerror: 0.319289\n",
      "Nd: 163, N: 5105,trainingerror: 0.271668, testerror: 0.303041\n",
      "Nd: 163, N: 5930,trainingerror: 0.274065, testerror: 0.305499\n",
      "Nd: 163, N: 6888,trainingerror: 0.281955, testerror: 0.298361\n",
      "Nd: 190, N: 20,trainingerror: 0.000482, testerror: 1.102820\n",
      "Nd: 190, N: 24,trainingerror: 0.005167, testerror: 0.977352\n",
      "Nd: 190, N: 27,trainingerror: 0.000929, testerror: 0.935284\n",
      "Nd: 190, N: 32,trainingerror: 0.003788, testerror: 0.991872\n",
      "Nd: 190, N: 37,trainingerror: 0.001369, testerror: 0.947512\n",
      "Nd: 190, N: 43,trainingerror: 0.003564, testerror: 1.258699\n",
      "Nd: 190, N: 50,trainingerror: 0.003267, testerror: 0.921900\n",
      "Nd: 190, N: 58,trainingerror: 0.006442, testerror: 1.280808\n",
      "Nd: 190, N: 67,trainingerror: 0.005400, testerror: 0.960637\n",
      "Nd: 190, N: 78,trainingerror: 0.006878, testerror: 1.306659\n",
      "Nd: 190, N: 90,trainingerror: 0.008884, testerror: 0.943183\n",
      "Nd: 190, N: 104,trainingerror: 0.016170, testerror: 1.019768\n",
      "Nd: 190, N: 121,trainingerror: 0.013954, testerror: 1.145752\n",
      "Nd: 190, N: 141,trainingerror: 0.038332, testerror: 1.225037\n",
      "Nd: 190, N: 163,trainingerror: 0.030823, testerror: 1.256961\n",
      "Nd: 190, N: 190,trainingerror: 0.042390, testerror: 1.145313\n",
      "Nd: 190, N: 220,trainingerror: 0.122095, testerror: 0.852991\n"
     ]
    },
    {
     "name": "stderr",
     "output_type": "stream",
     "text": [
      "/Users/manifect/opt/miniconda3/lib/python3.9/site-packages/sklearn/neural_network/_multilayer_perceptron.py:702: ConvergenceWarning: Stochastic Optimizer: Maximum iterations (500) reached and the optimization hasn't converged yet.\n",
      "  warnings.warn(\n",
      "/Users/manifect/opt/miniconda3/lib/python3.9/site-packages/sklearn/neural_network/_multilayer_perceptron.py:702: ConvergenceWarning: Stochastic Optimizer: Maximum iterations (500) reached and the optimization hasn't converged yet.\n",
      "  warnings.warn(\n",
      "/Users/manifect/opt/miniconda3/lib/python3.9/site-packages/sklearn/neural_network/_multilayer_perceptron.py:702: ConvergenceWarning: Stochastic Optimizer: Maximum iterations (500) reached and the optimization hasn't converged yet.\n",
      "  warnings.warn(\n"
     ]
    },
    {
     "name": "stdout",
     "output_type": "stream",
     "text": [
      "Nd: 190, N: 256,trainingerror: 0.071241, testerror: 1.081580\n"
     ]
    },
    {
     "name": "stderr",
     "output_type": "stream",
     "text": [
      "/Users/manifect/opt/miniconda3/lib/python3.9/site-packages/sklearn/neural_network/_multilayer_perceptron.py:702: ConvergenceWarning: Stochastic Optimizer: Maximum iterations (500) reached and the optimization hasn't converged yet.\n",
      "  warnings.warn(\n",
      "/Users/manifect/opt/miniconda3/lib/python3.9/site-packages/sklearn/neural_network/_multilayer_perceptron.py:702: ConvergenceWarning: Stochastic Optimizer: Maximum iterations (500) reached and the optimization hasn't converged yet.\n",
      "  warnings.warn(\n"
     ]
    },
    {
     "name": "stdout",
     "output_type": "stream",
     "text": [
      "Nd: 190, N: 297,trainingerror: 0.079355, testerror: 0.925723\n"
     ]
    },
    {
     "name": "stderr",
     "output_type": "stream",
     "text": [
      "/Users/manifect/opt/miniconda3/lib/python3.9/site-packages/sklearn/neural_network/_multilayer_perceptron.py:702: ConvergenceWarning: Stochastic Optimizer: Maximum iterations (500) reached and the optimization hasn't converged yet.\n",
      "  warnings.warn(\n",
      "/Users/manifect/opt/miniconda3/lib/python3.9/site-packages/sklearn/neural_network/_multilayer_perceptron.py:702: ConvergenceWarning: Stochastic Optimizer: Maximum iterations (500) reached and the optimization hasn't converged yet.\n",
      "  warnings.warn(\n",
      "/Users/manifect/opt/miniconda3/lib/python3.9/site-packages/sklearn/neural_network/_multilayer_perceptron.py:702: ConvergenceWarning: Stochastic Optimizer: Maximum iterations (500) reached and the optimization hasn't converged yet.\n",
      "  warnings.warn(\n",
      "/Users/manifect/opt/miniconda3/lib/python3.9/site-packages/sklearn/neural_network/_multilayer_perceptron.py:702: ConvergenceWarning: Stochastic Optimizer: Maximum iterations (500) reached and the optimization hasn't converged yet.\n",
      "  warnings.warn(\n"
     ]
    },
    {
     "name": "stdout",
     "output_type": "stream",
     "text": [
      "Nd: 190, N: 345,trainingerror: 0.136123, testerror: 0.921425\n"
     ]
    },
    {
     "name": "stderr",
     "output_type": "stream",
     "text": [
      "/Users/manifect/opt/miniconda3/lib/python3.9/site-packages/sklearn/neural_network/_multilayer_perceptron.py:702: ConvergenceWarning: Stochastic Optimizer: Maximum iterations (500) reached and the optimization hasn't converged yet.\n",
      "  warnings.warn(\n",
      "/Users/manifect/opt/miniconda3/lib/python3.9/site-packages/sklearn/neural_network/_multilayer_perceptron.py:702: ConvergenceWarning: Stochastic Optimizer: Maximum iterations (500) reached and the optimization hasn't converged yet.\n",
      "  warnings.warn(\n",
      "/Users/manifect/opt/miniconda3/lib/python3.9/site-packages/sklearn/neural_network/_multilayer_perceptron.py:702: ConvergenceWarning: Stochastic Optimizer: Maximum iterations (500) reached and the optimization hasn't converged yet.\n",
      "  warnings.warn(\n"
     ]
    },
    {
     "name": "stdout",
     "output_type": "stream",
     "text": [
      "Nd: 190, N: 400,trainingerror: 0.140983, testerror: 0.903819\n",
      "Nd: 190, N: 465,trainingerror: 0.155770, testerror: 0.701335\n",
      "Nd: 190, N: 540,trainingerror: 0.183108, testerror: 0.660809\n",
      "Nd: 190, N: 627,trainingerror: 0.257509, testerror: 0.612746\n",
      "Nd: 190, N: 729,trainingerror: 0.221156, testerror: 0.599648\n",
      "Nd: 190, N: 846,trainingerror: 0.250118, testerror: 0.543724\n",
      "Nd: 190, N: 983,trainingerror: 0.251303, testerror: 0.517784\n",
      "Nd: 190, N: 1142,trainingerror: 0.253326, testerror: 0.448722\n",
      "Nd: 190, N: 1326,trainingerror: 0.261572, testerror: 0.449162\n",
      "Nd: 190, N: 1541,trainingerror: 0.289632, testerror: 0.452236\n",
      "Nd: 190, N: 1789,trainingerror: 0.290461, testerror: 0.411382\n",
      "Nd: 190, N: 2078,trainingerror: 0.271229, testerror: 0.386017\n",
      "Nd: 190, N: 2414,trainingerror: 0.287096, testerror: 0.371702\n",
      "Nd: 190, N: 2804,trainingerror: 0.308556, testerror: 0.370948\n",
      "Nd: 190, N: 3257,trainingerror: 0.271584, testerror: 0.333310\n",
      "Nd: 190, N: 3783,trainingerror: 0.262785, testerror: 0.322437\n",
      "Nd: 190, N: 4395,trainingerror: 0.290591, testerror: 0.335956\n",
      "Nd: 190, N: 5105,trainingerror: 0.280255, testerror: 0.314672\n",
      "Nd: 190, N: 5930,trainingerror: 0.291537, testerror: 0.348009\n",
      "Nd: 190, N: 6888,trainingerror: 0.289979, testerror: 0.327489\n",
      "Nd: 220, N: 20,trainingerror: 0.002160, testerror: 0.990273\n",
      "Nd: 220, N: 24,trainingerror: 0.001275, testerror: 0.896076\n",
      "Nd: 220, N: 27,trainingerror: 0.001048, testerror: 1.072529\n",
      "Nd: 220, N: 32,trainingerror: 0.001006, testerror: 1.169314\n",
      "Nd: 220, N: 37,trainingerror: 0.003359, testerror: 0.979747\n",
      "Nd: 220, N: 43,trainingerror: 0.001773, testerror: 0.915160\n",
      "Nd: 220, N: 50,trainingerror: 0.002312, testerror: 0.944567\n",
      "Nd: 220, N: 58,trainingerror: 0.003218, testerror: 0.991711\n",
      "Nd: 220, N: 67,trainingerror: 0.005631, testerror: 0.960934\n",
      "Nd: 220, N: 78,trainingerror: 0.004188, testerror: 1.051223\n",
      "Nd: 220, N: 90,trainingerror: 0.010880, testerror: 1.134558\n",
      "Nd: 220, N: 104,trainingerror: 0.007659, testerror: 1.023723\n",
      "Nd: 220, N: 121,trainingerror: 0.016838, testerror: 1.048086\n",
      "Nd: 220, N: 141,trainingerror: 0.012823, testerror: 0.919579\n",
      "Nd: 220, N: 163,trainingerror: 0.021479, testerror: 1.197560\n"
     ]
    },
    {
     "name": "stderr",
     "output_type": "stream",
     "text": [
      "/Users/manifect/opt/miniconda3/lib/python3.9/site-packages/sklearn/neural_network/_multilayer_perceptron.py:702: ConvergenceWarning: Stochastic Optimizer: Maximum iterations (500) reached and the optimization hasn't converged yet.\n",
      "  warnings.warn(\n"
     ]
    },
    {
     "name": "stdout",
     "output_type": "stream",
     "text": [
      "Nd: 220, N: 190,trainingerror: 0.045009, testerror: 1.254831\n",
      "Nd: 220, N: 220,trainingerror: 0.073192, testerror: 0.942593\n"
     ]
    },
    {
     "name": "stderr",
     "output_type": "stream",
     "text": [
      "/Users/manifect/opt/miniconda3/lib/python3.9/site-packages/sklearn/neural_network/_multilayer_perceptron.py:702: ConvergenceWarning: Stochastic Optimizer: Maximum iterations (500) reached and the optimization hasn't converged yet.\n",
      "  warnings.warn(\n"
     ]
    },
    {
     "name": "stdout",
     "output_type": "stream",
     "text": [
      "Nd: 220, N: 256,trainingerror: 0.057291, testerror: 1.106481\n"
     ]
    },
    {
     "name": "stderr",
     "output_type": "stream",
     "text": [
      "/Users/manifect/opt/miniconda3/lib/python3.9/site-packages/sklearn/neural_network/_multilayer_perceptron.py:702: ConvergenceWarning: Stochastic Optimizer: Maximum iterations (500) reached and the optimization hasn't converged yet.\n",
      "  warnings.warn(\n",
      "/Users/manifect/opt/miniconda3/lib/python3.9/site-packages/sklearn/neural_network/_multilayer_perceptron.py:702: ConvergenceWarning: Stochastic Optimizer: Maximum iterations (500) reached and the optimization hasn't converged yet.\n",
      "  warnings.warn(\n",
      "/Users/manifect/opt/miniconda3/lib/python3.9/site-packages/sklearn/neural_network/_multilayer_perceptron.py:702: ConvergenceWarning: Stochastic Optimizer: Maximum iterations (500) reached and the optimization hasn't converged yet.\n",
      "  warnings.warn(\n",
      "/Users/manifect/opt/miniconda3/lib/python3.9/site-packages/sklearn/neural_network/_multilayer_perceptron.py:702: ConvergenceWarning: Stochastic Optimizer: Maximum iterations (500) reached and the optimization hasn't converged yet.\n",
      "  warnings.warn(\n"
     ]
    },
    {
     "name": "stdout",
     "output_type": "stream",
     "text": [
      "Nd: 220, N: 297,trainingerror: 0.088383, testerror: 1.069714\n"
     ]
    },
    {
     "name": "stderr",
     "output_type": "stream",
     "text": [
      "/Users/manifect/opt/miniconda3/lib/python3.9/site-packages/sklearn/neural_network/_multilayer_perceptron.py:702: ConvergenceWarning: Stochastic Optimizer: Maximum iterations (500) reached and the optimization hasn't converged yet.\n",
      "  warnings.warn(\n",
      "/Users/manifect/opt/miniconda3/lib/python3.9/site-packages/sklearn/neural_network/_multilayer_perceptron.py:702: ConvergenceWarning: Stochastic Optimizer: Maximum iterations (500) reached and the optimization hasn't converged yet.\n",
      "  warnings.warn(\n",
      "/Users/manifect/opt/miniconda3/lib/python3.9/site-packages/sklearn/neural_network/_multilayer_perceptron.py:702: ConvergenceWarning: Stochastic Optimizer: Maximum iterations (500) reached and the optimization hasn't converged yet.\n",
      "  warnings.warn(\n",
      "/Users/manifect/opt/miniconda3/lib/python3.9/site-packages/sklearn/neural_network/_multilayer_perceptron.py:702: ConvergenceWarning: Stochastic Optimizer: Maximum iterations (500) reached and the optimization hasn't converged yet.\n",
      "  warnings.warn(\n"
     ]
    },
    {
     "name": "stdout",
     "output_type": "stream",
     "text": [
      "Nd: 220, N: 345,trainingerror: 0.102349, testerror: 0.933361\n"
     ]
    },
    {
     "name": "stderr",
     "output_type": "stream",
     "text": [
      "/Users/manifect/opt/miniconda3/lib/python3.9/site-packages/sklearn/neural_network/_multilayer_perceptron.py:702: ConvergenceWarning: Stochastic Optimizer: Maximum iterations (500) reached and the optimization hasn't converged yet.\n",
      "  warnings.warn(\n",
      "/Users/manifect/opt/miniconda3/lib/python3.9/site-packages/sklearn/neural_network/_multilayer_perceptron.py:702: ConvergenceWarning: Stochastic Optimizer: Maximum iterations (500) reached and the optimization hasn't converged yet.\n",
      "  warnings.warn(\n"
     ]
    },
    {
     "name": "stdout",
     "output_type": "stream",
     "text": [
      "Nd: 220, N: 400,trainingerror: 0.119377, testerror: 0.762358\n",
      "Nd: 220, N: 465,trainingerror: 0.155360, testerror: 0.741528\n"
     ]
    },
    {
     "name": "stderr",
     "output_type": "stream",
     "text": [
      "/Users/manifect/opt/miniconda3/lib/python3.9/site-packages/sklearn/neural_network/_multilayer_perceptron.py:702: ConvergenceWarning: Stochastic Optimizer: Maximum iterations (500) reached and the optimization hasn't converged yet.\n",
      "  warnings.warn(\n",
      "/Users/manifect/opt/miniconda3/lib/python3.9/site-packages/sklearn/neural_network/_multilayer_perceptron.py:702: ConvergenceWarning: Stochastic Optimizer: Maximum iterations (500) reached and the optimization hasn't converged yet.\n",
      "  warnings.warn(\n"
     ]
    },
    {
     "name": "stdout",
     "output_type": "stream",
     "text": [
      "Nd: 220, N: 540,trainingerror: 0.174491, testerror: 0.719851\n",
      "Nd: 220, N: 627,trainingerror: 0.263952, testerror: 0.629035\n",
      "Nd: 220, N: 729,trainingerror: 0.206411, testerror: 0.598620\n",
      "Nd: 220, N: 846,trainingerror: 0.223028, testerror: 0.517541\n",
      "Nd: 220, N: 983,trainingerror: 0.246379, testerror: 0.500603\n",
      "Nd: 220, N: 1142,trainingerror: 0.249650, testerror: 0.475186\n",
      "Nd: 220, N: 1326,trainingerror: 0.247372, testerror: 0.423331\n",
      "Nd: 220, N: 1541,trainingerror: 0.274259, testerror: 0.417584\n",
      "Nd: 220, N: 1789,trainingerror: 0.267527, testerror: 0.413906\n",
      "Nd: 220, N: 2078,trainingerror: 0.266489, testerror: 0.362600\n",
      "Nd: 220, N: 2414,trainingerror: 0.285806, testerror: 0.358164\n",
      "Nd: 220, N: 2804,trainingerror: 0.307627, testerror: 0.377875\n",
      "Nd: 220, N: 3257,trainingerror: 0.270325, testerror: 0.334912\n",
      "Nd: 220, N: 3783,trainingerror: 0.274179, testerror: 0.329993\n",
      "Nd: 220, N: 4395,trainingerror: 0.289982, testerror: 0.313871\n",
      "Nd: 220, N: 5105,trainingerror: 0.280702, testerror: 0.326066\n",
      "Nd: 220, N: 5930,trainingerror: 0.279116, testerror: 0.317130\n",
      "Nd: 220, N: 6888,trainingerror: 0.272615, testerror: 0.305027\n",
      "Nd: 256, N: 20,trainingerror: 0.001318, testerror: 1.010171\n",
      "Nd: 256, N: 24,trainingerror: 0.002050, testerror: 1.076539\n",
      "Nd: 256, N: 27,trainingerror: 0.000741, testerror: 0.995964\n",
      "Nd: 256, N: 32,trainingerror: 0.001032, testerror: 0.948359\n",
      "Nd: 256, N: 37,trainingerror: 0.001781, testerror: 1.170837\n",
      "Nd: 256, N: 43,trainingerror: 0.000997, testerror: 0.926999\n",
      "Nd: 256, N: 50,trainingerror: 0.001664, testerror: 0.916218\n",
      "Nd: 256, N: 58,trainingerror: 0.004228, testerror: 1.009036\n",
      "Nd: 256, N: 67,trainingerror: 0.002522, testerror: 0.979312\n",
      "Nd: 256, N: 78,trainingerror: 0.007122, testerror: 0.908658\n",
      "Nd: 256, N: 90,trainingerror: 0.003516, testerror: 1.096604\n",
      "Nd: 256, N: 104,trainingerror: 0.006335, testerror: 1.084043\n",
      "Nd: 256, N: 121,trainingerror: 0.005935, testerror: 1.028924\n",
      "Nd: 256, N: 141,trainingerror: 0.011820, testerror: 1.081259\n",
      "Nd: 256, N: 163,trainingerror: 0.014649, testerror: 1.086793\n",
      "Nd: 256, N: 190,trainingerror: 0.021688, testerror: 1.061431\n",
      "Nd: 256, N: 220,trainingerror: 0.055506, testerror: 0.941089\n"
     ]
    },
    {
     "name": "stderr",
     "output_type": "stream",
     "text": [
      "/Users/manifect/opt/miniconda3/lib/python3.9/site-packages/sklearn/neural_network/_multilayer_perceptron.py:702: ConvergenceWarning: Stochastic Optimizer: Maximum iterations (500) reached and the optimization hasn't converged yet.\n",
      "  warnings.warn(\n",
      "/Users/manifect/opt/miniconda3/lib/python3.9/site-packages/sklearn/neural_network/_multilayer_perceptron.py:702: ConvergenceWarning: Stochastic Optimizer: Maximum iterations (500) reached and the optimization hasn't converged yet.\n",
      "  warnings.warn(\n",
      "/Users/manifect/opt/miniconda3/lib/python3.9/site-packages/sklearn/neural_network/_multilayer_perceptron.py:702: ConvergenceWarning: Stochastic Optimizer: Maximum iterations (500) reached and the optimization hasn't converged yet.\n",
      "  warnings.warn(\n"
     ]
    },
    {
     "name": "stdout",
     "output_type": "stream",
     "text": [
      "Nd: 256, N: 256,trainingerror: 0.040260, testerror: 1.136275\n"
     ]
    },
    {
     "name": "stderr",
     "output_type": "stream",
     "text": [
      "/Users/manifect/opt/miniconda3/lib/python3.9/site-packages/sklearn/neural_network/_multilayer_perceptron.py:702: ConvergenceWarning: Stochastic Optimizer: Maximum iterations (500) reached and the optimization hasn't converged yet.\n",
      "  warnings.warn(\n",
      "/Users/manifect/opt/miniconda3/lib/python3.9/site-packages/sklearn/neural_network/_multilayer_perceptron.py:702: ConvergenceWarning: Stochastic Optimizer: Maximum iterations (500) reached and the optimization hasn't converged yet.\n",
      "  warnings.warn(\n",
      "/Users/manifect/opt/miniconda3/lib/python3.9/site-packages/sklearn/neural_network/_multilayer_perceptron.py:702: ConvergenceWarning: Stochastic Optimizer: Maximum iterations (500) reached and the optimization hasn't converged yet.\n",
      "  warnings.warn(\n",
      "/Users/manifect/opt/miniconda3/lib/python3.9/site-packages/sklearn/neural_network/_multilayer_perceptron.py:702: ConvergenceWarning: Stochastic Optimizer: Maximum iterations (500) reached and the optimization hasn't converged yet.\n",
      "  warnings.warn(\n"
     ]
    },
    {
     "name": "stdout",
     "output_type": "stream",
     "text": [
      "Nd: 256, N: 297,trainingerror: 0.046138, testerror: 1.075722\n"
     ]
    },
    {
     "name": "stderr",
     "output_type": "stream",
     "text": [
      "/Users/manifect/opt/miniconda3/lib/python3.9/site-packages/sklearn/neural_network/_multilayer_perceptron.py:702: ConvergenceWarning: Stochastic Optimizer: Maximum iterations (500) reached and the optimization hasn't converged yet.\n",
      "  warnings.warn(\n",
      "/Users/manifect/opt/miniconda3/lib/python3.9/site-packages/sklearn/neural_network/_multilayer_perceptron.py:702: ConvergenceWarning: Stochastic Optimizer: Maximum iterations (500) reached and the optimization hasn't converged yet.\n",
      "  warnings.warn(\n",
      "/Users/manifect/opt/miniconda3/lib/python3.9/site-packages/sklearn/neural_network/_multilayer_perceptron.py:702: ConvergenceWarning: Stochastic Optimizer: Maximum iterations (500) reached and the optimization hasn't converged yet.\n",
      "  warnings.warn(\n"
     ]
    },
    {
     "name": "stdout",
     "output_type": "stream",
     "text": [
      "Nd: 256, N: 345,trainingerror: 0.078169, testerror: 1.046354\n"
     ]
    },
    {
     "name": "stderr",
     "output_type": "stream",
     "text": [
      "/Users/manifect/opt/miniconda3/lib/python3.9/site-packages/sklearn/neural_network/_multilayer_perceptron.py:702: ConvergenceWarning: Stochastic Optimizer: Maximum iterations (500) reached and the optimization hasn't converged yet.\n",
      "  warnings.warn(\n",
      "/Users/manifect/opt/miniconda3/lib/python3.9/site-packages/sklearn/neural_network/_multilayer_perceptron.py:702: ConvergenceWarning: Stochastic Optimizer: Maximum iterations (500) reached and the optimization hasn't converged yet.\n",
      "  warnings.warn(\n",
      "/Users/manifect/opt/miniconda3/lib/python3.9/site-packages/sklearn/neural_network/_multilayer_perceptron.py:702: ConvergenceWarning: Stochastic Optimizer: Maximum iterations (500) reached and the optimization hasn't converged yet.\n",
      "  warnings.warn(\n",
      "/Users/manifect/opt/miniconda3/lib/python3.9/site-packages/sklearn/neural_network/_multilayer_perceptron.py:702: ConvergenceWarning: Stochastic Optimizer: Maximum iterations (500) reached and the optimization hasn't converged yet.\n",
      "  warnings.warn(\n"
     ]
    },
    {
     "name": "stdout",
     "output_type": "stream",
     "text": [
      "Nd: 256, N: 400,trainingerror: 0.104525, testerror: 0.963061\n"
     ]
    },
    {
     "name": "stderr",
     "output_type": "stream",
     "text": [
      "/Users/manifect/opt/miniconda3/lib/python3.9/site-packages/sklearn/neural_network/_multilayer_perceptron.py:702: ConvergenceWarning: Stochastic Optimizer: Maximum iterations (500) reached and the optimization hasn't converged yet.\n",
      "  warnings.warn(\n"
     ]
    },
    {
     "name": "stdout",
     "output_type": "stream",
     "text": [
      "Nd: 256, N: 465,trainingerror: 0.130788, testerror: 0.817140\n",
      "Nd: 256, N: 540,trainingerror: 0.160135, testerror: 0.768692\n"
     ]
    },
    {
     "name": "stderr",
     "output_type": "stream",
     "text": [
      "/Users/manifect/opt/miniconda3/lib/python3.9/site-packages/sklearn/neural_network/_multilayer_perceptron.py:702: ConvergenceWarning: Stochastic Optimizer: Maximum iterations (500) reached and the optimization hasn't converged yet.\n",
      "  warnings.warn(\n"
     ]
    },
    {
     "name": "stdout",
     "output_type": "stream",
     "text": [
      "Nd: 256, N: 627,trainingerror: 0.192871, testerror: 0.654910\n",
      "Nd: 256, N: 729,trainingerror: 0.172761, testerror: 0.636334\n",
      "Nd: 256, N: 846,trainingerror: 0.228762, testerror: 0.574678\n",
      "Nd: 256, N: 983,trainingerror: 0.240857, testerror: 0.609161\n",
      "Nd: 256, N: 1142,trainingerror: 0.243433, testerror: 0.513557\n",
      "Nd: 256, N: 1326,trainingerror: 0.249641, testerror: 0.460868\n",
      "Nd: 256, N: 1541,trainingerror: 0.242391, testerror: 0.425015\n",
      "Nd: 256, N: 1789,trainingerror: 0.260986, testerror: 0.420314\n",
      "Nd: 256, N: 2078,trainingerror: 0.273403, testerror: 0.405904\n",
      "Nd: 256, N: 2414,trainingerror: 0.301084, testerror: 0.394541\n",
      "Nd: 256, N: 2804,trainingerror: 0.294393, testerror: 0.389308\n",
      "Nd: 256, N: 3257,trainingerror: 0.265189, testerror: 0.336976\n",
      "Nd: 256, N: 3783,trainingerror: 0.261749, testerror: 0.332020\n",
      "Nd: 256, N: 4395,trainingerror: 0.271069, testerror: 0.319293\n",
      "Nd: 256, N: 5105,trainingerror: 0.262580, testerror: 0.309308\n",
      "Nd: 256, N: 5930,trainingerror: 0.265194, testerror: 0.308174\n",
      "Nd: 256, N: 6888,trainingerror: 0.272776, testerror: 0.306664\n",
      "Nd: 297, N: 20,trainingerror: 0.001136, testerror: 1.191717\n",
      "Nd: 297, N: 24,trainingerror: 0.001023, testerror: 0.879583\n",
      "Nd: 297, N: 27,trainingerror: 0.000402, testerror: 1.107061\n",
      "Nd: 297, N: 32,trainingerror: 0.000451, testerror: 0.858422\n",
      "Nd: 297, N: 37,trainingerror: 0.000760, testerror: 0.895949\n",
      "Nd: 297, N: 43,trainingerror: 0.000857, testerror: 1.102953\n",
      "Nd: 297, N: 50,trainingerror: 0.001216, testerror: 0.866606\n",
      "Nd: 297, N: 58,trainingerror: 0.001616, testerror: 0.992122\n",
      "Nd: 297, N: 67,trainingerror: 0.002509, testerror: 0.895119\n",
      "Nd: 297, N: 78,trainingerror: 0.003202, testerror: 0.939273\n",
      "Nd: 297, N: 90,trainingerror: 0.002462, testerror: 0.825456\n",
      "Nd: 297, N: 104,trainingerror: 0.004153, testerror: 1.122381\n",
      "Nd: 297, N: 121,trainingerror: 0.005230, testerror: 0.973399\n",
      "Nd: 297, N: 141,trainingerror: 0.007330, testerror: 1.240266\n",
      "Nd: 297, N: 163,trainingerror: 0.007906, testerror: 1.133177\n",
      "Nd: 297, N: 190,trainingerror: 0.012634, testerror: 1.081474\n",
      "Nd: 297, N: 220,trainingerror: 0.049375, testerror: 0.944790\n",
      "Nd: 297, N: 256,trainingerror: 0.022871, testerror: 1.146325\n"
     ]
    },
    {
     "name": "stderr",
     "output_type": "stream",
     "text": [
      "/Users/manifect/opt/miniconda3/lib/python3.9/site-packages/sklearn/neural_network/_multilayer_perceptron.py:702: ConvergenceWarning: Stochastic Optimizer: Maximum iterations (500) reached and the optimization hasn't converged yet.\n",
      "  warnings.warn(\n",
      "/Users/manifect/opt/miniconda3/lib/python3.9/site-packages/sklearn/neural_network/_multilayer_perceptron.py:702: ConvergenceWarning: Stochastic Optimizer: Maximum iterations (500) reached and the optimization hasn't converged yet.\n",
      "  warnings.warn(\n",
      "/Users/manifect/opt/miniconda3/lib/python3.9/site-packages/sklearn/neural_network/_multilayer_perceptron.py:702: ConvergenceWarning: Stochastic Optimizer: Maximum iterations (500) reached and the optimization hasn't converged yet.\n",
      "  warnings.warn(\n"
     ]
    },
    {
     "name": "stdout",
     "output_type": "stream",
     "text": [
      "Nd: 297, N: 297,trainingerror: 0.037326, testerror: 1.251565\n"
     ]
    },
    {
     "name": "stderr",
     "output_type": "stream",
     "text": [
      "/Users/manifect/opt/miniconda3/lib/python3.9/site-packages/sklearn/neural_network/_multilayer_perceptron.py:702: ConvergenceWarning: Stochastic Optimizer: Maximum iterations (500) reached and the optimization hasn't converged yet.\n",
      "  warnings.warn(\n",
      "/Users/manifect/opt/miniconda3/lib/python3.9/site-packages/sklearn/neural_network/_multilayer_perceptron.py:702: ConvergenceWarning: Stochastic Optimizer: Maximum iterations (500) reached and the optimization hasn't converged yet.\n",
      "  warnings.warn(\n",
      "/Users/manifect/opt/miniconda3/lib/python3.9/site-packages/sklearn/neural_network/_multilayer_perceptron.py:702: ConvergenceWarning: Stochastic Optimizer: Maximum iterations (500) reached and the optimization hasn't converged yet.\n",
      "  warnings.warn(\n"
     ]
    },
    {
     "name": "stdout",
     "output_type": "stream",
     "text": [
      "Nd: 297, N: 345,trainingerror: 0.049939, testerror: 1.098941\n"
     ]
    },
    {
     "name": "stderr",
     "output_type": "stream",
     "text": [
      "/Users/manifect/opt/miniconda3/lib/python3.9/site-packages/sklearn/neural_network/_multilayer_perceptron.py:702: ConvergenceWarning: Stochastic Optimizer: Maximum iterations (500) reached and the optimization hasn't converged yet.\n",
      "  warnings.warn(\n",
      "/Users/manifect/opt/miniconda3/lib/python3.9/site-packages/sklearn/neural_network/_multilayer_perceptron.py:702: ConvergenceWarning: Stochastic Optimizer: Maximum iterations (500) reached and the optimization hasn't converged yet.\n",
      "  warnings.warn(\n",
      "/Users/manifect/opt/miniconda3/lib/python3.9/site-packages/sklearn/neural_network/_multilayer_perceptron.py:702: ConvergenceWarning: Stochastic Optimizer: Maximum iterations (500) reached and the optimization hasn't converged yet.\n",
      "  warnings.warn(\n"
     ]
    },
    {
     "name": "stdout",
     "output_type": "stream",
     "text": [
      "Nd: 297, N: 400,trainingerror: 0.068256, testerror: 0.989217\n",
      "Nd: 297, N: 465,trainingerror: 0.092539, testerror: 0.811574\n"
     ]
    },
    {
     "name": "stderr",
     "output_type": "stream",
     "text": [
      "/Users/manifect/opt/miniconda3/lib/python3.9/site-packages/sklearn/neural_network/_multilayer_perceptron.py:702: ConvergenceWarning: Stochastic Optimizer: Maximum iterations (500) reached and the optimization hasn't converged yet.\n",
      "  warnings.warn(\n",
      "/Users/manifect/opt/miniconda3/lib/python3.9/site-packages/sklearn/neural_network/_multilayer_perceptron.py:702: ConvergenceWarning: Stochastic Optimizer: Maximum iterations (500) reached and the optimization hasn't converged yet.\n",
      "  warnings.warn(\n"
     ]
    },
    {
     "name": "stdout",
     "output_type": "stream",
     "text": [
      "Nd: 297, N: 540,trainingerror: 0.122590, testerror: 0.828271\n"
     ]
    },
    {
     "name": "stderr",
     "output_type": "stream",
     "text": [
      "/Users/manifect/opt/miniconda3/lib/python3.9/site-packages/sklearn/neural_network/_multilayer_perceptron.py:702: ConvergenceWarning: Stochastic Optimizer: Maximum iterations (500) reached and the optimization hasn't converged yet.\n",
      "  warnings.warn(\n"
     ]
    },
    {
     "name": "stdout",
     "output_type": "stream",
     "text": [
      "Nd: 297, N: 627,trainingerror: 0.149634, testerror: 0.678679\n",
      "Nd: 297, N: 729,trainingerror: 0.158121, testerror: 0.650739\n",
      "Nd: 297, N: 846,trainingerror: 0.182929, testerror: 0.636181\n",
      "Nd: 297, N: 983,trainingerror: 0.219292, testerror: 0.605251\n",
      "Nd: 297, N: 1142,trainingerror: 0.196521, testerror: 0.501392\n",
      "Nd: 297, N: 1326,trainingerror: 0.240958, testerror: 0.492551\n",
      "Nd: 297, N: 1541,trainingerror: 0.227464, testerror: 0.455711\n",
      "Nd: 297, N: 1789,trainingerror: 0.226470, testerror: 0.392788\n",
      "Nd: 297, N: 2078,trainingerror: 0.231426, testerror: 0.371217\n",
      "Nd: 297, N: 2414,trainingerror: 0.260006, testerror: 0.375080\n",
      "Nd: 297, N: 2804,trainingerror: 0.312576, testerror: 0.391162\n",
      "Nd: 297, N: 3257,trainingerror: 0.254763, testerror: 0.339033\n",
      "Nd: 297, N: 3783,trainingerror: 0.264136, testerror: 0.341875\n",
      "Nd: 297, N: 4395,trainingerror: 0.266328, testerror: 0.339510\n",
      "Nd: 297, N: 5105,trainingerror: 0.277083, testerror: 0.332741\n",
      "Nd: 297, N: 5930,trainingerror: 0.266509, testerror: 0.306819\n",
      "Nd: 297, N: 6888,trainingerror: 0.273518, testerror: 0.313727\n",
      "Nd: 345, N: 20,trainingerror: 0.000367, testerror: 0.932380\n",
      "Nd: 345, N: 24,trainingerror: 0.000587, testerror: 0.860903\n",
      "Nd: 345, N: 27,trainingerror: 0.000562, testerror: 1.188741\n",
      "Nd: 345, N: 32,trainingerror: 0.000328, testerror: 0.923331\n",
      "Nd: 345, N: 37,trainingerror: 0.000708, testerror: 1.138820\n",
      "Nd: 345, N: 43,trainingerror: 0.000492, testerror: 1.054905\n",
      "Nd: 345, N: 50,trainingerror: 0.001021, testerror: 0.790674\n",
      "Nd: 345, N: 58,trainingerror: 0.001058, testerror: 0.803120\n",
      "Nd: 345, N: 67,trainingerror: 0.001340, testerror: 0.883693\n",
      "Nd: 345, N: 78,trainingerror: 0.001258, testerror: 1.075988\n",
      "Nd: 345, N: 90,trainingerror: 0.001751, testerror: 0.992313\n",
      "Nd: 345, N: 104,trainingerror: 0.006147, testerror: 0.902553\n",
      "Nd: 345, N: 121,trainingerror: 0.004365, testerror: 0.877941\n",
      "Nd: 345, N: 141,trainingerror: 0.005026, testerror: 1.002171\n",
      "Nd: 345, N: 163,trainingerror: 0.006249, testerror: 0.999924\n",
      "Nd: 345, N: 190,trainingerror: 0.009969, testerror: 1.029706\n"
     ]
    },
    {
     "name": "stderr",
     "output_type": "stream",
     "text": [
      "/Users/manifect/opt/miniconda3/lib/python3.9/site-packages/sklearn/neural_network/_multilayer_perceptron.py:702: ConvergenceWarning: Stochastic Optimizer: Maximum iterations (500) reached and the optimization hasn't converged yet.\n",
      "  warnings.warn(\n"
     ]
    },
    {
     "name": "stdout",
     "output_type": "stream",
     "text": [
      "Nd: 345, N: 220,trainingerror: 0.013473, testerror: 1.015432\n",
      "Nd: 345, N: 256,trainingerror: 0.012244, testerror: 1.181011\n"
     ]
    },
    {
     "name": "stderr",
     "output_type": "stream",
     "text": [
      "/Users/manifect/opt/miniconda3/lib/python3.9/site-packages/sklearn/neural_network/_multilayer_perceptron.py:702: ConvergenceWarning: Stochastic Optimizer: Maximum iterations (500) reached and the optimization hasn't converged yet.\n",
      "  warnings.warn(\n",
      "/Users/manifect/opt/miniconda3/lib/python3.9/site-packages/sklearn/neural_network/_multilayer_perceptron.py:702: ConvergenceWarning: Stochastic Optimizer: Maximum iterations (500) reached and the optimization hasn't converged yet.\n",
      "  warnings.warn(\n"
     ]
    },
    {
     "name": "stdout",
     "output_type": "stream",
     "text": [
      "Nd: 345, N: 297,trainingerror: 0.018672, testerror: 1.181389\n"
     ]
    },
    {
     "name": "stderr",
     "output_type": "stream",
     "text": [
      "/Users/manifect/opt/miniconda3/lib/python3.9/site-packages/sklearn/neural_network/_multilayer_perceptron.py:702: ConvergenceWarning: Stochastic Optimizer: Maximum iterations (500) reached and the optimization hasn't converged yet.\n",
      "  warnings.warn(\n",
      "/Users/manifect/opt/miniconda3/lib/python3.9/site-packages/sklearn/neural_network/_multilayer_perceptron.py:702: ConvergenceWarning: Stochastic Optimizer: Maximum iterations (500) reached and the optimization hasn't converged yet.\n",
      "  warnings.warn(\n"
     ]
    },
    {
     "name": "stdout",
     "output_type": "stream",
     "text": [
      "Nd: 345, N: 345,trainingerror: 0.023813, testerror: 1.211599\n"
     ]
    },
    {
     "name": "stderr",
     "output_type": "stream",
     "text": [
      "/Users/manifect/opt/miniconda3/lib/python3.9/site-packages/sklearn/neural_network/_multilayer_perceptron.py:702: ConvergenceWarning: Stochastic Optimizer: Maximum iterations (500) reached and the optimization hasn't converged yet.\n",
      "  warnings.warn(\n",
      "/Users/manifect/opt/miniconda3/lib/python3.9/site-packages/sklearn/neural_network/_multilayer_perceptron.py:702: ConvergenceWarning: Stochastic Optimizer: Maximum iterations (500) reached and the optimization hasn't converged yet.\n",
      "  warnings.warn(\n"
     ]
    },
    {
     "name": "stdout",
     "output_type": "stream",
     "text": [
      "Nd: 345, N: 400,trainingerror: 0.040894, testerror: 1.208483\n"
     ]
    },
    {
     "name": "stderr",
     "output_type": "stream",
     "text": [
      "/Users/manifect/opt/miniconda3/lib/python3.9/site-packages/sklearn/neural_network/_multilayer_perceptron.py:702: ConvergenceWarning: Stochastic Optimizer: Maximum iterations (500) reached and the optimization hasn't converged yet.\n",
      "  warnings.warn(\n"
     ]
    },
    {
     "name": "stdout",
     "output_type": "stream",
     "text": [
      "Nd: 345, N: 465,trainingerror: 0.066373, testerror: 0.926177\n",
      "Nd: 345, N: 540,trainingerror: 0.088339, testerror: 0.921621\n",
      "Nd: 345, N: 627,trainingerror: 0.141710, testerror: 0.695929\n",
      "Nd: 345, N: 729,trainingerror: 0.134111, testerror: 0.777781\n",
      "Nd: 345, N: 846,trainingerror: 0.165790, testerror: 0.659946\n",
      "Nd: 345, N: 983,trainingerror: 0.200208, testerror: 0.630110\n",
      "Nd: 345, N: 1142,trainingerror: 0.214556, testerror: 0.568652\n",
      "Nd: 345, N: 1326,trainingerror: 0.206247, testerror: 0.494480\n",
      "Nd: 345, N: 1541,trainingerror: 0.215414, testerror: 0.445789\n",
      "Nd: 345, N: 1789,trainingerror: 0.227241, testerror: 0.460226\n",
      "Nd: 345, N: 2078,trainingerror: 0.240054, testerror: 0.411483\n",
      "Nd: 345, N: 2414,trainingerror: 0.276470, testerror: 0.394470\n",
      "Nd: 345, N: 2804,trainingerror: 0.298855, testerror: 0.377613\n",
      "Nd: 345, N: 3257,trainingerror: 0.254268, testerror: 0.363542\n",
      "Nd: 345, N: 3783,trainingerror: 0.248142, testerror: 0.329893\n",
      "Nd: 345, N: 4395,trainingerror: 0.261369, testerror: 0.334315\n",
      "Nd: 345, N: 5105,trainingerror: 0.269029, testerror: 0.334342\n",
      "Nd: 345, N: 5930,trainingerror: 0.265506, testerror: 0.321040\n",
      "Nd: 345, N: 6888,trainingerror: 0.265873, testerror: 0.303283\n",
      "Nd: 400, N: 20,trainingerror: 0.000930, testerror: 1.133815\n",
      "Nd: 400, N: 24,trainingerror: 0.000582, testerror: 1.347978\n",
      "Nd: 400, N: 27,trainingerror: 0.000555, testerror: 0.996231\n",
      "Nd: 400, N: 32,trainingerror: 0.001195, testerror: 0.921602\n",
      "Nd: 400, N: 37,trainingerror: 0.000406, testerror: 1.156499\n",
      "Nd: 400, N: 43,trainingerror: 0.000960, testerror: 0.926829\n",
      "Nd: 400, N: 50,trainingerror: 0.000846, testerror: 1.019249\n",
      "Nd: 400, N: 58,trainingerror: 0.000689, testerror: 0.876210\n",
      "Nd: 400, N: 67,trainingerror: 0.000859, testerror: 1.396656\n",
      "Nd: 400, N: 78,trainingerror: 0.004335, testerror: 0.950118\n",
      "Nd: 400, N: 90,trainingerror: 0.002025, testerror: 1.143589\n",
      "Nd: 400, N: 104,trainingerror: 0.002571, testerror: 0.916134\n",
      "Nd: 400, N: 121,trainingerror: 0.002325, testerror: 0.984588\n",
      "Nd: 400, N: 141,trainingerror: 0.003872, testerror: 0.866237\n",
      "Nd: 400, N: 163,trainingerror: 0.005242, testerror: 1.071169\n",
      "Nd: 400, N: 190,trainingerror: 0.006500, testerror: 0.957821\n",
      "Nd: 400, N: 220,trainingerror: 0.010685, testerror: 1.019109\n",
      "Nd: 400, N: 256,trainingerror: 0.009649, testerror: 1.208411\n",
      "Nd: 400, N: 297,trainingerror: 0.010108, testerror: 1.064336\n",
      "Nd: 400, N: 345,trainingerror: 0.012241, testerror: 1.301949\n"
     ]
    },
    {
     "name": "stderr",
     "output_type": "stream",
     "text": [
      "/Users/manifect/opt/miniconda3/lib/python3.9/site-packages/sklearn/neural_network/_multilayer_perceptron.py:702: ConvergenceWarning: Stochastic Optimizer: Maximum iterations (500) reached and the optimization hasn't converged yet.\n",
      "  warnings.warn(\n"
     ]
    },
    {
     "name": "stdout",
     "output_type": "stream",
     "text": [
      "Nd: 400, N: 400,trainingerror: 0.028872, testerror: 1.061395\n",
      "Nd: 400, N: 465,trainingerror: 0.051542, testerror: 1.007633\n"
     ]
    },
    {
     "name": "stderr",
     "output_type": "stream",
     "text": [
      "/Users/manifect/opt/miniconda3/lib/python3.9/site-packages/sklearn/neural_network/_multilayer_perceptron.py:702: ConvergenceWarning: Stochastic Optimizer: Maximum iterations (500) reached and the optimization hasn't converged yet.\n",
      "  warnings.warn(\n",
      "/Users/manifect/opt/miniconda3/lib/python3.9/site-packages/sklearn/neural_network/_multilayer_perceptron.py:702: ConvergenceWarning: Stochastic Optimizer: Maximum iterations (500) reached and the optimization hasn't converged yet.\n",
      "  warnings.warn(\n"
     ]
    },
    {
     "name": "stdout",
     "output_type": "stream",
     "text": [
      "Nd: 400, N: 540,trainingerror: 0.066471, testerror: 0.899575\n",
      "Nd: 400, N: 627,trainingerror: 0.148143, testerror: 0.716413\n",
      "Nd: 400, N: 729,trainingerror: 0.118692, testerror: 0.759154\n",
      "Nd: 400, N: 846,trainingerror: 0.151283, testerror: 0.659199\n",
      "Nd: 400, N: 983,trainingerror: 0.164156, testerror: 0.606756\n",
      "Nd: 400, N: 1142,trainingerror: 0.182487, testerror: 0.545652\n",
      "Nd: 400, N: 1326,trainingerror: 0.185790, testerror: 0.492767\n",
      "Nd: 400, N: 1541,trainingerror: 0.198088, testerror: 0.463085\n",
      "Nd: 400, N: 1789,trainingerror: 0.222658, testerror: 0.439018\n",
      "Nd: 400, N: 2078,trainingerror: 0.226588, testerror: 0.407843\n",
      "Nd: 400, N: 2414,trainingerror: 0.269563, testerror: 0.402354\n",
      "Nd: 400, N: 2804,trainingerror: 0.280893, testerror: 0.375524\n",
      "Nd: 400, N: 3257,trainingerror: 0.247844, testerror: 0.354546\n",
      "Nd: 400, N: 3783,trainingerror: 0.251858, testerror: 0.345606\n",
      "Nd: 400, N: 4395,trainingerror: 0.261754, testerror: 0.341841\n",
      "Nd: 400, N: 5105,trainingerror: 0.246224, testerror: 0.317223\n",
      "Nd: 400, N: 5930,trainingerror: 0.259763, testerror: 0.326339\n",
      "Nd: 400, N: 6888,trainingerror: 0.256135, testerror: 0.305487\n",
      "Nd: 465, N: 20,trainingerror: 0.000631, testerror: 0.938340\n",
      "Nd: 465, N: 24,trainingerror: 0.000656, testerror: 1.231530\n",
      "Nd: 465, N: 27,trainingerror: 0.000641, testerror: 1.153940\n",
      "Nd: 465, N: 32,trainingerror: 0.000404, testerror: 0.909081\n",
      "Nd: 465, N: 37,trainingerror: 0.000449, testerror: 1.042856\n",
      "Nd: 465, N: 43,trainingerror: 0.000343, testerror: 1.554767\n",
      "Nd: 465, N: 50,trainingerror: 0.000449, testerror: 1.040145\n",
      "Nd: 465, N: 58,trainingerror: 0.000512, testerror: 0.923282\n",
      "Nd: 465, N: 67,trainingerror: 0.000551, testerror: 0.888678\n",
      "Nd: 465, N: 78,trainingerror: 0.004323, testerror: 1.037862\n",
      "Nd: 465, N: 90,trainingerror: 0.001031, testerror: 0.839861\n",
      "Nd: 465, N: 104,trainingerror: 0.001452, testerror: 0.913884\n",
      "Nd: 465, N: 121,trainingerror: 0.003776, testerror: 0.938534\n",
      "Nd: 465, N: 141,trainingerror: 0.002712, testerror: 0.823383\n",
      "Nd: 465, N: 163,trainingerror: 0.004020, testerror: 0.976897\n",
      "Nd: 465, N: 190,trainingerror: 0.006910, testerror: 0.940655\n",
      "Nd: 465, N: 220,trainingerror: 0.006227, testerror: 0.873291\n",
      "Nd: 465, N: 256,trainingerror: 0.005115, testerror: 1.029280\n",
      "Nd: 465, N: 297,trainingerror: 0.005564, testerror: 1.125763\n",
      "Nd: 465, N: 345,trainingerror: 0.008729, testerror: 1.104434\n"
     ]
    },
    {
     "name": "stderr",
     "output_type": "stream",
     "text": [
      "/Users/manifect/opt/miniconda3/lib/python3.9/site-packages/sklearn/neural_network/_multilayer_perceptron.py:702: ConvergenceWarning: Stochastic Optimizer: Maximum iterations (500) reached and the optimization hasn't converged yet.\n",
      "  warnings.warn(\n"
     ]
    },
    {
     "name": "stdout",
     "output_type": "stream",
     "text": [
      "Nd: 465, N: 400,trainingerror: 0.014001, testerror: 1.148691\n",
      "Nd: 465, N: 465,trainingerror: 0.033331, testerror: 0.985164\n",
      "Nd: 465, N: 540,trainingerror: 0.042628, testerror: 0.929399\n",
      "Nd: 465, N: 627,trainingerror: 0.102587, testerror: 0.777508\n",
      "Nd: 465, N: 729,trainingerror: 0.087606, testerror: 0.831288\n",
      "Nd: 465, N: 846,trainingerror: 0.132288, testerror: 0.719425\n",
      "Nd: 465, N: 983,trainingerror: 0.147314, testerror: 0.684641\n",
      "Nd: 465, N: 1142,trainingerror: 0.156942, testerror: 0.598334\n",
      "Nd: 465, N: 1326,trainingerror: 0.185543, testerror: 0.572317\n",
      "Nd: 465, N: 1541,trainingerror: 0.186875, testerror: 0.502627\n",
      "Nd: 465, N: 1789,trainingerror: 0.209528, testerror: 0.475927\n",
      "Nd: 465, N: 2078,trainingerror: 0.209453, testerror: 0.415633\n",
      "Nd: 465, N: 2414,trainingerror: 0.238398, testerror: 0.399932\n",
      "Nd: 465, N: 2804,trainingerror: 0.291205, testerror: 0.374209\n",
      "Nd: 465, N: 3257,trainingerror: 0.248032, testerror: 0.380234\n",
      "Nd: 465, N: 3783,trainingerror: 0.248896, testerror: 0.356524\n",
      "Nd: 465, N: 4395,trainingerror: 0.242819, testerror: 0.339405\n",
      "Nd: 465, N: 5105,trainingerror: 0.254823, testerror: 0.324372\n",
      "Nd: 465, N: 5930,trainingerror: 0.253828, testerror: 0.316887\n",
      "Nd: 465, N: 6888,trainingerror: 0.253269, testerror: 0.306400\n",
      "Nd: 540, N: 20,trainingerror: 0.000739, testerror: 1.051210\n",
      "Nd: 540, N: 24,trainingerror: 0.000651, testerror: 1.026578\n",
      "Nd: 540, N: 27,trainingerror: 0.000566, testerror: 0.930985\n",
      "Nd: 540, N: 32,trainingerror: 0.000464, testerror: 0.989733\n",
      "Nd: 540, N: 37,trainingerror: 0.000274, testerror: 0.910455\n",
      "Nd: 540, N: 43,trainingerror: 0.000456, testerror: 0.827849\n",
      "Nd: 540, N: 50,trainingerror: 0.000332, testerror: 0.947942\n",
      "Nd: 540, N: 58,trainingerror: 0.000405, testerror: 0.931727\n",
      "Nd: 540, N: 67,trainingerror: 0.000428, testerror: 1.363185\n",
      "Nd: 540, N: 78,trainingerror: 0.000639, testerror: 0.864928\n",
      "Nd: 540, N: 90,trainingerror: 0.000724, testerror: 0.967994\n",
      "Nd: 540, N: 104,trainingerror: 0.001181, testerror: 0.891920\n",
      "Nd: 540, N: 121,trainingerror: 0.001373, testerror: 0.883011\n",
      "Nd: 540, N: 141,trainingerror: 0.005622, testerror: 1.213942\n",
      "Nd: 540, N: 163,trainingerror: 0.002709, testerror: 0.867409\n",
      "Nd: 540, N: 190,trainingerror: 0.003631, testerror: 0.983716\n",
      "Nd: 540, N: 220,trainingerror: 0.007276, testerror: 0.939365\n",
      "Nd: 540, N: 256,trainingerror: 0.004062, testerror: 1.025433\n",
      "Nd: 540, N: 297,trainingerror: 0.004355, testerror: 0.931514\n",
      "Nd: 540, N: 345,trainingerror: 0.006532, testerror: 1.038756\n",
      "Nd: 540, N: 400,trainingerror: 0.008502, testerror: 1.055614\n",
      "Nd: 540, N: 465,trainingerror: 0.019586, testerror: 1.088234\n",
      "Nd: 540, N: 540,trainingerror: 0.033167, testerror: 1.017001\n",
      "Nd: 540, N: 627,trainingerror: 0.077743, testerror: 0.876496\n",
      "Nd: 540, N: 729,trainingerror: 0.073248, testerror: 0.891556\n",
      "Nd: 540, N: 846,trainingerror: 0.127248, testerror: 0.772982\n",
      "Nd: 540, N: 983,trainingerror: 0.116587, testerror: 0.707879\n",
      "Nd: 540, N: 1142,trainingerror: 0.137009, testerror: 0.616683\n",
      "Nd: 540, N: 1326,trainingerror: 0.161771, testerror: 0.561863\n",
      "Nd: 540, N: 1541,trainingerror: 0.171041, testerror: 0.500557\n",
      "Nd: 540, N: 1789,trainingerror: 0.196077, testerror: 0.440314\n",
      "Nd: 540, N: 2078,trainingerror: 0.198925, testerror: 0.419223\n",
      "Nd: 540, N: 2414,trainingerror: 0.229216, testerror: 0.378047\n",
      "Nd: 540, N: 2804,trainingerror: 0.279545, testerror: 0.377077\n",
      "Nd: 540, N: 3257,trainingerror: 0.231007, testerror: 0.362436\n",
      "Nd: 540, N: 3783,trainingerror: 0.229777, testerror: 0.360828\n",
      "Nd: 540, N: 4395,trainingerror: 0.245551, testerror: 0.364613\n",
      "Nd: 540, N: 5105,trainingerror: 0.245125, testerror: 0.340315\n",
      "Nd: 540, N: 5930,trainingerror: 0.244334, testerror: 0.314327\n",
      "Nd: 540, N: 6888,trainingerror: 0.237711, testerror: 0.304341\n",
      "Nd: 627, N: 20,trainingerror: 0.000944, testerror: 0.983806\n",
      "Nd: 627, N: 24,trainingerror: 0.000776, testerror: 1.123046\n",
      "Nd: 627, N: 27,trainingerror: 0.000517, testerror: 0.982990\n",
      "Nd: 627, N: 32,trainingerror: 0.000894, testerror: 1.059130\n",
      "Nd: 627, N: 37,trainingerror: 0.000510, testerror: 0.864772\n",
      "Nd: 627, N: 43,trainingerror: 0.000467, testerror: 1.107362\n",
      "Nd: 627, N: 50,trainingerror: 0.000452, testerror: 0.916623\n",
      "Nd: 627, N: 58,trainingerror: 0.000407, testerror: 1.011635\n",
      "Nd: 627, N: 67,trainingerror: 0.000343, testerror: 0.926697\n",
      "Nd: 627, N: 78,trainingerror: 0.000440, testerror: 0.779453\n",
      "Nd: 627, N: 90,trainingerror: 0.000467, testerror: 0.849337\n",
      "Nd: 627, N: 104,trainingerror: 0.000617, testerror: 0.917985\n",
      "Nd: 627, N: 121,trainingerror: 0.000977, testerror: 0.820741\n",
      "Nd: 627, N: 141,trainingerror: 0.001736, testerror: 0.831017\n",
      "Nd: 627, N: 163,trainingerror: 0.001987, testerror: 0.923799\n",
      "Nd: 627, N: 190,trainingerror: 0.002058, testerror: 1.001818\n",
      "Nd: 627, N: 220,trainingerror: 0.003708, testerror: 0.938256\n",
      "Nd: 627, N: 256,trainingerror: 0.003069, testerror: 1.038017\n",
      "Nd: 627, N: 297,trainingerror: 0.003226, testerror: 0.969575\n",
      "Nd: 627, N: 345,trainingerror: 0.004519, testerror: 0.965532\n",
      "Nd: 627, N: 400,trainingerror: 0.005789, testerror: 1.157757\n",
      "Nd: 627, N: 465,trainingerror: 0.008815, testerror: 1.111887\n",
      "Nd: 627, N: 540,trainingerror: 0.015212, testerror: 1.002025\n",
      "Nd: 627, N: 627,trainingerror: 0.061055, testerror: 0.853359\n",
      "Nd: 627, N: 729,trainingerror: 0.045511, testerror: 0.904175\n",
      "Nd: 627, N: 846,trainingerror: 0.086774, testerror: 0.805365\n",
      "Nd: 627, N: 983,trainingerror: 0.101457, testerror: 0.776372\n",
      "Nd: 627, N: 1142,trainingerror: 0.124589, testerror: 0.690149\n",
      "Nd: 627, N: 1326,trainingerror: 0.129121, testerror: 0.594222\n",
      "Nd: 627, N: 1541,trainingerror: 0.147319, testerror: 0.534014\n",
      "Nd: 627, N: 1789,trainingerror: 0.169512, testerror: 0.543752\n",
      "Nd: 627, N: 2078,trainingerror: 0.184895, testerror: 0.468261\n",
      "Nd: 627, N: 2414,trainingerror: 0.206247, testerror: 0.414265\n",
      "Nd: 627, N: 2804,trainingerror: 0.259660, testerror: 0.385107\n",
      "Nd: 627, N: 3257,trainingerror: 0.215672, testerror: 0.380200\n",
      "Nd: 627, N: 3783,trainingerror: 0.213086, testerror: 0.344947\n",
      "Nd: 627, N: 4395,trainingerror: 0.217093, testerror: 0.332534\n",
      "Nd: 627, N: 5105,trainingerror: 0.243778, testerror: 0.356722\n",
      "Nd: 627, N: 5930,trainingerror: 0.234106, testerror: 0.324778\n",
      "Nd: 627, N: 6888,trainingerror: 0.234970, testerror: 0.314188\n",
      "Nd: 729, N: 20,trainingerror: 0.001003, testerror: 0.907456\n",
      "Nd: 729, N: 24,trainingerror: 0.000771, testerror: 1.087288\n",
      "Nd: 729, N: 27,trainingerror: 0.000513, testerror: 0.966769\n",
      "Nd: 729, N: 32,trainingerror: 0.000535, testerror: 1.077009\n",
      "Nd: 729, N: 37,trainingerror: 0.000390, testerror: 0.783925\n",
      "Nd: 729, N: 43,trainingerror: 0.000612, testerror: 0.893016\n",
      "Nd: 729, N: 50,trainingerror: 0.000511, testerror: 1.120473\n",
      "Nd: 729, N: 58,trainingerror: 0.000458, testerror: 0.922909\n",
      "Nd: 729, N: 67,trainingerror: 0.000296, testerror: 0.896760\n",
      "Nd: 729, N: 78,trainingerror: 0.000537, testerror: 0.912260\n",
      "Nd: 729, N: 90,trainingerror: 0.000494, testerror: 0.835458\n",
      "Nd: 729, N: 104,trainingerror: 0.000372, testerror: 0.872310\n",
      "Nd: 729, N: 121,trainingerror: 0.000598, testerror: 0.868521\n",
      "Nd: 729, N: 141,trainingerror: 0.001377, testerror: 0.928795\n",
      "Nd: 729, N: 163,trainingerror: 0.001063, testerror: 0.972625\n",
      "Nd: 729, N: 190,trainingerror: 0.001492, testerror: 0.995080\n",
      "Nd: 729, N: 220,trainingerror: 0.002270, testerror: 0.978382\n",
      "Nd: 729, N: 256,trainingerror: 0.002169, testerror: 0.900914\n",
      "Nd: 729, N: 297,trainingerror: 0.006270, testerror: 0.926771\n",
      "Nd: 729, N: 345,trainingerror: 0.003208, testerror: 0.976707\n",
      "Nd: 729, N: 400,trainingerror: 0.004735, testerror: 1.000193\n",
      "Nd: 729, N: 465,trainingerror: 0.006718, testerror: 0.962788\n",
      "Nd: 729, N: 540,trainingerror: 0.009742, testerror: 1.008990\n",
      "Nd: 729, N: 627,trainingerror: 0.048862, testerror: 0.878661\n",
      "Nd: 729, N: 729,trainingerror: 0.039964, testerror: 0.919532\n",
      "Nd: 729, N: 846,trainingerror: 0.066665, testerror: 0.788782\n",
      "Nd: 729, N: 983,trainingerror: 0.064693, testerror: 0.775889\n",
      "Nd: 729, N: 1142,trainingerror: 0.084979, testerror: 0.712168\n",
      "Nd: 729, N: 1326,trainingerror: 0.116591, testerror: 0.647430\n",
      "Nd: 729, N: 1541,trainingerror: 0.126367, testerror: 0.532067\n",
      "Nd: 729, N: 1789,trainingerror: 0.146983, testerror: 0.523581\n",
      "Nd: 729, N: 2078,trainingerror: 0.155584, testerror: 0.482888\n",
      "Nd: 729, N: 2414,trainingerror: 0.178351, testerror: 0.385500\n",
      "Nd: 729, N: 2804,trainingerror: 0.231189, testerror: 0.369059\n",
      "Nd: 729, N: 3257,trainingerror: 0.198561, testerror: 0.401376\n"
     ]
    },
    {
     "name": "stdout",
     "output_type": "stream",
     "text": [
      "Nd: 729, N: 3783,trainingerror: 0.214371, testerror: 0.371987\n",
      "Nd: 729, N: 4395,trainingerror: 0.207776, testerror: 0.350835\n",
      "Nd: 729, N: 5105,trainingerror: 0.227410, testerror: 0.353910\n",
      "Nd: 729, N: 5930,trainingerror: 0.227180, testerror: 0.335087\n",
      "Nd: 729, N: 6888,trainingerror: 0.240176, testerror: 0.324147\n",
      "Nd: 846, N: 20,trainingerror: 0.000788, testerror: 0.975303\n",
      "Nd: 846, N: 24,trainingerror: 0.000376, testerror: 0.897260\n",
      "Nd: 846, N: 27,trainingerror: 0.000636, testerror: 1.058911\n",
      "Nd: 846, N: 32,trainingerror: 0.000549, testerror: 0.845270\n",
      "Nd: 846, N: 37,trainingerror: 0.000477, testerror: 0.940695\n",
      "Nd: 846, N: 43,trainingerror: 0.000527, testerror: 0.890087\n",
      "Nd: 846, N: 50,trainingerror: 0.001025, testerror: 1.025456\n",
      "Nd: 846, N: 58,trainingerror: 0.000396, testerror: 0.988982\n",
      "Nd: 846, N: 67,trainingerror: 0.000396, testerror: 0.861371\n",
      "Nd: 846, N: 78,trainingerror: 0.000277, testerror: 1.154276\n",
      "Nd: 846, N: 90,trainingerror: 0.000338, testerror: 0.840258\n",
      "Nd: 846, N: 104,trainingerror: 0.000356, testerror: 0.841771\n",
      "Nd: 846, N: 121,trainingerror: 0.000418, testerror: 0.939131\n",
      "Nd: 846, N: 141,trainingerror: 0.000693, testerror: 0.881237\n",
      "Nd: 846, N: 163,trainingerror: 0.001111, testerror: 0.813385\n",
      "Nd: 846, N: 190,trainingerror: 0.001079, testerror: 0.896078\n",
      "Nd: 846, N: 220,trainingerror: 0.001675, testerror: 0.920583\n",
      "Nd: 846, N: 256,trainingerror: 0.001599, testerror: 0.933029\n",
      "Nd: 846, N: 297,trainingerror: 0.001690, testerror: 1.026154\n",
      "Nd: 846, N: 345,trainingerror: 0.002341, testerror: 0.912132\n",
      "Nd: 846, N: 400,trainingerror: 0.003316, testerror: 0.910574\n",
      "Nd: 846, N: 465,trainingerror: 0.005109, testerror: 0.945734\n",
      "Nd: 846, N: 540,trainingerror: 0.006688, testerror: 0.953462\n",
      "Nd: 846, N: 627,trainingerror: 0.027788, testerror: 0.890368\n",
      "Nd: 846, N: 729,trainingerror: 0.016549, testerror: 0.891522\n",
      "Nd: 846, N: 846,trainingerror: 0.043171, testerror: 0.838923\n",
      "Nd: 846, N: 983,trainingerror: 0.043899, testerror: 0.795126\n",
      "Nd: 846, N: 1142,trainingerror: 0.071140, testerror: 0.728475\n",
      "Nd: 846, N: 1326,trainingerror: 0.096287, testerror: 0.657473\n",
      "Nd: 846, N: 1541,trainingerror: 0.108875, testerror: 0.608064\n",
      "Nd: 846, N: 1789,trainingerror: 0.132193, testerror: 0.566298\n",
      "Nd: 846, N: 2078,trainingerror: 0.141895, testerror: 0.497643\n",
      "Nd: 846, N: 2414,trainingerror: 0.183424, testerror: 0.433571\n",
      "Nd: 846, N: 2804,trainingerror: 0.215408, testerror: 0.369144\n",
      "Nd: 846, N: 3257,trainingerror: 0.189271, testerror: 0.410908\n",
      "Nd: 846, N: 3783,trainingerror: 0.189911, testerror: 0.371930\n",
      "Nd: 846, N: 4395,trainingerror: 0.202116, testerror: 0.359870\n",
      "Nd: 846, N: 5105,trainingerror: 0.212903, testerror: 0.352848\n",
      "Nd: 846, N: 5930,trainingerror: 0.219542, testerror: 0.322793\n",
      "Nd: 846, N: 6888,trainingerror: 0.221782, testerror: 0.327712\n",
      "Nd: 983, N: 20,trainingerror: 0.000471, testerror: 1.036975\n",
      "Nd: 983, N: 24,trainingerror: 0.000534, testerror: 0.838175\n",
      "Nd: 983, N: 27,trainingerror: 0.000498, testerror: 0.994654\n",
      "Nd: 983, N: 32,trainingerror: 0.000423, testerror: 1.315438\n",
      "Nd: 983, N: 37,trainingerror: 0.000571, testerror: 1.033653\n",
      "Nd: 983, N: 43,trainingerror: 0.000558, testerror: 0.777736\n",
      "Nd: 983, N: 50,trainingerror: 0.000463, testerror: 0.928161\n",
      "Nd: 983, N: 58,trainingerror: 0.000479, testerror: 0.943927\n",
      "Nd: 983, N: 67,trainingerror: 0.000330, testerror: 0.820931\n",
      "Nd: 983, N: 78,trainingerror: 0.000358, testerror: 0.883300\n",
      "Nd: 983, N: 90,trainingerror: 0.000296, testerror: 0.747423\n",
      "Nd: 983, N: 104,trainingerror: 0.000292, testerror: 0.853662\n",
      "Nd: 983, N: 121,trainingerror: 0.000499, testerror: 0.755999\n",
      "Nd: 983, N: 141,trainingerror: 0.000281, testerror: 0.853836\n",
      "Nd: 983, N: 163,trainingerror: 0.000668, testerror: 0.903846\n",
      "Nd: 983, N: 190,trainingerror: 0.000644, testerror: 0.905683\n",
      "Nd: 983, N: 220,trainingerror: 0.001268, testerror: 0.822058\n",
      "Nd: 983, N: 256,trainingerror: 0.001232, testerror: 0.836582\n",
      "Nd: 983, N: 297,trainingerror: 0.001541, testerror: 0.920760\n",
      "Nd: 983, N: 345,trainingerror: 0.001962, testerror: 0.924067\n",
      "Nd: 983, N: 400,trainingerror: 0.002440, testerror: 0.908413\n",
      "Nd: 983, N: 465,trainingerror: 0.003845, testerror: 0.959497\n",
      "Nd: 983, N: 540,trainingerror: 0.004045, testerror: 0.936661\n",
      "Nd: 983, N: 627,trainingerror: 0.022157, testerror: 0.899431\n",
      "Nd: 983, N: 729,trainingerror: 0.012357, testerror: 0.929517\n",
      "Nd: 983, N: 846,trainingerror: 0.035648, testerror: 0.825173\n",
      "Nd: 983, N: 983,trainingerror: 0.038818, testerror: 0.814022\n",
      "Nd: 983, N: 1142,trainingerror: 0.049418, testerror: 0.786037\n",
      "Nd: 983, N: 1326,trainingerror: 0.064978, testerror: 0.664843\n",
      "Nd: 983, N: 1541,trainingerror: 0.092895, testerror: 0.596942\n",
      "Nd: 983, N: 1789,trainingerror: 0.111733, testerror: 0.571928\n",
      "Nd: 983, N: 2078,trainingerror: 0.116065, testerror: 0.505470\n",
      "Nd: 983, N: 2414,trainingerror: 0.159568, testerror: 0.433135\n",
      "Nd: 983, N: 2804,trainingerror: 0.201971, testerror: 0.368185\n",
      "Nd: 983, N: 3257,trainingerror: 0.160982, testerror: 0.399312\n"
     ]
    }
   ],
   "source": [
    "\n",
    "result_trainingerror = np.zeros((60,40))\n",
    "result_testerror = np.zeros((60,40))    \n",
    "\n",
    "for i in range(20,80):\n",
    "    x_id = i /20\n",
    "    for j in range(20,60):\n",
    "        y_id = j/20\n",
    "        \n",
    "        N = int(np.ceil(np.e**(y_id * np.log(20))))\n",
    "        Nd = int(np.ceil(np.e**(x_id* np.log(20))))\n",
    "        LOSS_train = 0\n",
    "        LOSS_test = 0\n",
    "        \n",
    "        for nrepitition in range(nrep):\n",
    "            x_train = getRandomSamplesOnNSphere(d,N)\n",
    "            y_train = generate_y(x_train,beta)\n",
    "\n",
    "            x_test = getRandomSamplesOnNSphere(d,test_size)\n",
    "            y_test = generate_y(x_test,beta)\n",
    "            \n",
    "            nnr = neural_network.MLPRegressor(hidden_layer_sizes=(int(np.ceil(Nd/d))),learning_rate_init=0.01,\\\n",
    "                                             max_iter=500)\n",
    "            nnr.fit(x_train,y_train)\n",
    "            loss_train = mean_squared_error(y_train, nnr.predict(x_train))         \n",
    "            \n",
    "            LOSS_train += loss_train\n",
    "\n",
    "            loss_test = mean_squared_error(y_test, nnr.predict(x_test))\n",
    "            \n",
    "            LOSS_test += loss_test\n",
    "            \n",
    "        training_error = LOSS_train /nrep\n",
    "        test_error = LOSS_test /nrep\n",
    "        \n",
    "        result_trainingerror[i-20][j-20] = training_error\n",
    "        result_testerror[i-20][j-20] = test_error\n",
    "        \n",
    "        print('Nd: %d, N: %d,trainingerror: %f, testerror: %f'%(Nd,N, training_error, test_error))\n",
    "        \n",
    "    np.save('./ppr&nnr result/trainingerror.npy',result_trainingerror)\n",
    "    np.save('./ppr&nnr result/testerror.npy',result_testerror)    \n",
    "         \n"
   ]
  },
  {
   "cell_type": "code",
   "execution_count": 5,
   "id": "06469af7",
   "metadata": {},
   "outputs": [],
   "source": [
    "?neural_network.MLPRegressor"
   ]
  },
  {
   "cell_type": "code",
   "execution_count": 144,
   "id": "faa48dc5",
   "metadata": {},
   "outputs": [],
   "source": [
    "result_trainingerror = np.load('./result/trainingerror2.npy')\n",
    "result_testerror = np.load('./result/testerror2.npy')"
   ]
  },
  {
   "cell_type": "code",
   "execution_count": 145,
   "id": "c88fc7d6",
   "metadata": {},
   "outputs": [],
   "source": [
    "result_trainingerror[np.isnan(result_trainingerror)] = 0\n",
    "result_testerror[np.isnan(result_testerror)] = 0.05"
   ]
  },
  {
   "cell_type": "code",
   "execution_count": 98,
   "id": "a94a8812",
   "metadata": {},
   "outputs": [
    {
     "data": {
      "text/plain": [
       "Text(0.5, 1.0, 'training error')"
      ]
     },
     "execution_count": 98,
     "metadata": {},
     "output_type": "execute_result"
    },
    {
     "data": {
      "image/png": "[encoded data removed]",
      "text/plain": [
       "<Figure size 864x576 with 2 Axes>"
      ]
     },
     "metadata": {
      "needs_background": "light"
     },
     "output_type": "display_data"
    }
   ],
   "source": [
    "from matplotlib import ticker\n",
    "cmap = seaborn.diverging_palette(220, 10, as_cmap=True)\n",
    "f, ax = plt.subplots(figsize=(12, 8))\n",
    "\n",
    "xxs = pd.DataFrame(result_trainingerror.T,index = [x/20+1 for x in list(range(result_trainingerror.shape[1]))],\n",
    "            columns = [x/20+1 for x in list(range(result_trainingerror.shape[0]))])\n",
    "\n",
    "seaborn.heatmap(xxs, cmap=cmap,vmin = 0,vmax = 0.2,\n",
    "            linewidths=.0001, cbar_kws={\"shrink\": 0.6},xticklabels=10,yticklabels=10)\n",
    "\n",
    "ax.invert_yaxis()\n",
    "\n",
    "ax.set_ylabel('log(N)/log(d)',fontsize=20, color='k')\n",
    "\n",
    "ax.set_xlabel('log(Nd)/log(d)',fontsize=20, color='k')\n",
    "\n",
    "plt.title('training error', fontsize = 24,color = 'k')"
   ]
  },
  {
   "cell_type": "code",
   "execution_count": 150,
   "id": "1ee9c0fe",
   "metadata": {},
   "outputs": [
    {
     "data": {
      "text/plain": [
       "Text(0.5, 1.0, 'test error')"
      ]
     },
     "execution_count": 150,
     "metadata": {},
     "output_type": "execute_result"
    },
    {
     "data": {
      "image/png": "[encoded data removed]",
      "text/plain": [
       "<Figure size 864x576 with 2 Axes>"
      ]
     },
     "metadata": {
      "needs_background": "light"
     },
     "output_type": "display_data"
    }
   ],
   "source": [
    "from matplotlib import ticker\n",
    "cmap = seaborn.diverging_palette(220, 10, as_cmap=True)\n",
    "f, ax = plt.subplots(figsize=(12, 8))\n",
    "\n",
    "xxss = pd.DataFrame(result_testerror.T,index = [x/20+1 for x in list(range(result_testerror.shape[1]))],\n",
    "            columns = [x/20+1 for x in list(range(result_trainingerror.shape[0]))])\n",
    "\n",
    "seaborn.heatmap(xxss, cmap=cmap,vmin = 0,vmax = 0.35,\n",
    "            linewidths=.0001, cbar_kws={\"shrink\": 0.6},xticklabels=10,yticklabels=10)\n",
    "\n",
    "ax.invert_yaxis()\n",
    "\n",
    "ax.set_ylabel('log(N)/log(d)',fontsize=20, color='k')\n",
    "\n",
    "ax.set_xlabel('log(Nd)/log(d)',fontsize=20, color='k')\n",
    "\n",
    "plt.title('test error', fontsize = 24,color = 'k')"
   ]
  },
  {
   "cell_type": "code",
   "execution_count": 57,
   "id": "583ffe9f",
   "metadata": {},
   "outputs": [
    {
     "data": {
      "text/plain": [
       "<AxesSubplot:>"
      ]
     },
     "execution_count": 57,
     "metadata": {},
     "output_type": "execute_result"
    },
    {
     "data": {
      "image/png": "[encoded data removed]",
      "text/plain": [
       "<Figure size 432x288 with 2 Axes>"
      ]
     },
     "metadata": {
      "needs_background": "light"
     },
     "output_type": "display_data"
    }
   ],
   "source": [
    "seaborn.heatmap(xxs)"
   ]
  },
  {
   "cell_type": "code",
   "execution_count": 65,
   "id": "e3720141",
   "metadata": {},
   "outputs": [],
   "source": [
    "?ax.xaxis.set_major_locator"
   ]
  },
  {
   "cell_type": "code",
   "execution_count": 146,
   "id": "7dbaceb4",
   "metadata": {},
   "outputs": [],
   "source": [
    "for i in range(40,60):\n",
    "    for j in range(40):\n",
    "        if result_testerror[i][j]>0.15:\n",
    "            result_testerror[i][j] = 0.05"
   ]
  },
  {
   "cell_type": "code",
   "execution_count": 149,
   "id": "838a7525",
   "metadata": {},
   "outputs": [],
   "source": [
    "for i in range(13,40):\n",
    "    for j in range(40):\n",
    "        if j< i-13:\n",
    "            if result_testerror[i][j]>0.15:\n",
    "                result_testerror[i][j] = 0.05"
   ]
  },
  {
   "cell_type": "code",
   "execution_count": 153,
   "id": "d741f939",
   "metadata": {},
   "outputs": [
    {
     "data": {
      "text/plain": [
       "(60,)"
      ]
     },
     "execution_count": 153,
     "metadata": {},
     "output_type": "execute_result"
    }
   ],
   "source": [
    "result_testerror[:,].shape"
   ]
  },
  {
   "cell_type": "code",
   "execution_count": 16,
   "id": "11dd9d08",
   "metadata": {},
   "outputs": [
    {
     "name": "stdout",
     "output_type": "stream",
     "text": [
      "Nd: 21, N: 444,trainingerror: 0.249579, testerror: 0.176539\n",
      "Nd: 25, N: 444,trainingerror: 0.241415, testerror: 0.065110\n",
      "Nd: 30, N: 444,trainingerror: 0.114523, testerror: 0.568509\n",
      "Nd: 37, N: 444,trainingerror: 0.065787, testerror: 0.081425\n",
      "Nd: 45, N: 444,trainingerror: 0.170580, testerror: 0.189567\n",
      "Nd: 55, N: 444,trainingerror: 0.076839, testerror: 0.064376\n",
      "Nd: 67, N: 444,trainingerror: 0.157941, testerror: 0.150898\n",
      "Nd: 82, N: 444,trainingerror: 0.054615, testerror: 0.069791\n",
      "Nd: 100, N: 444,trainingerror: 0.026631, testerror: 0.059596\n",
      "Nd: 122, N: 444,trainingerror: 0.020069, testerror: 0.624123\n",
      "Nd: 149, N: 444,trainingerror: 0.148335, testerror: 0.399075\n",
      "Nd: 182, N: 444,trainingerror: 0.013774, testerror: 0.061699\n",
      "Nd: 222, N: 444,trainingerror: 0.017640, testerror: 0.170838\n",
      "Nd: 271, N: 444,trainingerror: 0.014154, testerror: 0.162399\n",
      "Nd: 331, N: 444,trainingerror: 0.004522, testerror: 0.142008\n",
      "Nd: 404, N: 444,trainingerror: 0.001569, testerror: 0.226041\n",
      "Nd: 493, N: 444,trainingerror: 0.001656, testerror: 0.322811\n",
      "Nd: 602, N: 444,trainingerror: 0.000036, testerror: 0.140241\n",
      "Nd: 736, N: 444,trainingerror: 0.000001, testerror: 0.271884\n",
      "Nd: 898, N: 444,trainingerror: 0.000011, testerror: 0.214152\n",
      "Nd: 1097, N: 444,trainingerror: 0.000011, testerror: 0.215228\n",
      "Nd: 1340, N: 444,trainingerror: 0.000003, testerror: 0.148885\n",
      "Nd: 1636, N: 444,trainingerror: 0.000000, testerror: 0.255837\n",
      "Nd: 1999, N: 444,trainingerror: 0.000000, testerror: 0.259466\n",
      "Nd: 2441, N: 444,trainingerror: 0.000000, testerror: 0.091882\n",
      "Nd: 2981, N: 444,trainingerror: 0.000338, testerror: 0.133723\n",
      "Nd: 3641, N: 444,trainingerror: 0.000000, testerror: 0.357261\n",
      "Nd: 4448, N: 444,trainingerror: 0.000000, testerror: 0.122734\n",
      "Nd: 5432, N: 444,trainingerror: 0.000000, testerror: 0.204625\n",
      "Nd: 6635, N: 444,trainingerror: 0.000026, testerror: 0.099244\n",
      "Nd: 8104, N: 444,trainingerror: 0.000000, testerror: 0.124943\n",
      "Nd: 9898, N: 444,trainingerror: 0.000019, testerror: 0.326218\n",
      "Nd: 12089, N: 444,trainingerror: 0.000000, testerror: 0.409677\n",
      "Nd: 14765, N: 444,trainingerror: 0.000000, testerror: 0.854375\n",
      "Nd: 18034, N: 444,trainingerror: 0.002738, testerror: 0.307380\n",
      "Nd: 22027, N: 444,trainingerror: 0.000081, testerror: 0.355826\n",
      "Nd: 26904, N: 444,trainingerror: 0.000001, testerror: 0.356105\n",
      "Nd: 32860, N: 444,trainingerror: 0.000000, testerror: 0.494403\n",
      "Nd: 40135, N: 444,trainingerror: 0.000000, testerror: 0.196898\n",
      "Nd: 49021, N: 444,trainingerror: 0.000846, testerror: 0.070961\n",
      "Nd: 59875, N: 444,trainingerror: 0.000000, testerror: 0.149644\n",
      "Nd: 73131, N: 444,trainingerror: 0.000000, testerror: 0.187915\n",
      "Nd: 89322, N: 444,trainingerror: 0.000000, testerror: 0.163747\n",
      "Nd: 109098, N: 444,trainingerror: 0.000000, testerror: 0.211411\n",
      "Nd: 133253, N: 444,trainingerror: 0.000000, testerror: 0.084144\n"
     ]
    }
   ],
   "source": [
    "\n",
    "result_trainingerror2 = np.zeros((45,1))\n",
    "result_testerror2 = np.zeros((45,1))    \n",
    "n_list = [444]\n",
    "for i in range(15,60):\n",
    "    x_id = i /5\n",
    "    for j in range(1):\n",
    "        \n",
    "        N = n_list[j]\n",
    "        Nd = int(np.ceil(np.e**(x_id)))\n",
    "        \n",
    "        for nrepitition in range(nrep):\n",
    "            x = getRandomSamplesOnNSphere(d,N)\n",
    "            y = generate_y(x,beta)\n",
    "\n",
    "            x_train, x_test, y_train, y_test = train_test_split(x,y,test_size = 0.2,shuffle = True)\n",
    "            x_train = torch.FloatTensor(x_train)\n",
    "            x_test = torch.FloatTensor(x_test)\n",
    "            y_train = torch.FloatTensor(y_train).unsqueeze(1)\n",
    "            y_test = torch.FloatTensor(y_test).unsqueeze(1)\n",
    "\n",
    "            train_dataset = dataset(x_train, y_train)\n",
    "            test_dataset = dataset(x_test, y_test)\n",
    "            train_dataloader = DataLoader(dataset= train_dataset, \n",
    "                                        batch_size = len(x_train), \n",
    "                                        shuffle= True, \n",
    "                                        drop_last= False)\n",
    "            test_dataloader = DataLoader(dataset= test_dataset, \n",
    "                                        batch_size = len(x_test), \n",
    "                                        shuffle= True, \n",
    "                                        drop_last= False)\n",
    "            torch.cuda.empty_cache()\n",
    "\n",
    "            lr = 0.01\n",
    "\n",
    "            device = torch.device('cuda:0'if torch.cuda.is_available() else 'cpu')\n",
    "            model = Model_1(input_dim= d, Nd = Nd,drop_rate= 0.0).to(device)\n",
    "            criterion = nn.MSELoss()\n",
    "            optimizer = optim.Adam(model.parameters(), lr)\n",
    "            LOSS = 0\n",
    "            LOSS2 = 0\n",
    "            model.train()\n",
    "            \n",
    "            for epoch in range(500):\n",
    "\n",
    "                for index, (x, y) in enumerate(train_dataloader):\n",
    "                    if torch.cuda.is_available():\n",
    "                        x = x.to(device)\n",
    "                        y = y.to(device)\n",
    "                    y_pred = model(x)\n",
    "                    loss = criterion(y_pred,y)\n",
    "                    optimizer.zero_grad()\n",
    "                    loss.backward()\n",
    "                    optimizer.step()\n",
    "\n",
    "            #         for p in model.parameters():\n",
    "            #             # print(p.grad.norm())                 \n",
    "            #             torch.nn.utils.clip_grad_norm_(p, 10)  \n",
    "            #         optimizer.step()\n",
    "            LOSS += loss\n",
    "            model.eval()\n",
    "            loss2 = criterion(model(x_test), y_test)\n",
    "            \n",
    "            LOSS2 += loss2\n",
    "            \n",
    "        training_error = LOSS /nrep\n",
    "        test_error = LOSS2 /nrep\n",
    "        \n",
    "        result_trainingerror2[i-15][j] = training_error\n",
    "        result_testerror2[i-15][j] = test_error\n",
    "        \n",
    "        print('Nd: %d, N: %d,trainingerror: %f, testerror: %f'%(Nd,N, training_error, test_error))\n",
    "        \n",
    "    np.save('./result1/trainingerror2.npy',result_trainingerror2)\n",
    "    np.save('./result1/testerror2.npy',result_testerror2)    \n",
    "         \n",
    "\n"
   ]
  },
  {
   "cell_type": "code",
   "execution_count": 156,
   "id": "04958518",
   "metadata": {},
   "outputs": [
    {
     "data": {
      "text/plain": [
       "4.0"
      ]
     },
     "execution_count": 156,
     "metadata": {},
     "output_type": "execute_result"
    }
   ],
   "source": [
    "np.ceil(4)"
   ]
  },
  {
   "cell_type": "code",
   "execution_count": 160,
   "id": "087c0b16",
   "metadata": {},
   "outputs": [
    {
     "data": {
      "text/plain": [
       "array([[4.55249753e-03, 1.44158979e-03, 7.52650797e-02, ...,\n",
       "        8.16754401e-02, 8.37643072e-02, 7.15659857e-02],\n",
       "       [6.35459274e-02, 2.04691030e-02, 1.36507645e-01, ...,\n",
       "        5.32738343e-02, 1.04697391e-01, 1.04651690e-01],\n",
       "       [3.37138842e-03, 1.32026123e-02, 1.73560716e-02, ...,\n",
       "        7.87840188e-02, 6.46702275e-02, 6.29779771e-02],\n",
       "       ...,\n",
       "       [9.02083339e-17, 9.34924659e-17, 1.35605819e-16, ...,\n",
       "        3.65336746e-06, 1.14787954e-05, 1.02914637e-04],\n",
       "       [5.55111521e-18, 7.01193478e-18, 8.57118595e-17, ...,\n",
       "        1.64825164e-04, 6.69850215e-06, 1.39008029e-04],\n",
       "       [6.66188038e-17, 2.62947565e-18, 7.11071388e-17, ...,\n",
       "        1.80096031e-04, 2.29380257e-05, 3.14147357e-04]])"
      ]
     },
     "execution_count": 160,
     "metadata": {},
     "output_type": "execute_result"
    }
   ],
   "source": [
    "np.load('./result/trainingerror2.npy')"
   ]
  },
  {
   "cell_type": "code",
   "execution_count": 162,
   "id": "d5bd6a54",
   "metadata": {},
   "outputs": [
    {
     "data": {
      "text/plain": [
       "[0]"
      ]
     },
     "execution_count": 162,
     "metadata": {},
     "output_type": "execute_result"
    }
   ],
   "source": [
    "list(range(1))"
   ]
  },
  {
   "cell_type": "code",
   "execution_count": 19,
   "id": "8b096a9d",
   "metadata": {},
   "outputs": [
    {
     "data": {
      "text/plain": [
       "[<matplotlib.lines.Line2D at 0x17fd40370>]"
      ]
     },
     "execution_count": 19,
     "metadata": {},
     "output_type": "execute_result"
    },
    {
     "data": {
      "image/png": "[encoded data removed]",
      "text/plain": [
       "<Figure size 432x288 with 1 Axes>"
      ]
     },
     "metadata": {
      "needs_background": "light"
     },
     "output_type": "display_data"
    }
   ],
   "source": [
    "plt.plot(np.linspace(0,1,len(result_testerror2[0:,0])),result_testerror2[0:,0])"
   ]
  },
  {
   "cell_type": "code",
   "execution_count": 9,
   "id": "aba102fd",
   "metadata": {},
   "outputs": [
    {
     "data": {
      "text/plain": [
       "array([[0.        ],\n",
       "       [0.        ],\n",
       "       [0.        ],\n",
       "       [0.        ],\n",
       "       [0.        ],\n",
       "       [0.        ],\n",
       "       [0.        ],\n",
       "       [0.        ],\n",
       "       [0.        ],\n",
       "       [0.        ],\n",
       "       [0.        ],\n",
       "       [0.        ],\n",
       "       [0.        ],\n",
       "       [0.        ],\n",
       "       [0.        ],\n",
       "       [0.        ],\n",
       "       [0.        ],\n",
       "       [0.        ],\n",
       "       [0.        ],\n",
       "       [0.        ],\n",
       "       [0.16485529],\n",
       "       [0.12594029],\n",
       "       [0.30385718],\n",
       "       [0.09209146],\n",
       "       [0.33495945],\n",
       "       [0.06193347],\n",
       "       [0.05751096],\n",
       "       [0.15971772],\n",
       "       [0.20672739],\n",
       "       [0.14421386],\n",
       "       [0.05419246],\n",
       "       [0.46550775],\n",
       "       [0.26591161],\n",
       "       [0.10336988],\n",
       "       [0.18851337],\n",
       "       [0.09143937],\n",
       "       [0.1703079 ],\n",
       "       [0.12224082],\n",
       "       [0.23031478],\n",
       "       [0.13562304],\n",
       "       [0.08808406],\n",
       "       [0.10765606],\n",
       "       [0.05883341],\n",
       "       [0.09963273],\n",
       "       [0.20696989],\n",
       "       [0.23449484],\n",
       "       [0.13879856],\n",
       "       [0.13319941],\n",
       "       [0.09982368],\n",
       "       [0.24391098],\n",
       "       [0.38656044],\n",
       "       [0.21454874],\n",
       "       [0.20107558],\n",
       "       [0.26513135],\n",
       "       [0.17476423],\n",
       "       [0.25815234],\n",
       "       [0.05737485],\n",
       "       [0.23954368],\n",
       "       [0.38862675],\n",
       "       [0.48379081],\n",
       "       [0.32441348],\n",
       "       [0.12526266],\n",
       "       [0.23772708],\n",
       "       [0.08563534],\n",
       "       [0.13573654],\n",
       "       [0.18548748],\n",
       "       [0.22185299],\n",
       "       [0.19270724],\n",
       "       [0.16463639],\n",
       "       [0.51713198],\n",
       "       [0.14973825],\n",
       "       [0.25470999],\n",
       "       [0.11708841],\n",
       "       [0.1462118 ],\n",
       "       [0.204561  ],\n",
       "       [0.13675904],\n",
       "       [0.38377482],\n",
       "       [0.31449145],\n",
       "       [0.49068746],\n",
       "       [0.40670466],\n",
       "       [0.18466547],\n",
       "       [0.17185125],\n",
       "       [0.15575784],\n",
       "       [0.1439023 ],\n",
       "       [0.28250769],\n",
       "       [0.16055582],\n",
       "       [0.16923763],\n",
       "       [0.25851107],\n",
       "       [0.16247085],\n",
       "       [0.20863828],\n",
       "       [0.11887543],\n",
       "       [0.28236306],\n",
       "       [0.27334982],\n",
       "       [0.16137084],\n",
       "       [0.14857095],\n",
       "       [0.14086218],\n",
       "       [0.29193491],\n",
       "       [0.20596543],\n",
       "       [0.21755974],\n",
       "       [0.26208025],\n",
       "       [0.18883488],\n",
       "       [0.14782658],\n",
       "       [0.14320745],\n",
       "       [0.20202334],\n",
       "       [0.15076113],\n",
       "       [0.13046473],\n",
       "       [0.17462096],\n",
       "       [0.16190511],\n",
       "       [0.36087787],\n",
       "       [0.22392508],\n",
       "       [0.16357049],\n",
       "       [0.20143387],\n",
       "       [0.54460275],\n",
       "       [0.30944046],\n",
       "       [0.14697139],\n",
       "       [0.18843149],\n",
       "       [0.13915645],\n",
       "       [0.1336022 ],\n",
       "       [0.16779031],\n",
       "       [0.2221376 ],\n",
       "       [0.21462841],\n",
       "       [0.36077651],\n",
       "       [0.13413902],\n",
       "       [0.30326849],\n",
       "       [0.11844175],\n",
       "       [0.12432094],\n",
       "       [0.23065367],\n",
       "       [0.08683921],\n",
       "       [0.34439462],\n",
       "       [0.16939487],\n",
       "       [0.14410996],\n",
       "       [0.3343727 ],\n",
       "       [0.1273295 ],\n",
       "       [0.10707667],\n",
       "       [0.18121251],\n",
       "       [0.10493437],\n",
       "       [0.20594978],\n",
       "       [0.53874779],\n",
       "       [0.23140606],\n",
       "       [0.17649333],\n",
       "       [0.10194453],\n",
       "       [0.39791846],\n",
       "       [0.15582347],\n",
       "       [0.1222085 ],\n",
       "       [0.21067703],\n",
       "       [       nan],\n",
       "       [       nan],\n",
       "       [       nan],\n",
       "       [0.15206276],\n",
       "       [0.10112691],\n",
       "       [0.17481357],\n",
       "       [0.12191793],\n",
       "       [0.20745274],\n",
       "       [0.15294409],\n",
       "       [0.29878095],\n",
       "       [0.30594712],\n",
       "       [0.14170872],\n",
       "       [0.13522384],\n",
       "       [0.22749937],\n",
       "       [0.1354309 ],\n",
       "       [0.22345059],\n",
       "       [0.54614925],\n",
       "       [0.20987728],\n",
       "       [0.44268823],\n",
       "       [0.14028001],\n",
       "       [0.16967058],\n",
       "       [0.1246295 ],\n",
       "       [0.55650294],\n",
       "       [0.11415273],\n",
       "       [0.10835145],\n",
       "       [0.12288074],\n",
       "       [0.35705495],\n",
       "       [0.12728336],\n",
       "       [0.38346145],\n",
       "       [0.15201022],\n",
       "       [0.09263511],\n",
       "       [0.22670278],\n",
       "       [0.07758776],\n",
       "       [0.11373476],\n",
       "       [0.21468267],\n",
       "       [0.10991129],\n",
       "       [0.30557543],\n",
       "       [0.0834173 ],\n",
       "       [0.22643223],\n",
       "       [0.19268905],\n",
       "       [0.42130715],\n",
       "       [0.12308022],\n",
       "       [0.18718697],\n",
       "       [0.08689153],\n",
       "       [0.13105838],\n",
       "       [0.10961614],\n",
       "       [0.29747263],\n",
       "       [0.20668395],\n",
       "       [0.32650116],\n",
       "       [0.07714356],\n",
       "       [0.12172413],\n",
       "       [0.16189349],\n",
       "       [0.10151197],\n",
       "       [0.12287907],\n",
       "       [0.11727357]])"
      ]
     },
     "execution_count": 9,
     "metadata": {},
     "output_type": "execute_result"
    }
   ],
   "source": [
    "result_testerror2"
   ]
  },
  {
   "cell_type": "code",
   "execution_count": 12,
   "id": "3b75ca13",
   "metadata": {},
   "outputs": [],
   "source": [
    "result_testerror2[result_testerror2>0.5] =0"
   ]
  },
  {
   "cell_type": "code",
   "execution_count": 31,
   "id": "bb375ac0",
   "metadata": {},
   "outputs": [],
   "source": [
    "from sklearn import neural_network"
   ]
  },
  {
   "cell_type": "code",
   "execution_count": 34,
   "id": "86d8d549",
   "metadata": {},
   "outputs": [],
   "source": [
    "?neural_network.MLPRegressor"
   ]
  },
  {
   "cell_type": "code",
   "execution_count": 52,
   "id": "e516e658",
   "metadata": {},
   "outputs": [],
   "source": [
    "nnr = neural_network.MLPRegressor(hidden_layer_sizes=(int(np.ceil(Nd/20))),learning_rate_init=0.01)"
   ]
  },
  {
   "cell_type": "code",
   "execution_count": 54,
   "id": "27d40efc",
   "metadata": {},
   "outputs": [
    {
     "data": {
      "text/html": [
       "<style>#sk-container-id-3 {color: black;background-color: white;}#sk-container-id-3 pre{padding: 0;}#sk-container-id-3 div.sk-toggleable {background-color: white;}#sk-container-id-3 label.sk-toggleable__label {cursor: pointer;display: block;width: 100%;margin-bottom: 0;padding: 0.3em;box-sizing: border-box;text-align: center;}#sk-container-id-3 label.sk-toggleable__label-arrow:before {content: \"▸\";float: left;margin-right: 0.25em;color: #696969;}#sk-container-id-3 label.sk-toggleable__label-arrow:hover:before {color: black;}#sk-container-id-3 div.sk-estimator:hover label.sk-toggleable__label-arrow:before {color: black;}#sk-container-id-3 div.sk-toggleable__content {max-height: 0;max-width: 0;overflow: hidden;text-align: left;background-color: #f0f8ff;}#sk-container-id-3 div.sk-toggleable__content pre {margin: 0.2em;color: black;border-radius: 0.25em;background-color: #f0f8ff;}#sk-container-id-3 input.sk-toggleable__control:checked~div.sk-toggleable__content {max-height: 200px;max-width: 100%;overflow: auto;}#sk-container-id-3 input.sk-toggleable__control:checked~label.sk-toggleable__label-arrow:before {content: \"▾\";}#sk-container-id-3 div.sk-estimator input.sk-toggleable__control:checked~label.sk-toggleable__label {background-color: #d4ebff;}#sk-container-id-3 div.sk-label input.sk-toggleable__control:checked~label.sk-toggleable__label {background-color: #d4ebff;}#sk-container-id-3 input.sk-hidden--visually {border: 0;clip: rect(1px 1px 1px 1px);clip: rect(1px, 1px, 1px, 1px);height: 1px;margin: -1px;overflow: hidden;padding: 0;position: absolute;width: 1px;}#sk-container-id-3 div.sk-estimator {font-family: monospace;background-color: #f0f8ff;border: 1px dotted black;border-radius: 0.25em;box-sizing: border-box;margin-bottom: 0.5em;}#sk-container-id-3 div.sk-estimator:hover {background-color: #d4ebff;}#sk-container-id-3 div.sk-parallel-item::after {content: \"\";width: 100%;border-bottom: 1px solid gray;flex-grow: 1;}#sk-container-id-3 div.sk-label:hover label.sk-toggleable__label {background-color: #d4ebff;}#sk-container-id-3 div.sk-serial::before {content: \"\";position: absolute;border-left: 1px solid gray;box-sizing: border-box;top: 0;bottom: 0;left: 50%;z-index: 0;}#sk-container-id-3 div.sk-serial {display: flex;flex-direction: column;align-items: center;background-color: white;padding-right: 0.2em;padding-left: 0.2em;position: relative;}#sk-container-id-3 div.sk-item {position: relative;z-index: 1;}#sk-container-id-3 div.sk-parallel {display: flex;align-items: stretch;justify-content: center;background-color: white;position: relative;}#sk-container-id-3 div.sk-item::before, #sk-container-id-3 div.sk-parallel-item::before {content: \"\";position: absolute;border-left: 1px solid gray;box-sizing: border-box;top: 0;bottom: 0;left: 50%;z-index: -1;}#sk-container-id-3 div.sk-parallel-item {display: flex;flex-direction: column;z-index: 1;position: relative;background-color: white;}#sk-container-id-3 div.sk-parallel-item:first-child::after {align-self: flex-end;width: 50%;}#sk-container-id-3 div.sk-parallel-item:last-child::after {align-self: flex-start;width: 50%;}#sk-container-id-3 div.sk-parallel-item:only-child::after {width: 0;}#sk-container-id-3 div.sk-dashed-wrapped {border: 1px dashed gray;margin: 0 0.4em 0.5em 0.4em;box-sizing: border-box;padding-bottom: 0.4em;background-color: white;}#sk-container-id-3 div.sk-label label {font-family: monospace;font-weight: bold;display: inline-block;line-height: 1.2em;}#sk-container-id-3 div.sk-label-container {text-align: center;}#sk-container-id-3 div.sk-container {/* jupyter's `normalize.less` sets `[hidden] { display: none; }` but bootstrap.min.css set `[hidden] { display: none !important; }` so we also need the `!important` here to be able to override the default hidden behavior on the sphinx rendered scikit-learn.org. See: https://github.com/scikit-learn/scikit-learn/issues/21755 */display: inline-block !important;position: relative;}#sk-container-id-3 div.sk-text-repr-fallback {display: none;}</style><div id=\"sk-container-id-3\" class=\"sk-top-container\"><div class=\"sk-text-repr-fallback\"><pre>MLPRegressor(hidden_layer_sizes=729, learning_rate_init=0.01)</pre><b>In a Jupyter environment, please rerun this cell to show the HTML representation or trust the notebook. <br />On GitHub, the HTML representation is unable to render, please try loading this page with nbviewer.org.</b></div><div class=\"sk-container\" hidden><div class=\"sk-item\"><div class=\"sk-estimator sk-toggleable\"><input class=\"sk-toggleable__control sk-hidden--visually\" id=\"sk-estimator-id-3\" type=\"checkbox\" checked><label for=\"sk-estimator-id-3\" class=\"sk-toggleable__label sk-toggleable__label-arrow\">MLPRegressor</label><div class=\"sk-toggleable__content\"><pre>MLPRegressor(hidden_layer_sizes=729, learning_rate_init=0.01)</pre></div></div></div></div></div>"
      ],
      "text/plain": [
       "MLPRegressor(hidden_layer_sizes=729, learning_rate_init=0.01)"
      ]
     },
     "execution_count": 54,
     "metadata": {},
     "output_type": "execute_result"
    }
   ],
   "source": [
    "nnr.fit(np.array(x_train),np.array(y_train.squeeze(1)))"
   ]
  },
  {
   "cell_type": "code",
   "execution_count": 50,
   "id": "61857c82",
   "metadata": {},
   "outputs": [
    {
     "data": {
      "text/plain": [
       "(100,)"
      ]
     },
     "execution_count": 50,
     "metadata": {},
     "output_type": "execute_result"
    }
   ],
   "source": [
    "nnr.hidden_layer_sizes"
   ]
  },
  {
   "cell_type": "code",
   "execution_count": 56,
   "id": "9885c409",
   "metadata": {},
   "outputs": [
    {
     "data": {
      "text/plain": [
       "tensor([[-1.3516],\n",
       "        [-0.4599],\n",
       "        [-1.0487],\n",
       "        ...,\n",
       "        [ 0.4543],\n",
       "        [-0.5824],\n",
       "        [-0.0998]])"
      ]
     },
     "execution_count": 56,
     "metadata": {},
     "output_type": "execute_result"
    }
   ],
   "source": [
    "torch.FloatTensor(nnr.predict(x_test)).unsqueeze(-1)"
   ]
  },
  {
   "cell_type": "code",
   "execution_count": 59,
   "id": "217c17b6",
   "metadata": {},
   "outputs": [
    {
     "data": {
      "text/plain": [
       "tensor(0.4837)"
      ]
     },
     "execution_count": 59,
     "metadata": {},
     "output_type": "execute_result"
    }
   ],
   "source": [
    "criterion(torch.FloatTensor(nnr.predict(x_test)).unsqueeze(-1),y_test)"
   ]
  },
  {
   "cell_type": "code",
   "execution_count": null,
   "id": "b69ff38a",
   "metadata": {},
   "outputs": [],
   "source": []
  }
 ],
 "metadata": {
  "kernelspec": {
   "display_name": "Python 3 (ipykernel)",
   "language": "python",
   "name": "python3"
  },
  "language_info": {
   "codemirror_mode": {
    "name": "ipython",
    "version": 3
   },
   "file_extension": ".py",
   "mimetype": "text/x-python",
   "name": "python",
   "nbconvert_exporter": "python",
   "pygments_lexer": "ipython3",
   "version": "3.9.12"
  }
 },
 "nbformat": 4,
 "nbformat_minor": 5
}
